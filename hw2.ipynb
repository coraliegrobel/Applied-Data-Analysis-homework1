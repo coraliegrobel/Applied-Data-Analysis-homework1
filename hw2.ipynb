{
 "cells": [
  {
   "cell_type": "markdown",
   "metadata": {
    "pycharm": {
     "name": "#%% md\n"
    }
   },
   "source": [
    "# Homework 2 (HW2)\n",
    "\n",
    "---\n",
    "By the end of this homework we expect you to be able to:\n",
    "1. Preprocess data and make it amenable to statistical analysis and machine learning models;\n",
    "2. Train and test out-of-the-box machine learning models in Python;\n",
    "3. Carry out statistical hypothesis testing;\n",
    "4. Carry out simple multivariate regression analyses;\n",
    "5. Use techniques to control for covariates;\n",
    "\n",
    "---\n",
    "\n",
    "## Important Dates\n",
    "\n",
    "- Homework release: Fri 12 Nov 2021\n",
    "- **Homework due**: Fri 26 Nov 2021, 23:59\n",
    "- Grade release: Fri 03 Dec 2021\n",
    "\n",
    "---\n",
    "\n",
    "##  Some rules\n",
    "\n",
    "1. You are allowed to use any built-in Python library that comes with Anaconda. If you want to use an external library, \n",
    "you may do so, but must justify your choice.\n",
    "2. Make sure you use the `data` folder provided in the repository in read-only mode. (Or alternatively, be sure you \n",
    "don’t change any of the files.)\n",
    "3. Be sure to provide a textual description of your thought process, the assumptions you made, the solution you \n",
    "implemented, and explanations for your answers. A notebook that only has code cells will not suffice.\n",
    "4. For questions containing the **/Discuss:/** prefix, answer not with code, but with a textual explanation\n",
    " (**in markdown**).\n",
    "5. Back up any hypotheses and claims with data, since this is an important aspect of the course.\n",
    "6. Please write all your comments in English, and use meaningful variable names in your code. Your repo should have a \n",
    "single notebook (plus the required data files) in the *master/main* branch. If there are multiple notebooks present, \n",
    "we will **not grade** anything.\n",
    "7. We will **not run your notebook for you**! Rather, we will grade it as is, which means that only the results \n",
    "contained in your evaluated code cells will be considered, and we will not see the results in unevaluated code cells. \n",
    "Thus, be sure to hand in a **fully-run and evaluated notebook**. In order to check whether everything looks as intended, you can check the rendered notebook on the GitHub website once you have pushed your solution there.\n",
    "8. In continuation to the previous point, interactive plots, such as those generated using `plotly`, should be **strictly avoided**!\n",
    "9. Make sure to print results or dataframes that confirm you have properly addressed the task.\n",
    "\n",
    "---\n",
    "\n",
    "## Context\n",
    "\n",
    "Congratulations! You have just been hired as a data scientist at *Piccardi Music,* a promising new music label created by a mysterious Italian disc jockey \"*Signor Piccardi*\". The company hired you to carry out a variety of data-related tasks, which will be explained in further detail below.\n",
    "\n",
    "---\n",
    "\n",
    "## The data\n",
    "\n",
    "For this homework you will use a dataset of 18,403 music reviews scraped from Pitchfork¹, including relevant metadata such as review author, review date, record release year, review score, and genre, along with the respective album's audio features pulled from Spotify's API. The data consists of the following columns:\n",
    "\n",
    "| Column   | Description  |\n",
    "|----------|:-------------|\n",
    "| `artist`           | The name of the artist who created the album being reviewed. |\n",
    "| `album`            | The name of the album being reviewed. |\n",
    "| `recordlabel`      | The name of the record label(s) who published the album. |\n",
    "| `releaseyear`      | The year that the album was released. |\n",
    "| `score`            | The score given to the album by the reviewer on a scale of 0.0 to 10.0. |\n",
    "| `reviewauthor`     | The name of the author who reviewed the album. |\n",
    "| `genre`            | The genre assigned to the album by Pitchfork. |\n",
    "| `reviewdate`       | The date that the review was published.  |\n",
    "| `key` | The estimated overall musical key of the track. Integers map to pitches using standard Pitch Class notation (e.g., 0 = C, 2 = D, and so on) |\n",
    "| `acousticness` | A confidence measure from 0.0 to 1.0 of whether an album is acoustic. 1.0 represents high confidencethat the album is acoustic. |\n",
    "| `danceability` | How suitable an album is for dancing based on a combination of musical elements including tempo, rhythm stability, beat strength, and overall regularity. A value of 1.0 is most danceable.\n",
    "| `energy` | A perceptual measure of intensity and activity, from 0.0 to 1.0, where 1.0 represents high energy. Metal is often high energy. |\n",
    "| `instrumentalness` | Predicts whether an album contains no vocals, from 0.0 to 1.0. The closer to 1.0, the more likely the album contains no vocals. |\n",
    "| `liveness` | Detects the presence of an audience, from 0.0 to 1.0. Scores greater than 0.8 indicate a strong likelihood the album is live. |\n",
    "| `loudness` | The overall loudness of the album in decibels (dB). |\n",
    "| `speechiness` | Measures the presence of spoken words in an album on a scale from 0.0 to 1.0. Scores higher than 0.66 indicate an album made entirely of spoken words, while scores below 0.33 indicate music and other non-speech-like elements. |\n",
    "| `valence` | A measure from 0.0 to 1.0 describing the musical positiveness conveyed by an album, where values closer to 1.0 indicate more positive sounds. |\n",
    "| `tempo` | The overall estimated tempo of an album in beats per minute (BPM). |\n",
    "\n",
    "¹Pinter, Anthony T., et al. \"P4KxSpotify: A Dataset of Pitchfork Music Reviews and Spotify Musical Features.\" Proceedings of the International AAAI Conference on Web and Social Media. Vol. 14. 2020."
   ]
  },
  {
   "cell_type": "code",
   "execution_count": 1,
   "metadata": {},
   "outputs": [],
   "source": [
    "# CHANGE THIS IF YOU NEED/WANT TOO\n",
    "\n",
    "# pandas / numpy\n",
    "import pandas as pd\n",
    "import numpy as np\n",
    "\n",
    "# plotting\n",
    "import matplotlib.pyplot as plt\n",
    "import seaborn as sns\n",
    "\n",
    "# ttest and euclidean distance\n",
    "from scipy.stats import ttest_ind\n",
    "from scipy.spatial.distance import seuclidean\n",
    "\n",
    "# linear fit using statsmodels\n",
    "import statsmodels.formula.api as smf\n",
    "\n",
    "# good ole sklearn\n",
    "from sklearn.metrics import r2_score\n",
    "from sklearn.linear_model import LinearRegression\n",
    "from sklearn.ensemble import GradientBoostingRegressor\n",
    "from sklearn.model_selection import train_test_split\n",
    "\n",
    "# For task 5.3: to plot histograms\n",
    "import seaborn as sns\n",
    "\n",
    "# For task 4.3\n",
    "import itertools"
   ]
  },
  {
   "cell_type": "markdown",
   "metadata": {
    "pycharm": {
     "name": "#%% md\n"
    }
   },
   "source": [
    "## Part 1: Will this album be a hit?\n",
    "\n",
    "The first project you embark on in your new job is to build a regressor to predict whether an album will be well received or not. According to *Signor Piccardi* (your boss), this algorithm may eventually be helpful in forecasting the success of albums produced by *Piccardi Music*."
   ]
  },
  {
   "cell_type": "markdown",
   "metadata": {},
   "source": [
    "**Task 1 (Initial analyses — 10 pts)**\n",
    "\n",
    "As a good data scientist, the first thing you do is to have a good look at the data that was handed to you.\n",
    "\n",
    "1. Load the data using `pandas`. Identify and remove duplicate reviews, i.e., two reviews with albums by the same band with the same name (keep the first occurrence). Print the number of rows in your dataframe.\n",
    "\n",
    "2. Plot the distribution of album release years and the average score of albums per year.\n",
    "\n",
    "3. For numerical columns, calculate the mean, median, minimum value and maximum value. Additionally, plot the distribution for all the numerical columns in a single image (possibly with multiple subplots). Your image should be at most 14 inches wide by 14 inches long.\n",
    "\n",
    "3. For categorical columns, list how many different values there are in each column. If there are less than 10 distinct values for a category, print them all. For the `genre` column, assign the value `'Other'` for albums where the value is either `'none'` or `NaN`.\n",
    "\n",
    "5. **Discuss:** This dataset was built with *found data*—i.e., the Pitchfork reviews were not made with the goal of training a machine learning model. Grounded on the previous analyses and in Pitchfork's [Wikipedia page](https://en.wikipedia.org/wiki/Pitchfork_(website)), point **three** (exactly!) ways in which this data may not be representative of music albums in general due to the way the data was collected. \n",
    "\n",
    "---"
   ]
  },
  {
   "cell_type": "markdown",
   "metadata": {},
   "source": [
    "_1. Load the data using pandas. Identify and remove duplicate reviews, i.e., two reviews with albums by the same band with the same name (keep the first occurrence). Print the number of rows in your dataframe._"
   ]
  },
  {
   "cell_type": "markdown",
   "metadata": {},
   "source": [
    "We start by importing the dataset of Pitchfork Music Reviews and Spotify Musical Features."
   ]
  },
  {
   "cell_type": "code",
   "execution_count": 2,
   "metadata": {
    "tags": []
   },
   "outputs": [],
   "source": [
    "PATH = 'data/'\n",
    "DATA_FILE = 'pitchfork.csv.gz'\n",
    "df = pd.read_csv(PATH + DATA_FILE, compression = 'gzip')"
   ]
  },
  {
   "cell_type": "markdown",
   "metadata": {},
   "source": [
    "To ensure reproducibility in our notebook, we set a seed equal to 1."
   ]
  },
  {
   "cell_type": "code",
   "execution_count": 3,
   "metadata": {},
   "outputs": [],
   "source": [
    "seed = 1\n",
    "np.random.seed(seed)"
   ]
  },
  {
   "cell_type": "markdown",
   "metadata": {},
   "source": [
    "Let's have a first glance at the data and data shape."
   ]
  },
  {
   "cell_type": "code",
   "execution_count": 4,
   "metadata": {},
   "outputs": [
    {
     "name": "stdout",
     "output_type": "stream",
     "text": [
      "The data is of shape (16785, 18)\n"
     ]
    },
    {
     "data": {
      "text/html": [
       "<div>\n",
       "<style scoped>\n",
       "    .dataframe tbody tr th:only-of-type {\n",
       "        vertical-align: middle;\n",
       "    }\n",
       "\n",
       "    .dataframe tbody tr th {\n",
       "        vertical-align: top;\n",
       "    }\n",
       "\n",
       "    .dataframe thead th {\n",
       "        text-align: right;\n",
       "    }\n",
       "</style>\n",
       "<table border=\"1\" class=\"dataframe\">\n",
       "  <thead>\n",
       "    <tr style=\"text-align: right;\">\n",
       "      <th></th>\n",
       "      <th>artist</th>\n",
       "      <th>album</th>\n",
       "      <th>reviewauthor</th>\n",
       "      <th>score</th>\n",
       "      <th>releaseyear</th>\n",
       "      <th>reviewdate</th>\n",
       "      <th>recordlabel</th>\n",
       "      <th>genre</th>\n",
       "      <th>danceability</th>\n",
       "      <th>energy</th>\n",
       "      <th>key</th>\n",
       "      <th>loudness</th>\n",
       "      <th>speechiness</th>\n",
       "      <th>acousticness</th>\n",
       "      <th>instrumentalness</th>\n",
       "      <th>liveness</th>\n",
       "      <th>valence</th>\n",
       "      <th>tempo</th>\n",
       "    </tr>\n",
       "  </thead>\n",
       "  <tbody>\n",
       "    <tr>\n",
       "      <th>0</th>\n",
       "      <td>Studio 1</td>\n",
       "      <td>Studio 1</td>\n",
       "      <td>Andy Battaglia</td>\n",
       "      <td>8.5</td>\n",
       "      <td>2009.0</td>\n",
       "      <td>February 18 2009</td>\n",
       "      <td>Studio</td>\n",
       "      <td>Electronic</td>\n",
       "      <td>0.512</td>\n",
       "      <td>0.500</td>\n",
       "      <td>5.250</td>\n",
       "      <td>-5.627</td>\n",
       "      <td>0.032</td>\n",
       "      <td>0.725</td>\n",
       "      <td>0.024</td>\n",
       "      <td>0.165</td>\n",
       "      <td>0.555</td>\n",
       "      <td>101.395</td>\n",
       "    </tr>\n",
       "    <tr>\n",
       "      <th>1</th>\n",
       "      <td>John Fahey</td>\n",
       "      <td>The Great Santa Barbara Oil Slick</td>\n",
       "      <td>Mark Richardson</td>\n",
       "      <td>8.2</td>\n",
       "      <td>2005.0</td>\n",
       "      <td>February 13 2005</td>\n",
       "      <td>Water</td>\n",
       "      <td>Folk/Country</td>\n",
       "      <td>0.370</td>\n",
       "      <td>0.325</td>\n",
       "      <td>4.471</td>\n",
       "      <td>-19.154</td>\n",
       "      <td>0.149</td>\n",
       "      <td>0.647</td>\n",
       "      <td>0.559</td>\n",
       "      <td>0.528</td>\n",
       "      <td>0.179</td>\n",
       "      <td>107.623</td>\n",
       "    </tr>\n",
       "    <tr>\n",
       "      <th>2</th>\n",
       "      <td>Reigning Sound</td>\n",
       "      <td>Too Much Guitar</td>\n",
       "      <td>Stephen M. Deusner</td>\n",
       "      <td>8.3</td>\n",
       "      <td>2004.0</td>\n",
       "      <td>August 19 2004</td>\n",
       "      <td>In the Red</td>\n",
       "      <td>Electronic</td>\n",
       "      <td>0.254</td>\n",
       "      <td>0.913</td>\n",
       "      <td>4.429</td>\n",
       "      <td>-1.090</td>\n",
       "      <td>0.056</td>\n",
       "      <td>0.000</td>\n",
       "      <td>0.751</td>\n",
       "      <td>0.199</td>\n",
       "      <td>0.553</td>\n",
       "      <td>133.896</td>\n",
       "    </tr>\n",
       "    <tr>\n",
       "      <th>3</th>\n",
       "      <td>The Red Thread</td>\n",
       "      <td>After the Last</td>\n",
       "      <td>Chris Dahlen</td>\n",
       "      <td>7.3</td>\n",
       "      <td>2003.0</td>\n",
       "      <td>July 17 2003</td>\n",
       "      <td>Badman</td>\n",
       "      <td>Rock</td>\n",
       "      <td>0.425</td>\n",
       "      <td>0.433</td>\n",
       "      <td>5.700</td>\n",
       "      <td>-12.871</td>\n",
       "      <td>0.028</td>\n",
       "      <td>0.310</td>\n",
       "      <td>0.224</td>\n",
       "      <td>0.125</td>\n",
       "      <td>0.451</td>\n",
       "      <td>104.354</td>\n",
       "    </tr>\n",
       "    <tr>\n",
       "      <th>4</th>\n",
       "      <td>Mac Miller</td>\n",
       "      <td>Swimming</td>\n",
       "      <td>Evan Rytlewski</td>\n",
       "      <td>7.5</td>\n",
       "      <td>2018.0</td>\n",
       "      <td>August 3 2018</td>\n",
       "      <td>Warner Bros.</td>\n",
       "      <td>Rap</td>\n",
       "      <td>0.625</td>\n",
       "      <td>0.438</td>\n",
       "      <td>4.154</td>\n",
       "      <td>-9.456</td>\n",
       "      <td>0.170</td>\n",
       "      <td>0.652</td>\n",
       "      <td>0.013</td>\n",
       "      <td>0.121</td>\n",
       "      <td>0.281</td>\n",
       "      <td>122.121</td>\n",
       "    </tr>\n",
       "  </tbody>\n",
       "</table>\n",
       "</div>"
      ],
      "text/plain": [
       "           artist                              album        reviewauthor  \\\n",
       "0        Studio 1                           Studio 1      Andy Battaglia   \n",
       "1      John Fahey  The Great Santa Barbara Oil Slick     Mark Richardson   \n",
       "2  Reigning Sound                    Too Much Guitar  Stephen M. Deusner   \n",
       "3  The Red Thread                     After the Last        Chris Dahlen   \n",
       "4      Mac Miller                           Swimming      Evan Rytlewski   \n",
       "\n",
       "   score  releaseyear        reviewdate   recordlabel         genre  \\\n",
       "0    8.5       2009.0  February 18 2009        Studio    Electronic   \n",
       "1    8.2       2005.0  February 13 2005         Water  Folk/Country   \n",
       "2    8.3       2004.0    August 19 2004    In the Red    Electronic   \n",
       "3    7.3       2003.0      July 17 2003        Badman          Rock   \n",
       "4    7.5       2018.0     August 3 2018  Warner Bros.           Rap   \n",
       "\n",
       "   danceability  energy    key  loudness  speechiness  acousticness  \\\n",
       "0         0.512   0.500  5.250    -5.627        0.032         0.725   \n",
       "1         0.370   0.325  4.471   -19.154        0.149         0.647   \n",
       "2         0.254   0.913  4.429    -1.090        0.056         0.000   \n",
       "3         0.425   0.433  5.700   -12.871        0.028         0.310   \n",
       "4         0.625   0.438  4.154    -9.456        0.170         0.652   \n",
       "\n",
       "   instrumentalness  liveness  valence    tempo  \n",
       "0             0.024     0.165    0.555  101.395  \n",
       "1             0.559     0.528    0.179  107.623  \n",
       "2             0.751     0.199    0.553  133.896  \n",
       "3             0.224     0.125    0.451  104.354  \n",
       "4             0.013     0.121    0.281  122.121  "
      ]
     },
     "execution_count": 4,
     "metadata": {},
     "output_type": "execute_result"
    }
   ],
   "source": [
    "print(\"The data is of shape\", df.shape)\n",
    "df.head().round(decimals = 3)"
   ]
  },
  {
   "cell_type": "markdown",
   "metadata": {},
   "source": [
    "We then remove duplicate reviews."
   ]
  },
  {
   "cell_type": "code",
   "execution_count": 5,
   "metadata": {},
   "outputs": [
    {
     "name": "stdout",
     "output_type": "stream",
     "text": [
      "After duplicates deletion, the data is of shape (16738, 18)\n"
     ]
    }
   ],
   "source": [
    "# Creation of a clean version of the data (without modifying the original one)\n",
    "cleaned_df = df.copy(deep = True)\n",
    "\n",
    "# We set artist' and albums' names to lower cases to not miss duplicates\n",
    "# We could improve it by using the levenstein distance\n",
    "cleaned_df['artist'] = cleaned_df['artist'].str.lower()\n",
    "cleaned_df['album'] = cleaned_df['album'].str.lower()\n",
    "\n",
    "# Drop of duplicates\n",
    "cleaned_df = cleaned_df.drop_duplicates(subset = ['album', 'artist'], keep = 'first', inplace = False)\n",
    "print(\"After duplicates deletion, the data is of shape\", cleaned_df.shape)"
   ]
  },
  {
   "cell_type": "markdown",
   "metadata": {},
   "source": [
    "We see that the new number of rows is **16738**. Let's again print the data set."
   ]
  },
  {
   "cell_type": "code",
   "execution_count": 6,
   "metadata": {
    "scrolled": true
   },
   "outputs": [
    {
     "data": {
      "text/html": [
       "<div>\n",
       "<style scoped>\n",
       "    .dataframe tbody tr th:only-of-type {\n",
       "        vertical-align: middle;\n",
       "    }\n",
       "\n",
       "    .dataframe tbody tr th {\n",
       "        vertical-align: top;\n",
       "    }\n",
       "\n",
       "    .dataframe thead th {\n",
       "        text-align: right;\n",
       "    }\n",
       "</style>\n",
       "<table border=\"1\" class=\"dataframe\">\n",
       "  <thead>\n",
       "    <tr style=\"text-align: right;\">\n",
       "      <th></th>\n",
       "      <th>artist</th>\n",
       "      <th>album</th>\n",
       "      <th>reviewauthor</th>\n",
       "      <th>score</th>\n",
       "      <th>releaseyear</th>\n",
       "      <th>reviewdate</th>\n",
       "      <th>recordlabel</th>\n",
       "      <th>genre</th>\n",
       "      <th>danceability</th>\n",
       "      <th>energy</th>\n",
       "      <th>key</th>\n",
       "      <th>loudness</th>\n",
       "      <th>speechiness</th>\n",
       "      <th>acousticness</th>\n",
       "      <th>instrumentalness</th>\n",
       "      <th>liveness</th>\n",
       "      <th>valence</th>\n",
       "      <th>tempo</th>\n",
       "    </tr>\n",
       "  </thead>\n",
       "  <tbody>\n",
       "    <tr>\n",
       "      <th>0</th>\n",
       "      <td>studio 1</td>\n",
       "      <td>studio 1</td>\n",
       "      <td>Andy Battaglia</td>\n",
       "      <td>8.5</td>\n",
       "      <td>2009.0</td>\n",
       "      <td>February 18 2009</td>\n",
       "      <td>Studio</td>\n",
       "      <td>Electronic</td>\n",
       "      <td>0.512</td>\n",
       "      <td>0.500</td>\n",
       "      <td>5.250</td>\n",
       "      <td>-5.627</td>\n",
       "      <td>0.032</td>\n",
       "      <td>0.725</td>\n",
       "      <td>0.024</td>\n",
       "      <td>0.165</td>\n",
       "      <td>0.555</td>\n",
       "      <td>101.395</td>\n",
       "    </tr>\n",
       "    <tr>\n",
       "      <th>1</th>\n",
       "      <td>john fahey</td>\n",
       "      <td>the great santa barbara oil slick</td>\n",
       "      <td>Mark Richardson</td>\n",
       "      <td>8.2</td>\n",
       "      <td>2005.0</td>\n",
       "      <td>February 13 2005</td>\n",
       "      <td>Water</td>\n",
       "      <td>Folk/Country</td>\n",
       "      <td>0.370</td>\n",
       "      <td>0.325</td>\n",
       "      <td>4.471</td>\n",
       "      <td>-19.154</td>\n",
       "      <td>0.149</td>\n",
       "      <td>0.647</td>\n",
       "      <td>0.559</td>\n",
       "      <td>0.528</td>\n",
       "      <td>0.179</td>\n",
       "      <td>107.623</td>\n",
       "    </tr>\n",
       "    <tr>\n",
       "      <th>2</th>\n",
       "      <td>reigning sound</td>\n",
       "      <td>too much guitar</td>\n",
       "      <td>Stephen M. Deusner</td>\n",
       "      <td>8.3</td>\n",
       "      <td>2004.0</td>\n",
       "      <td>August 19 2004</td>\n",
       "      <td>In the Red</td>\n",
       "      <td>Electronic</td>\n",
       "      <td>0.254</td>\n",
       "      <td>0.913</td>\n",
       "      <td>4.429</td>\n",
       "      <td>-1.090</td>\n",
       "      <td>0.056</td>\n",
       "      <td>0.000</td>\n",
       "      <td>0.751</td>\n",
       "      <td>0.199</td>\n",
       "      <td>0.553</td>\n",
       "      <td>133.896</td>\n",
       "    </tr>\n",
       "    <tr>\n",
       "      <th>3</th>\n",
       "      <td>the red thread</td>\n",
       "      <td>after the last</td>\n",
       "      <td>Chris Dahlen</td>\n",
       "      <td>7.3</td>\n",
       "      <td>2003.0</td>\n",
       "      <td>July 17 2003</td>\n",
       "      <td>Badman</td>\n",
       "      <td>Rock</td>\n",
       "      <td>0.425</td>\n",
       "      <td>0.433</td>\n",
       "      <td>5.700</td>\n",
       "      <td>-12.871</td>\n",
       "      <td>0.028</td>\n",
       "      <td>0.310</td>\n",
       "      <td>0.224</td>\n",
       "      <td>0.125</td>\n",
       "      <td>0.451</td>\n",
       "      <td>104.354</td>\n",
       "    </tr>\n",
       "    <tr>\n",
       "      <th>4</th>\n",
       "      <td>mac miller</td>\n",
       "      <td>swimming</td>\n",
       "      <td>Evan Rytlewski</td>\n",
       "      <td>7.5</td>\n",
       "      <td>2018.0</td>\n",
       "      <td>August 3 2018</td>\n",
       "      <td>Warner Bros.</td>\n",
       "      <td>Rap</td>\n",
       "      <td>0.625</td>\n",
       "      <td>0.438</td>\n",
       "      <td>4.154</td>\n",
       "      <td>-9.456</td>\n",
       "      <td>0.170</td>\n",
       "      <td>0.652</td>\n",
       "      <td>0.013</td>\n",
       "      <td>0.121</td>\n",
       "      <td>0.281</td>\n",
       "      <td>122.121</td>\n",
       "    </tr>\n",
       "  </tbody>\n",
       "</table>\n",
       "</div>"
      ],
      "text/plain": [
       "           artist                              album        reviewauthor  \\\n",
       "0        studio 1                           studio 1      Andy Battaglia   \n",
       "1      john fahey  the great santa barbara oil slick     Mark Richardson   \n",
       "2  reigning sound                    too much guitar  Stephen M. Deusner   \n",
       "3  the red thread                     after the last        Chris Dahlen   \n",
       "4      mac miller                           swimming      Evan Rytlewski   \n",
       "\n",
       "   score  releaseyear        reviewdate   recordlabel         genre  \\\n",
       "0    8.5       2009.0  February 18 2009        Studio    Electronic   \n",
       "1    8.2       2005.0  February 13 2005         Water  Folk/Country   \n",
       "2    8.3       2004.0    August 19 2004    In the Red    Electronic   \n",
       "3    7.3       2003.0      July 17 2003        Badman          Rock   \n",
       "4    7.5       2018.0     August 3 2018  Warner Bros.           Rap   \n",
       "\n",
       "   danceability  energy    key  loudness  speechiness  acousticness  \\\n",
       "0         0.512   0.500  5.250    -5.627        0.032         0.725   \n",
       "1         0.370   0.325  4.471   -19.154        0.149         0.647   \n",
       "2         0.254   0.913  4.429    -1.090        0.056         0.000   \n",
       "3         0.425   0.433  5.700   -12.871        0.028         0.310   \n",
       "4         0.625   0.438  4.154    -9.456        0.170         0.652   \n",
       "\n",
       "   instrumentalness  liveness  valence    tempo  \n",
       "0             0.024     0.165    0.555  101.395  \n",
       "1             0.559     0.528    0.179  107.623  \n",
       "2             0.751     0.199    0.553  133.896  \n",
       "3             0.224     0.125    0.451  104.354  \n",
       "4             0.013     0.121    0.281  122.121  "
      ]
     },
     "execution_count": 6,
     "metadata": {},
     "output_type": "execute_result"
    }
   ],
   "source": [
    "cleaned_df.head().round(decimals = 3)"
   ]
  },
  {
   "cell_type": "markdown",
   "metadata": {},
   "source": [
    "We now save a copy of this data frame that we will use for Part 2 (tasks 5 to 8)."
   ]
  },
  {
   "cell_type": "code",
   "execution_count": 7,
   "metadata": {},
   "outputs": [],
   "source": [
    "cleaned_df_part2 = cleaned_df.copy()"
   ]
  },
  {
   "cell_type": "markdown",
   "metadata": {},
   "source": [
    "We see in the table above that the `reviewdate` is not in a good datetime format."
   ]
  },
  {
   "cell_type": "code",
   "execution_count": 8,
   "metadata": {},
   "outputs": [
    {
     "data": {
      "text/html": [
       "<div>\n",
       "<style scoped>\n",
       "    .dataframe tbody tr th:only-of-type {\n",
       "        vertical-align: middle;\n",
       "    }\n",
       "\n",
       "    .dataframe tbody tr th {\n",
       "        vertical-align: top;\n",
       "    }\n",
       "\n",
       "    .dataframe thead th {\n",
       "        text-align: right;\n",
       "    }\n",
       "</style>\n",
       "<table border=\"1\" class=\"dataframe\">\n",
       "  <thead>\n",
       "    <tr style=\"text-align: right;\">\n",
       "      <th></th>\n",
       "      <th>artist</th>\n",
       "      <th>album</th>\n",
       "      <th>reviewauthor</th>\n",
       "      <th>score</th>\n",
       "      <th>releaseyear</th>\n",
       "      <th>reviewdate</th>\n",
       "      <th>recordlabel</th>\n",
       "      <th>genre</th>\n",
       "      <th>danceability</th>\n",
       "      <th>energy</th>\n",
       "      <th>key</th>\n",
       "      <th>loudness</th>\n",
       "      <th>speechiness</th>\n",
       "      <th>acousticness</th>\n",
       "      <th>instrumentalness</th>\n",
       "      <th>liveness</th>\n",
       "      <th>valence</th>\n",
       "      <th>tempo</th>\n",
       "    </tr>\n",
       "  </thead>\n",
       "  <tbody>\n",
       "    <tr>\n",
       "      <th>0</th>\n",
       "      <td>studio 1</td>\n",
       "      <td>studio 1</td>\n",
       "      <td>Andy Battaglia</td>\n",
       "      <td>8.5</td>\n",
       "      <td>2009.0</td>\n",
       "      <td>2009-02-18</td>\n",
       "      <td>Studio</td>\n",
       "      <td>Electronic</td>\n",
       "      <td>0.512</td>\n",
       "      <td>0.500</td>\n",
       "      <td>5.250</td>\n",
       "      <td>-5.627</td>\n",
       "      <td>0.032</td>\n",
       "      <td>0.725</td>\n",
       "      <td>0.024</td>\n",
       "      <td>0.165</td>\n",
       "      <td>0.555</td>\n",
       "      <td>101.395</td>\n",
       "    </tr>\n",
       "    <tr>\n",
       "      <th>1</th>\n",
       "      <td>john fahey</td>\n",
       "      <td>the great santa barbara oil slick</td>\n",
       "      <td>Mark Richardson</td>\n",
       "      <td>8.2</td>\n",
       "      <td>2005.0</td>\n",
       "      <td>2005-02-13</td>\n",
       "      <td>Water</td>\n",
       "      <td>Folk/Country</td>\n",
       "      <td>0.370</td>\n",
       "      <td>0.325</td>\n",
       "      <td>4.471</td>\n",
       "      <td>-19.154</td>\n",
       "      <td>0.149</td>\n",
       "      <td>0.647</td>\n",
       "      <td>0.559</td>\n",
       "      <td>0.528</td>\n",
       "      <td>0.179</td>\n",
       "      <td>107.623</td>\n",
       "    </tr>\n",
       "    <tr>\n",
       "      <th>2</th>\n",
       "      <td>reigning sound</td>\n",
       "      <td>too much guitar</td>\n",
       "      <td>Stephen M. Deusner</td>\n",
       "      <td>8.3</td>\n",
       "      <td>2004.0</td>\n",
       "      <td>2004-08-19</td>\n",
       "      <td>In the Red</td>\n",
       "      <td>Electronic</td>\n",
       "      <td>0.254</td>\n",
       "      <td>0.913</td>\n",
       "      <td>4.429</td>\n",
       "      <td>-1.090</td>\n",
       "      <td>0.056</td>\n",
       "      <td>0.000</td>\n",
       "      <td>0.751</td>\n",
       "      <td>0.199</td>\n",
       "      <td>0.553</td>\n",
       "      <td>133.896</td>\n",
       "    </tr>\n",
       "    <tr>\n",
       "      <th>3</th>\n",
       "      <td>the red thread</td>\n",
       "      <td>after the last</td>\n",
       "      <td>Chris Dahlen</td>\n",
       "      <td>7.3</td>\n",
       "      <td>2003.0</td>\n",
       "      <td>2003-07-17</td>\n",
       "      <td>Badman</td>\n",
       "      <td>Rock</td>\n",
       "      <td>0.425</td>\n",
       "      <td>0.433</td>\n",
       "      <td>5.700</td>\n",
       "      <td>-12.871</td>\n",
       "      <td>0.028</td>\n",
       "      <td>0.310</td>\n",
       "      <td>0.224</td>\n",
       "      <td>0.125</td>\n",
       "      <td>0.451</td>\n",
       "      <td>104.354</td>\n",
       "    </tr>\n",
       "    <tr>\n",
       "      <th>4</th>\n",
       "      <td>mac miller</td>\n",
       "      <td>swimming</td>\n",
       "      <td>Evan Rytlewski</td>\n",
       "      <td>7.5</td>\n",
       "      <td>2018.0</td>\n",
       "      <td>2018-08-03</td>\n",
       "      <td>Warner Bros.</td>\n",
       "      <td>Rap</td>\n",
       "      <td>0.625</td>\n",
       "      <td>0.438</td>\n",
       "      <td>4.154</td>\n",
       "      <td>-9.456</td>\n",
       "      <td>0.170</td>\n",
       "      <td>0.652</td>\n",
       "      <td>0.013</td>\n",
       "      <td>0.121</td>\n",
       "      <td>0.281</td>\n",
       "      <td>122.121</td>\n",
       "    </tr>\n",
       "  </tbody>\n",
       "</table>\n",
       "</div>"
      ],
      "text/plain": [
       "           artist                              album        reviewauthor  \\\n",
       "0        studio 1                           studio 1      Andy Battaglia   \n",
       "1      john fahey  the great santa barbara oil slick     Mark Richardson   \n",
       "2  reigning sound                    too much guitar  Stephen M. Deusner   \n",
       "3  the red thread                     after the last        Chris Dahlen   \n",
       "4      mac miller                           swimming      Evan Rytlewski   \n",
       "\n",
       "   score  releaseyear reviewdate   recordlabel         genre  danceability  \\\n",
       "0    8.5       2009.0 2009-02-18        Studio    Electronic         0.512   \n",
       "1    8.2       2005.0 2005-02-13         Water  Folk/Country         0.370   \n",
       "2    8.3       2004.0 2004-08-19    In the Red    Electronic         0.254   \n",
       "3    7.3       2003.0 2003-07-17        Badman          Rock         0.425   \n",
       "4    7.5       2018.0 2018-08-03  Warner Bros.           Rap         0.625   \n",
       "\n",
       "   energy    key  loudness  speechiness  acousticness  instrumentalness  \\\n",
       "0   0.500  5.250    -5.627        0.032         0.725             0.024   \n",
       "1   0.325  4.471   -19.154        0.149         0.647             0.559   \n",
       "2   0.913  4.429    -1.090        0.056         0.000             0.751   \n",
       "3   0.433  5.700   -12.871        0.028         0.310             0.224   \n",
       "4   0.438  4.154    -9.456        0.170         0.652             0.013   \n",
       "\n",
       "   liveness  valence    tempo  \n",
       "0     0.165    0.555  101.395  \n",
       "1     0.528    0.179  107.623  \n",
       "2     0.199    0.553  133.896  \n",
       "3     0.125    0.451  104.354  \n",
       "4     0.121    0.281  122.121  "
      ]
     },
     "execution_count": 8,
     "metadata": {},
     "output_type": "execute_result"
    }
   ],
   "source": [
    "cleaned_df[\"reviewdate\"] = pd.to_datetime(cleaned_df[\"reviewdate\"])\n",
    "cleaned_df.head().round(decimals = 3)"
   ]
  },
  {
   "cell_type": "markdown",
   "metadata": {},
   "source": [
    "We now generate descriptive statistics of our new data frame."
   ]
  },
  {
   "cell_type": "code",
   "execution_count": 9,
   "metadata": {},
   "outputs": [
    {
     "data": {
      "text/html": [
       "<div>\n",
       "<style scoped>\n",
       "    .dataframe tbody tr th:only-of-type {\n",
       "        vertical-align: middle;\n",
       "    }\n",
       "\n",
       "    .dataframe tbody tr th {\n",
       "        vertical-align: top;\n",
       "    }\n",
       "\n",
       "    .dataframe thead th {\n",
       "        text-align: right;\n",
       "    }\n",
       "</style>\n",
       "<table border=\"1\" class=\"dataframe\">\n",
       "  <thead>\n",
       "    <tr style=\"text-align: right;\">\n",
       "      <th></th>\n",
       "      <th>score</th>\n",
       "      <th>releaseyear</th>\n",
       "      <th>danceability</th>\n",
       "      <th>energy</th>\n",
       "      <th>key</th>\n",
       "      <th>loudness</th>\n",
       "      <th>speechiness</th>\n",
       "      <th>acousticness</th>\n",
       "      <th>instrumentalness</th>\n",
       "      <th>liveness</th>\n",
       "      <th>valence</th>\n",
       "      <th>tempo</th>\n",
       "    </tr>\n",
       "  </thead>\n",
       "  <tbody>\n",
       "    <tr>\n",
       "      <th>count</th>\n",
       "      <td>16738.000</td>\n",
       "      <td>16738.000</td>\n",
       "      <td>16738.000</td>\n",
       "      <td>16738.000</td>\n",
       "      <td>16738.000</td>\n",
       "      <td>16738.000</td>\n",
       "      <td>16738.000</td>\n",
       "      <td>16738.000</td>\n",
       "      <td>16738.000</td>\n",
       "      <td>16738.000</td>\n",
       "      <td>16738.000</td>\n",
       "      <td>16738.000</td>\n",
       "    </tr>\n",
       "    <tr>\n",
       "      <th>mean</th>\n",
       "      <td>7.049</td>\n",
       "      <td>2009.346</td>\n",
       "      <td>0.512</td>\n",
       "      <td>0.601</td>\n",
       "      <td>5.217</td>\n",
       "      <td>-9.283</td>\n",
       "      <td>0.091</td>\n",
       "      <td>0.302</td>\n",
       "      <td>0.275</td>\n",
       "      <td>0.196</td>\n",
       "      <td>0.405</td>\n",
       "      <td>120.326</td>\n",
       "    </tr>\n",
       "    <tr>\n",
       "      <th>std</th>\n",
       "      <td>1.247</td>\n",
       "      <td>7.795</td>\n",
       "      <td>0.159</td>\n",
       "      <td>0.203</td>\n",
       "      <td>1.614</td>\n",
       "      <td>4.238</td>\n",
       "      <td>0.090</td>\n",
       "      <td>0.262</td>\n",
       "      <td>0.299</td>\n",
       "      <td>0.105</td>\n",
       "      <td>0.182</td>\n",
       "      <td>15.482</td>\n",
       "    </tr>\n",
       "    <tr>\n",
       "      <th>min</th>\n",
       "      <td>0.000</td>\n",
       "      <td>1957.000</td>\n",
       "      <td>-1.000</td>\n",
       "      <td>-1.000</td>\n",
       "      <td>-1.000</td>\n",
       "      <td>-51.729</td>\n",
       "      <td>-1.000</td>\n",
       "      <td>-1.000</td>\n",
       "      <td>-1.000</td>\n",
       "      <td>-1.000</td>\n",
       "      <td>-1.000</td>\n",
       "      <td>-1.000</td>\n",
       "    </tr>\n",
       "    <tr>\n",
       "      <th>25%</th>\n",
       "      <td>6.500</td>\n",
       "      <td>2005.000</td>\n",
       "      <td>0.409</td>\n",
       "      <td>0.474</td>\n",
       "      <td>4.333</td>\n",
       "      <td>-11.218</td>\n",
       "      <td>0.041</td>\n",
       "      <td>0.091</td>\n",
       "      <td>0.010</td>\n",
       "      <td>0.135</td>\n",
       "      <td>0.274</td>\n",
       "      <td>111.240</td>\n",
       "    </tr>\n",
       "    <tr>\n",
       "      <th>50%</th>\n",
       "      <td>7.300</td>\n",
       "      <td>2010.000</td>\n",
       "      <td>0.511</td>\n",
       "      <td>0.625</td>\n",
       "      <td>5.231</td>\n",
       "      <td>-8.444</td>\n",
       "      <td>0.057</td>\n",
       "      <td>0.229</td>\n",
       "      <td>0.149</td>\n",
       "      <td>0.174</td>\n",
       "      <td>0.406</td>\n",
       "      <td>120.397</td>\n",
       "    </tr>\n",
       "    <tr>\n",
       "      <th>75%</th>\n",
       "      <td>7.800</td>\n",
       "      <td>2015.000</td>\n",
       "      <td>0.623</td>\n",
       "      <td>0.750</td>\n",
       "      <td>6.100</td>\n",
       "      <td>-6.392</td>\n",
       "      <td>0.100</td>\n",
       "      <td>0.460</td>\n",
       "      <td>0.497</td>\n",
       "      <td>0.228</td>\n",
       "      <td>0.532</td>\n",
       "      <td>129.141</td>\n",
       "    </tr>\n",
       "    <tr>\n",
       "      <th>max</th>\n",
       "      <td>10.000</td>\n",
       "      <td>2019.000</td>\n",
       "      <td>0.974</td>\n",
       "      <td>0.999</td>\n",
       "      <td>11.000</td>\n",
       "      <td>4.078</td>\n",
       "      <td>0.958</td>\n",
       "      <td>0.996</td>\n",
       "      <td>0.982</td>\n",
       "      <td>0.978</td>\n",
       "      <td>0.971</td>\n",
       "      <td>215.972</td>\n",
       "    </tr>\n",
       "  </tbody>\n",
       "</table>\n",
       "</div>"
      ],
      "text/plain": [
       "           score  releaseyear  danceability     energy        key   loudness  \\\n",
       "count  16738.000    16738.000     16738.000  16738.000  16738.000  16738.000   \n",
       "mean       7.049     2009.346         0.512      0.601      5.217     -9.283   \n",
       "std        1.247        7.795         0.159      0.203      1.614      4.238   \n",
       "min        0.000     1957.000        -1.000     -1.000     -1.000    -51.729   \n",
       "25%        6.500     2005.000         0.409      0.474      4.333    -11.218   \n",
       "50%        7.300     2010.000         0.511      0.625      5.231     -8.444   \n",
       "75%        7.800     2015.000         0.623      0.750      6.100     -6.392   \n",
       "max       10.000     2019.000         0.974      0.999     11.000      4.078   \n",
       "\n",
       "       speechiness  acousticness  instrumentalness   liveness    valence  \\\n",
       "count    16738.000     16738.000         16738.000  16738.000  16738.000   \n",
       "mean         0.091         0.302             0.275      0.196      0.405   \n",
       "std          0.090         0.262             0.299      0.105      0.182   \n",
       "min         -1.000        -1.000            -1.000     -1.000     -1.000   \n",
       "25%          0.041         0.091             0.010      0.135      0.274   \n",
       "50%          0.057         0.229             0.149      0.174      0.406   \n",
       "75%          0.100         0.460             0.497      0.228      0.532   \n",
       "max          0.958         0.996             0.982      0.978      0.971   \n",
       "\n",
       "           tempo  \n",
       "count  16738.000  \n",
       "mean     120.326  \n",
       "std       15.482  \n",
       "min       -1.000  \n",
       "25%      111.240  \n",
       "50%      120.397  \n",
       "75%      129.141  \n",
       "max      215.972  "
      ]
     },
     "execution_count": 9,
     "metadata": {},
     "output_type": "execute_result"
    }
   ],
   "source": [
    "cleaned_df.describe().round(decimals = 3)"
   ]
  },
  {
   "cell_type": "markdown",
   "metadata": {},
   "source": [
    "By printing the main propreties of our data frame, we see that the columns `danceability`, `energy`, `key`, `speechiness`, `acousticness`, `instrumentalness`, `liveness` and `valence` show a minimum of -1. However, we know that these features should range from 0.0 to 1.0. Consequently, we will drop the rows with values that do not make any sense, i.e. that are negative."
   ]
  },
  {
   "cell_type": "code",
   "execution_count": 10,
   "metadata": {
    "tags": []
   },
   "outputs": [
    {
     "name": "stdout",
     "output_type": "stream",
     "text": [
      "(16730, 18)\n"
     ]
    },
    {
     "data": {
      "text/html": [
       "<div>\n",
       "<style scoped>\n",
       "    .dataframe tbody tr th:only-of-type {\n",
       "        vertical-align: middle;\n",
       "    }\n",
       "\n",
       "    .dataframe tbody tr th {\n",
       "        vertical-align: top;\n",
       "    }\n",
       "\n",
       "    .dataframe thead th {\n",
       "        text-align: right;\n",
       "    }\n",
       "</style>\n",
       "<table border=\"1\" class=\"dataframe\">\n",
       "  <thead>\n",
       "    <tr style=\"text-align: right;\">\n",
       "      <th></th>\n",
       "      <th>score</th>\n",
       "      <th>releaseyear</th>\n",
       "      <th>danceability</th>\n",
       "      <th>energy</th>\n",
       "      <th>key</th>\n",
       "      <th>loudness</th>\n",
       "      <th>speechiness</th>\n",
       "      <th>acousticness</th>\n",
       "      <th>instrumentalness</th>\n",
       "      <th>liveness</th>\n",
       "      <th>valence</th>\n",
       "      <th>tempo</th>\n",
       "    </tr>\n",
       "  </thead>\n",
       "  <tbody>\n",
       "    <tr>\n",
       "      <th>count</th>\n",
       "      <td>16730.000</td>\n",
       "      <td>16730.000</td>\n",
       "      <td>16730.000</td>\n",
       "      <td>16730.000</td>\n",
       "      <td>16730.000</td>\n",
       "      <td>16730.000</td>\n",
       "      <td>16730.000</td>\n",
       "      <td>16730.000</td>\n",
       "      <td>16730.000</td>\n",
       "      <td>16730.000</td>\n",
       "      <td>16730.000</td>\n",
       "      <td>16730.000</td>\n",
       "    </tr>\n",
       "    <tr>\n",
       "      <th>mean</th>\n",
       "      <td>7.049</td>\n",
       "      <td>2009.346</td>\n",
       "      <td>0.513</td>\n",
       "      <td>0.602</td>\n",
       "      <td>5.219</td>\n",
       "      <td>-9.287</td>\n",
       "      <td>0.091</td>\n",
       "      <td>0.302</td>\n",
       "      <td>0.275</td>\n",
       "      <td>0.197</td>\n",
       "      <td>0.406</td>\n",
       "      <td>120.377</td>\n",
       "    </tr>\n",
       "    <tr>\n",
       "      <th>std</th>\n",
       "      <td>1.247</td>\n",
       "      <td>7.797</td>\n",
       "      <td>0.156</td>\n",
       "      <td>0.201</td>\n",
       "      <td>1.609</td>\n",
       "      <td>4.236</td>\n",
       "      <td>0.087</td>\n",
       "      <td>0.261</td>\n",
       "      <td>0.298</td>\n",
       "      <td>0.102</td>\n",
       "      <td>0.180</td>\n",
       "      <td>15.286</td>\n",
       "    </tr>\n",
       "    <tr>\n",
       "      <th>min</th>\n",
       "      <td>0.000</td>\n",
       "      <td>1957.000</td>\n",
       "      <td>0.039</td>\n",
       "      <td>0.000</td>\n",
       "      <td>0.000</td>\n",
       "      <td>-51.729</td>\n",
       "      <td>0.009</td>\n",
       "      <td>0.000</td>\n",
       "      <td>0.000</td>\n",
       "      <td>0.015</td>\n",
       "      <td>0.000</td>\n",
       "      <td>23.983</td>\n",
       "    </tr>\n",
       "    <tr>\n",
       "      <th>25%</th>\n",
       "      <td>6.500</td>\n",
       "      <td>2005.000</td>\n",
       "      <td>0.409</td>\n",
       "      <td>0.474</td>\n",
       "      <td>4.333</td>\n",
       "      <td>-11.218</td>\n",
       "      <td>0.041</td>\n",
       "      <td>0.091</td>\n",
       "      <td>0.010</td>\n",
       "      <td>0.135</td>\n",
       "      <td>0.274</td>\n",
       "      <td>111.255</td>\n",
       "    </tr>\n",
       "    <tr>\n",
       "      <th>50%</th>\n",
       "      <td>7.300</td>\n",
       "      <td>2010.000</td>\n",
       "      <td>0.511</td>\n",
       "      <td>0.625</td>\n",
       "      <td>5.231</td>\n",
       "      <td>-8.446</td>\n",
       "      <td>0.057</td>\n",
       "      <td>0.229</td>\n",
       "      <td>0.150</td>\n",
       "      <td>0.174</td>\n",
       "      <td>0.406</td>\n",
       "      <td>120.406</td>\n",
       "    </tr>\n",
       "    <tr>\n",
       "      <th>75%</th>\n",
       "      <td>7.800</td>\n",
       "      <td>2015.000</td>\n",
       "      <td>0.623</td>\n",
       "      <td>0.750</td>\n",
       "      <td>6.100</td>\n",
       "      <td>-6.397</td>\n",
       "      <td>0.100</td>\n",
       "      <td>0.461</td>\n",
       "      <td>0.498</td>\n",
       "      <td>0.228</td>\n",
       "      <td>0.532</td>\n",
       "      <td>129.146</td>\n",
       "    </tr>\n",
       "    <tr>\n",
       "      <th>max</th>\n",
       "      <td>10.000</td>\n",
       "      <td>2019.000</td>\n",
       "      <td>0.974</td>\n",
       "      <td>0.999</td>\n",
       "      <td>11.000</td>\n",
       "      <td>4.078</td>\n",
       "      <td>0.958</td>\n",
       "      <td>0.996</td>\n",
       "      <td>0.982</td>\n",
       "      <td>0.978</td>\n",
       "      <td>0.971</td>\n",
       "      <td>215.972</td>\n",
       "    </tr>\n",
       "  </tbody>\n",
       "</table>\n",
       "</div>"
      ],
      "text/plain": [
       "           score  releaseyear  danceability     energy        key   loudness  \\\n",
       "count  16730.000    16730.000     16730.000  16730.000  16730.000  16730.000   \n",
       "mean       7.049     2009.346         0.513      0.602      5.219     -9.287   \n",
       "std        1.247        7.797         0.156      0.201      1.609      4.236   \n",
       "min        0.000     1957.000         0.039      0.000      0.000    -51.729   \n",
       "25%        6.500     2005.000         0.409      0.474      4.333    -11.218   \n",
       "50%        7.300     2010.000         0.511      0.625      5.231     -8.446   \n",
       "75%        7.800     2015.000         0.623      0.750      6.100     -6.397   \n",
       "max       10.000     2019.000         0.974      0.999     11.000      4.078   \n",
       "\n",
       "       speechiness  acousticness  instrumentalness   liveness    valence  \\\n",
       "count    16730.000     16730.000         16730.000  16730.000  16730.000   \n",
       "mean         0.091         0.302             0.275      0.197      0.406   \n",
       "std          0.087         0.261             0.298      0.102      0.180   \n",
       "min          0.009         0.000             0.000      0.015      0.000   \n",
       "25%          0.041         0.091             0.010      0.135      0.274   \n",
       "50%          0.057         0.229             0.150      0.174      0.406   \n",
       "75%          0.100         0.461             0.498      0.228      0.532   \n",
       "max          0.958         0.996             0.982      0.978      0.971   \n",
       "\n",
       "           tempo  \n",
       "count  16730.000  \n",
       "mean     120.377  \n",
       "std       15.286  \n",
       "min       23.983  \n",
       "25%      111.255  \n",
       "50%      120.406  \n",
       "75%      129.146  \n",
       "max      215.972  "
      ]
     },
     "execution_count": 10,
     "metadata": {},
     "output_type": "execute_result"
    }
   ],
   "source": [
    "neg_cols = [\"danceability\", \"energy\", \"key\", \"speechiness\", \"acousticness\", \"instrumentalness\", \"liveness\", \"valence\"]\n",
    "cleaned_df = cleaned_df[~((cleaned_df.danceability < 0) | (cleaned_df.energy < 0) | \\\n",
    "                         (cleaned_df.key < 0) | (cleaned_df.speechiness < 0) | \\\n",
    "                         (cleaned_df.acousticness < 0) | (cleaned_df.instrumentalness < 0) | \\\n",
    "                         (cleaned_df.liveness < 0) | (cleaned_df.valence < 0))]\n",
    "print(cleaned_df.shape)\n",
    "cleaned_df.describe().round(decimals = 3)"
   ]
  },
  {
   "cell_type": "markdown",
   "metadata": {},
   "source": [
    "With the above pre-processing we sucessfully removed all aberrant values that could impact our analysis."
   ]
  },
  {
   "cell_type": "markdown",
   "metadata": {},
   "source": [
    "_2. Plot the distribution of album release years and the average score of albums per year._"
   ]
  },
  {
   "cell_type": "markdown",
   "metadata": {},
   "source": [
    "For homogeneity, let's set the general visual style and colors of our plots."
   ]
  },
  {
   "cell_type": "code",
   "execution_count": 11,
   "metadata": {},
   "outputs": [],
   "source": [
    "sns.set_style(\"whitegrid\")\n",
    "color_palette = sns.color_palette(\"hls\", 8)"
   ]
  },
  {
   "cell_type": "markdown",
   "metadata": {},
   "source": [
    "We now plot the distribution of album release years."
   ]
  },
  {
   "cell_type": "code",
   "execution_count": 12,
   "metadata": {},
   "outputs": [
    {
     "data": {
      "image/png": "[encoded data removed]",
      "text/plain": [
       "<Figure size 720x360 with 1 Axes>"
      ]
     },
     "metadata": {},
     "output_type": "display_data"
    }
   ],
   "source": [
    "plt.figure(figsize = (10,5))\n",
    "cleaned_df[\"releaseyear\"].plot(kind = \"hist\", bins = 60, grid = True, rwidth = 0.9, color = color_palette[0])\n",
    "plt.title('Distribution of album release years')\n",
    "plt.xlabel('Years')\n",
    "plt.ylabel('Counts')\n",
    "plt.grid(axis = 'y', alpha = 0.75)"
   ]
  },
  {
   "cell_type": "markdown",
   "metadata": {},
   "source": [
    "We see that most albums in our data set were released after the year 2000, with the most albums (> 1750 albums) released in 2019. We now plot the average score of albums per year."
   ]
  },
  {
   "cell_type": "code",
   "execution_count": 13,
   "metadata": {},
   "outputs": [
    {
     "data": {
      "image/png": "[encoded data removed]",
      "text/plain": [
       "<Figure size 720x360 with 1 Axes>"
      ]
     },
     "metadata": {},
     "output_type": "display_data"
    }
   ],
   "source": [
    "plt.figure(figsize = (10,5))\n",
    "avg_score_per_year_df = cleaned_df.groupby(['releaseyear'])['score'].agg('mean')\n",
    "avg_score_per_year_df.plot(kind = 'line', x = 'releaseyear', y = 'score', color = color_palette[0])\n",
    "plt.title('Distribution of the average score of albums per year.')\n",
    "plt.xlabel('Years')\n",
    "plt.ylabel('Score')\n",
    "plt.grid(axis = 'y', alpha = 0.75)\n",
    "plt.show()"
   ]
  },
  {
   "cell_type": "markdown",
   "metadata": {},
   "source": [
    "We remark that the mean scores overally decreased with time (being around 9 in 1957 and around 7.2 in 2019)."
   ]
  },
  {
   "cell_type": "markdown",
   "metadata": {},
   "source": [
    "_3. For numerical columns, calculate the mean, median, minimum value and maximum value. Additionally, plot the distribution for all the numerical columns in a single image (possibly with multiple subplots). Your image should be at most 14 inches wide by 14 inches long._"
   ]
  },
  {
   "cell_type": "markdown",
   "metadata": {},
   "source": [
    "Let's compute the different properties of our numercial columns."
   ]
  },
  {
   "cell_type": "code",
   "execution_count": 14,
   "metadata": {},
   "outputs": [
    {
     "data": {
      "text/html": [
       "<div>\n",
       "<style scoped>\n",
       "    .dataframe tbody tr th:only-of-type {\n",
       "        vertical-align: middle;\n",
       "    }\n",
       "\n",
       "    .dataframe tbody tr th {\n",
       "        vertical-align: top;\n",
       "    }\n",
       "\n",
       "    .dataframe thead th {\n",
       "        text-align: right;\n",
       "    }\n",
       "</style>\n",
       "<table border=\"1\" class=\"dataframe\">\n",
       "  <thead>\n",
       "    <tr style=\"text-align: right;\">\n",
       "      <th></th>\n",
       "      <th>score</th>\n",
       "      <th>releaseyear</th>\n",
       "      <th>danceability</th>\n",
       "      <th>energy</th>\n",
       "      <th>key</th>\n",
       "      <th>loudness</th>\n",
       "      <th>speechiness</th>\n",
       "      <th>acousticness</th>\n",
       "      <th>instrumentalness</th>\n",
       "      <th>liveness</th>\n",
       "      <th>valence</th>\n",
       "      <th>tempo</th>\n",
       "    </tr>\n",
       "  </thead>\n",
       "  <tbody>\n",
       "    <tr>\n",
       "      <th>mean</th>\n",
       "      <td>7.049</td>\n",
       "      <td>2009.346</td>\n",
       "      <td>0.513</td>\n",
       "      <td>0.602</td>\n",
       "      <td>5.219</td>\n",
       "      <td>-9.287</td>\n",
       "      <td>0.091</td>\n",
       "      <td>0.302</td>\n",
       "      <td>0.275</td>\n",
       "      <td>0.197</td>\n",
       "      <td>0.406</td>\n",
       "      <td>120.377</td>\n",
       "    </tr>\n",
       "    <tr>\n",
       "      <th>50%</th>\n",
       "      <td>7.300</td>\n",
       "      <td>2010.000</td>\n",
       "      <td>0.511</td>\n",
       "      <td>0.625</td>\n",
       "      <td>5.231</td>\n",
       "      <td>-8.446</td>\n",
       "      <td>0.057</td>\n",
       "      <td>0.229</td>\n",
       "      <td>0.150</td>\n",
       "      <td>0.174</td>\n",
       "      <td>0.406</td>\n",
       "      <td>120.406</td>\n",
       "    </tr>\n",
       "    <tr>\n",
       "      <th>min</th>\n",
       "      <td>0.000</td>\n",
       "      <td>1957.000</td>\n",
       "      <td>0.039</td>\n",
       "      <td>0.000</td>\n",
       "      <td>0.000</td>\n",
       "      <td>-51.729</td>\n",
       "      <td>0.009</td>\n",
       "      <td>0.000</td>\n",
       "      <td>0.000</td>\n",
       "      <td>0.015</td>\n",
       "      <td>0.000</td>\n",
       "      <td>23.983</td>\n",
       "    </tr>\n",
       "    <tr>\n",
       "      <th>max</th>\n",
       "      <td>10.000</td>\n",
       "      <td>2019.000</td>\n",
       "      <td>0.974</td>\n",
       "      <td>0.999</td>\n",
       "      <td>11.000</td>\n",
       "      <td>4.078</td>\n",
       "      <td>0.958</td>\n",
       "      <td>0.996</td>\n",
       "      <td>0.982</td>\n",
       "      <td>0.978</td>\n",
       "      <td>0.971</td>\n",
       "      <td>215.972</td>\n",
       "    </tr>\n",
       "  </tbody>\n",
       "</table>\n",
       "</div>"
      ],
      "text/plain": [
       "       score  releaseyear  danceability  energy     key  loudness  \\\n",
       "mean   7.049     2009.346         0.513   0.602   5.219    -9.287   \n",
       "50%    7.300     2010.000         0.511   0.625   5.231    -8.446   \n",
       "min    0.000     1957.000         0.039   0.000   0.000   -51.729   \n",
       "max   10.000     2019.000         0.974   0.999  11.000     4.078   \n",
       "\n",
       "      speechiness  acousticness  instrumentalness  liveness  valence    tempo  \n",
       "mean        0.091         0.302             0.275     0.197    0.406  120.377  \n",
       "50%         0.057         0.229             0.150     0.174    0.406  120.406  \n",
       "min         0.009         0.000             0.000     0.015    0.000   23.983  \n",
       "max         0.958         0.996             0.982     0.978    0.971  215.972  "
      ]
     },
     "execution_count": 14,
     "metadata": {},
     "output_type": "execute_result"
    }
   ],
   "source": [
    "cleaned_df.describe(include = np.number).loc[['mean', '50%','min', 'max']].round(decimals = 3)"
   ]
  },
  {
   "cell_type": "markdown",
   "metadata": {},
   "source": [
    "Now we print out the numerical columns we have."
   ]
  },
  {
   "cell_type": "code",
   "execution_count": 15,
   "metadata": {},
   "outputs": [
    {
     "data": {
      "text/plain": [
       "Index(['score', 'releaseyear', 'danceability', 'energy', 'key', 'loudness',\n",
       "       'speechiness', 'acousticness', 'instrumentalness', 'liveness',\n",
       "       'valence', 'tempo'],\n",
       "      dtype='object')"
      ]
     },
     "execution_count": 15,
     "metadata": {},
     "output_type": "execute_result"
    }
   ],
   "source": [
    "cleaned_df.describe(include = np.number).columns"
   ]
  },
  {
   "cell_type": "markdown",
   "metadata": {},
   "source": [
    "Now, we can plot the distribution of the numerical columns and compare them."
   ]
  },
  {
   "cell_type": "code",
   "execution_count": 16,
   "metadata": {
    "tags": []
   },
   "outputs": [
    {
     "data": {
      "image/png": "[encoded data removed]",
      "text/plain": [
       "<Figure size 1008x1008 with 12 Axes>"
      ]
     },
     "metadata": {},
     "output_type": "display_data"
    }
   ],
   "source": [
    "plt.figure(figsize = (14,14))\n",
    "num_cols = cleaned_df.describe(include = np.number).columns\n",
    "for idx, num_col in enumerate(num_cols):\n",
    "    sns.set_theme(style = \"whitegrid\")\n",
    "    plt.subplot(4,3,idx + 1)\n",
    "    sns.kdeplot(data = cleaned_df[num_col], palette = color_palette[2])\n",
    "    plt.ylabel(num_col)\n",
    "    plt.xlabel(\"\")\n",
    "    plt.title(\"The distribution of the {}\".format(num_col))\n",
    "plt.show()"
   ]
  },
  {
   "cell_type": "markdown",
   "metadata": {},
   "source": [
    "We see that all features are very differently distributed, with many left- and right-skewed distributions."
   ]
  },
  {
   "cell_type": "markdown",
   "metadata": {},
   "source": [
    "_4. For categorical columns, list how many different values there are in each column. If there are less than 10 distinct values for a category, print them all. For the genre column, assign the value 'Other' for albums where the value is either 'none' or NaN._"
   ]
  },
  {
   "cell_type": "markdown",
   "metadata": {},
   "source": [
    "Let's list how many different values there are in each column."
   ]
  },
  {
   "cell_type": "code",
   "execution_count": 17,
   "metadata": {},
   "outputs": [
    {
     "data": {
      "text/html": [
       "<div>\n",
       "<style scoped>\n",
       "    .dataframe tbody tr th:only-of-type {\n",
       "        vertical-align: middle;\n",
       "    }\n",
       "\n",
       "    .dataframe tbody tr th {\n",
       "        vertical-align: top;\n",
       "    }\n",
       "\n",
       "    .dataframe thead th {\n",
       "        text-align: right;\n",
       "    }\n",
       "</style>\n",
       "<table border=\"1\" class=\"dataframe\">\n",
       "  <thead>\n",
       "    <tr style=\"text-align: right;\">\n",
       "      <th></th>\n",
       "      <th>artist</th>\n",
       "      <th>album</th>\n",
       "      <th>reviewauthor</th>\n",
       "      <th>reviewdate</th>\n",
       "      <th>recordlabel</th>\n",
       "      <th>genre</th>\n",
       "    </tr>\n",
       "  </thead>\n",
       "  <tbody>\n",
       "    <tr>\n",
       "      <th>count</th>\n",
       "      <td>16730</td>\n",
       "      <td>16730</td>\n",
       "      <td>16730</td>\n",
       "      <td>16730</td>\n",
       "      <td>16730</td>\n",
       "      <td>16730</td>\n",
       "    </tr>\n",
       "    <tr>\n",
       "      <th>unique</th>\n",
       "      <td>7888</td>\n",
       "      <td>16165</td>\n",
       "      <td>554</td>\n",
       "      <td>NaN</td>\n",
       "      <td>3030</td>\n",
       "      <td>10</td>\n",
       "    </tr>\n",
       "  </tbody>\n",
       "</table>\n",
       "</div>"
      ],
      "text/plain": [
       "       artist  album reviewauthor reviewdate recordlabel  genre\n",
       "count   16730  16730        16730      16730       16730  16730\n",
       "unique   7888  16165          554        NaN        3030     10"
      ]
     },
     "execution_count": 17,
     "metadata": {},
     "output_type": "execute_result"
    }
   ],
   "source": [
    "# Count of unique entities in each column\n",
    "cleaned_df.describe(exclude = [np.number], datetime_is_numeric = True).loc[['count', 'unique']]"
   ]
  },
  {
   "cell_type": "markdown",
   "metadata": {},
   "source": [
    "We see that there are more than 10 distinct values for all of the categorical columns apart from the genre. Let's have a closer look at its values."
   ]
  },
  {
   "cell_type": "code",
   "execution_count": 18,
   "metadata": {},
   "outputs": [
    {
     "name": "stdout",
     "output_type": "stream",
     "text": [
      "The different genre values are:\n",
      "Electronic, Folk/Country, Rock, Rap, Global, Experimental, Metal, Pop/R&B, Jazz, none\n"
     ]
    }
   ],
   "source": [
    "print('The different genre values are:')\n",
    "print(*cleaned_df['genre'].unique(), sep = \", \")"
   ]
  },
  {
   "cell_type": "markdown",
   "metadata": {},
   "source": [
    "Let's assign the value 'Other' for albums where the value is either 'none' or 'NaN'."
   ]
  },
  {
   "cell_type": "code",
   "execution_count": 19,
   "metadata": {},
   "outputs": [],
   "source": [
    "# Creating the condition to remove the 'none' and 'NaN' values\n",
    "mask = cleaned_df.copy(deep = True)\n",
    "mask = (cleaned_df['genre'] == 'none').copy() | (cleaned_df['genre'] == np.nan).copy()\n",
    "cleaned_df.loc[mask,'genre'] = 'Other'"
   ]
  },
  {
   "cell_type": "code",
   "execution_count": 20,
   "metadata": {},
   "outputs": [
    {
     "name": "stdout",
     "output_type": "stream",
     "text": [
      "The different genre values are:\n",
      "Electronic, Folk/Country, Rock, Rap, Global, Experimental, Metal, Pop/R&B, Jazz, Other\n"
     ]
    }
   ],
   "source": [
    "print('The different genre values are:')\n",
    "print(*cleaned_df['genre'].unique(), sep = \", \")"
   ]
  },
  {
   "cell_type": "markdown",
   "metadata": {},
   "source": [
    "We have correctly replaced 'none' or NaN values by 'Other'."
   ]
  },
  {
   "cell_type": "markdown",
   "metadata": {},
   "source": [
    "Finally, we will drop all rows containing 'none' or 'Nan' values in a column."
   ]
  },
  {
   "cell_type": "code",
   "execution_count": 21,
   "metadata": {},
   "outputs": [
    {
     "name": "stdout",
     "output_type": "stream",
     "text": [
      "(16730, 18)\n"
     ]
    },
    {
     "data": {
      "text/plain": [
       "(16730, 18)"
      ]
     },
     "execution_count": 21,
     "metadata": {},
     "output_type": "execute_result"
    }
   ],
   "source": [
    "print(cleaned_df.shape)\n",
    "cleaned_df.dropna()\n",
    "cleaned_df.shape"
   ]
  },
  {
   "cell_type": "markdown",
   "metadata": {},
   "source": [
    "It seems there are no None or NaN values."
   ]
  },
  {
   "cell_type": "markdown",
   "metadata": {},
   "source": [
    "_5. Discuss: This dataset was built with found data—i.e., the Pitchfork reviews were not made with the goal of training a machine learning model. Grounded on the previous analyses and in Pitchfork's Wikipedia page, point three (exactly!) ways in which this data may not be representative of music albums in general due to the way the data was collected._"
   ]
  },
  {
   "cell_type": "markdown",
   "metadata": {},
   "source": [
    "This data may not be representative of music albums in general due to the following reasons:\n",
    "\n",
    "1. Looking at the analysis above, we see a clear correlation between the albums' release years and their scores. Indeed, starting from the 2000s, the number of albums released increased hugely while their scores diminished. It therefore seems that there is a preference of older albums. Additionally, the average score of each year is proportional to the number of albums released that year. It therefore seems that reviews are \"harder\" with albums the years with many releases. \n",
    "\n",
    "2. Then, from Pitchfork's Wikipedia page, we find that this online music publication clearly favorises specific music genres (independent music, lo-fi and obscure indie rock, the latest being extensively covered in the magasine). As a result, there seems to be a great genre preference (bias) in this dataset.\n",
    "\n",
    "3. Finally, the wikipedia page also criticizes the reviews' content. Indeed, they are published very early, often having provocative content, aiming to attract attention. They also depend hugely on the the review author, making them very biased and sometimes contradictory."
   ]
  },
  {
   "cell_type": "markdown",
   "metadata": {
    "pycharm": {
     "name": "#%% md\n"
    }
   },
   "source": [
    "#### **Task 2 (Pre-processing and pipeline code — 12 pts)**\n",
    "\n",
    "Next, you decide to prepare the code that will help you in training your machine learning models. Also, you implement a simple baseline. For this task, **unless otherwise stated** you must implement functions yourself, instead of relying on `scikit-learn` (you can use `numpy` or `pandas`, though!).\n",
    "\n",
    "1. For each possible value in the `genre` column, create a new column called `{genre}_onehot` (e.g., for `genre=jazz`, create `jazz_onehot`). Collectively, these new columns should \"one hot-encode\" the genre column—for instance, if for a given album the `genre` is filled with the value `jazz`, the `jazz_onehot` column should equal 1 and all other `{genre}_onehot` columns should equal 0. \n",
    "\n",
    "2. Create a function `numpy_helper(df, cols)` to obtain a `numpy.array` out of your `dataframe`. The function should receive a dataframe `df` with N rows and a list of M columns `cols`, and should return a `np.array` of dimension (NxM).\n",
    "\n",
    "3. For each album, build an array of features `X` containing all genre-related one-hot features, and an array of outcomes `y` containing scores. Using the function [`sklearn.model_selection.train_test_split`](https://scikit-learn.org/stable/modules/generated/sklearn.model_selection.train_test_split.html) with `random_state=123`, split the data into a train set containing 70% of all data, and a test set containing the remaining 30%.\n",
    "\n",
    "4. Create your own baseline regressor. Using the training data (in the training stage), your regressor should estimate the average score for all albums. Then, for the test data (in the prediction stage), your classifier should always output the average score (computed on the training data).\n",
    "\n",
    "5. Calculate the [coefficient of determination ($R^2$)](https://scikit-learn.org/stable/modules/generated/sklearn.metrics.r2_score.html) of your baseline on the test data. **You are allowed to use the `sklearn` implementation here.**\n",
    "\n",
    "6. **Discuss:** Your train-test split randomly selected 70% of all data for the training set. Why is this a problem for the broader task of predicting whether a future album will be successful or not?\n",
    "\n",
    "---"
   ]
  },
  {
   "cell_type": "markdown",
   "metadata": {},
   "source": [
    "_1. For each possible value in the `genre` column, create a new column called `{genre}_onehot` (e.g., for `genre=jazz`, create `jazz_onehot`). Collectively, these new columns should \"one hot-encode\" the genre column—for instance, if for a given album the `genre` is filled with the value `jazz`, the `jazz_onehot` column should equal 1 and all other `{genre}_onehot` columns should equal 0._ "
   ]
  },
  {
   "cell_type": "markdown",
   "metadata": {},
   "source": [
    "We create a new column called `{genre}_onehot`. The value in the column is 1 if the album is of the given genre and 0 if it is not."
   ]
  },
  {
   "cell_type": "code",
   "execution_count": 22,
   "metadata": {},
   "outputs": [
    {
     "data": {
      "text/html": [
       "<div>\n",
       "<style scoped>\n",
       "    .dataframe tbody tr th:only-of-type {\n",
       "        vertical-align: middle;\n",
       "    }\n",
       "\n",
       "    .dataframe tbody tr th {\n",
       "        vertical-align: top;\n",
       "    }\n",
       "\n",
       "    .dataframe thead th {\n",
       "        text-align: right;\n",
       "    }\n",
       "</style>\n",
       "<table border=\"1\" class=\"dataframe\">\n",
       "  <thead>\n",
       "    <tr style=\"text-align: right;\">\n",
       "      <th></th>\n",
       "      <th>artist</th>\n",
       "      <th>album</th>\n",
       "      <th>reviewauthor</th>\n",
       "      <th>score</th>\n",
       "      <th>releaseyear</th>\n",
       "      <th>reviewdate</th>\n",
       "      <th>recordlabel</th>\n",
       "      <th>genre</th>\n",
       "      <th>danceability</th>\n",
       "      <th>energy</th>\n",
       "      <th>...</th>\n",
       "      <th>Electronic_onehot</th>\n",
       "      <th>Experimental_onehot</th>\n",
       "      <th>Folk/Country_onehot</th>\n",
       "      <th>Global_onehot</th>\n",
       "      <th>Jazz_onehot</th>\n",
       "      <th>Metal_onehot</th>\n",
       "      <th>Other_onehot</th>\n",
       "      <th>Pop/R&amp;B_onehot</th>\n",
       "      <th>Rap_onehot</th>\n",
       "      <th>Rock_onehot</th>\n",
       "    </tr>\n",
       "  </thead>\n",
       "  <tbody>\n",
       "    <tr>\n",
       "      <th>0</th>\n",
       "      <td>studio 1</td>\n",
       "      <td>studio 1</td>\n",
       "      <td>Andy Battaglia</td>\n",
       "      <td>8.5</td>\n",
       "      <td>2009.0</td>\n",
       "      <td>2009-02-18</td>\n",
       "      <td>Studio</td>\n",
       "      <td>Electronic</td>\n",
       "      <td>0.512</td>\n",
       "      <td>0.500</td>\n",
       "      <td>...</td>\n",
       "      <td>1</td>\n",
       "      <td>0</td>\n",
       "      <td>0</td>\n",
       "      <td>0</td>\n",
       "      <td>0</td>\n",
       "      <td>0</td>\n",
       "      <td>0</td>\n",
       "      <td>0</td>\n",
       "      <td>0</td>\n",
       "      <td>0</td>\n",
       "    </tr>\n",
       "    <tr>\n",
       "      <th>1</th>\n",
       "      <td>john fahey</td>\n",
       "      <td>the great santa barbara oil slick</td>\n",
       "      <td>Mark Richardson</td>\n",
       "      <td>8.2</td>\n",
       "      <td>2005.0</td>\n",
       "      <td>2005-02-13</td>\n",
       "      <td>Water</td>\n",
       "      <td>Folk/Country</td>\n",
       "      <td>0.370</td>\n",
       "      <td>0.325</td>\n",
       "      <td>...</td>\n",
       "      <td>0</td>\n",
       "      <td>0</td>\n",
       "      <td>1</td>\n",
       "      <td>0</td>\n",
       "      <td>0</td>\n",
       "      <td>0</td>\n",
       "      <td>0</td>\n",
       "      <td>0</td>\n",
       "      <td>0</td>\n",
       "      <td>0</td>\n",
       "    </tr>\n",
       "    <tr>\n",
       "      <th>2</th>\n",
       "      <td>reigning sound</td>\n",
       "      <td>too much guitar</td>\n",
       "      <td>Stephen M. Deusner</td>\n",
       "      <td>8.3</td>\n",
       "      <td>2004.0</td>\n",
       "      <td>2004-08-19</td>\n",
       "      <td>In the Red</td>\n",
       "      <td>Electronic</td>\n",
       "      <td>0.254</td>\n",
       "      <td>0.913</td>\n",
       "      <td>...</td>\n",
       "      <td>1</td>\n",
       "      <td>0</td>\n",
       "      <td>0</td>\n",
       "      <td>0</td>\n",
       "      <td>0</td>\n",
       "      <td>0</td>\n",
       "      <td>0</td>\n",
       "      <td>0</td>\n",
       "      <td>0</td>\n",
       "      <td>0</td>\n",
       "    </tr>\n",
       "    <tr>\n",
       "      <th>3</th>\n",
       "      <td>the red thread</td>\n",
       "      <td>after the last</td>\n",
       "      <td>Chris Dahlen</td>\n",
       "      <td>7.3</td>\n",
       "      <td>2003.0</td>\n",
       "      <td>2003-07-17</td>\n",
       "      <td>Badman</td>\n",
       "      <td>Rock</td>\n",
       "      <td>0.425</td>\n",
       "      <td>0.433</td>\n",
       "      <td>...</td>\n",
       "      <td>0</td>\n",
       "      <td>0</td>\n",
       "      <td>0</td>\n",
       "      <td>0</td>\n",
       "      <td>0</td>\n",
       "      <td>0</td>\n",
       "      <td>0</td>\n",
       "      <td>0</td>\n",
       "      <td>0</td>\n",
       "      <td>1</td>\n",
       "    </tr>\n",
       "    <tr>\n",
       "      <th>4</th>\n",
       "      <td>mac miller</td>\n",
       "      <td>swimming</td>\n",
       "      <td>Evan Rytlewski</td>\n",
       "      <td>7.5</td>\n",
       "      <td>2018.0</td>\n",
       "      <td>2018-08-03</td>\n",
       "      <td>Warner Bros.</td>\n",
       "      <td>Rap</td>\n",
       "      <td>0.625</td>\n",
       "      <td>0.438</td>\n",
       "      <td>...</td>\n",
       "      <td>0</td>\n",
       "      <td>0</td>\n",
       "      <td>0</td>\n",
       "      <td>0</td>\n",
       "      <td>0</td>\n",
       "      <td>0</td>\n",
       "      <td>0</td>\n",
       "      <td>0</td>\n",
       "      <td>1</td>\n",
       "      <td>0</td>\n",
       "    </tr>\n",
       "  </tbody>\n",
       "</table>\n",
       "<p>5 rows × 28 columns</p>\n",
       "</div>"
      ],
      "text/plain": [
       "           artist                              album        reviewauthor  \\\n",
       "0        studio 1                           studio 1      Andy Battaglia   \n",
       "1      john fahey  the great santa barbara oil slick     Mark Richardson   \n",
       "2  reigning sound                    too much guitar  Stephen M. Deusner   \n",
       "3  the red thread                     after the last        Chris Dahlen   \n",
       "4      mac miller                           swimming      Evan Rytlewski   \n",
       "\n",
       "   score  releaseyear reviewdate   recordlabel         genre  danceability  \\\n",
       "0    8.5       2009.0 2009-02-18        Studio    Electronic         0.512   \n",
       "1    8.2       2005.0 2005-02-13         Water  Folk/Country         0.370   \n",
       "2    8.3       2004.0 2004-08-19    In the Red    Electronic         0.254   \n",
       "3    7.3       2003.0 2003-07-17        Badman          Rock         0.425   \n",
       "4    7.5       2018.0 2018-08-03  Warner Bros.           Rap         0.625   \n",
       "\n",
       "   energy  ...  Electronic_onehot  Experimental_onehot  Folk/Country_onehot  \\\n",
       "0   0.500  ...                  1                    0                    0   \n",
       "1   0.325  ...                  0                    0                    1   \n",
       "2   0.913  ...                  1                    0                    0   \n",
       "3   0.433  ...                  0                    0                    0   \n",
       "4   0.438  ...                  0                    0                    0   \n",
       "\n",
       "   Global_onehot  Jazz_onehot  Metal_onehot  Other_onehot  Pop/R&B_onehot  \\\n",
       "0              0            0             0             0               0   \n",
       "1              0            0             0             0               0   \n",
       "2              0            0             0             0               0   \n",
       "3              0            0             0             0               0   \n",
       "4              0            0             0             0               0   \n",
       "\n",
       "   Rap_onehot  Rock_onehot  \n",
       "0           0            0  \n",
       "1           0            0  \n",
       "2           0            0  \n",
       "3           0            1  \n",
       "4           1            0  \n",
       "\n",
       "[5 rows x 28 columns]"
      ]
     },
     "execution_count": 22,
     "metadata": {},
     "output_type": "execute_result"
    }
   ],
   "source": [
    "cleaned_df = pd.concat([cleaned_df, pd.get_dummies(cleaned_df['genre']).add_suffix('_onehot')], axis = 1)\n",
    "cleaned_df.head(5).round(decimals = 3)"
   ]
  },
  {
   "cell_type": "markdown",
   "metadata": {},
   "source": [
    "_2. Create a function `numpy_helper(df, cols)` to obtain a `numpy.array` out of your `dataframe`. The function should receive a dataframe `df` with N rows and a list of M columns `cols`, and should return a `np.array` of dimension (NxM)._"
   ]
  },
  {
   "cell_type": "markdown",
   "metadata": {},
   "source": [
    "Below is the creation of the function that returns an array for a certain data frame."
   ]
  },
  {
   "cell_type": "code",
   "execution_count": 23,
   "metadata": {},
   "outputs": [],
   "source": [
    "def numpy_helper(df, cols):\n",
    "    '''\n",
    "    Function that return an array for a certain data frame.\n",
    "    Inputs:\n",
    "        * df : dataframe of interest with N rows\n",
    "        * cols : list of M columns\n",
    "    Output:\n",
    "        * output : numpy array of dimension NxM\n",
    "    '''\n",
    "    output = df[cols].to_numpy()\n",
    "    return output"
   ]
  },
  {
   "cell_type": "markdown",
   "metadata": {},
   "source": [
    "_3. For each album, build an array of features `X` containing all genre-related one-hot features, and an array of outcomes `y` containing scores. Using the function [`sklearn.model_selection.train_test_split`](https://scikit-learn.org/stable/modules/generated/sklearn.model_selection.train_test_split.html) with `random_state=123`, split the data into a train set containing 70% of all data, and a test set containing the remaining 30%._"
   ]
  },
  {
   "cell_type": "markdown",
   "metadata": {},
   "source": [
    "We create a train and a test data set using only the genre-related one-hot features. The x_train/x_test data sets contain only the features while the y_test/y_train data sets contain the scores."
   ]
  },
  {
   "cell_type": "code",
   "execution_count": 24,
   "metadata": {},
   "outputs": [],
   "source": [
    "column_names = []\n",
    "for genre in cleaned_df['genre'].unique() :\n",
    "    column_names.append(genre + '_onehot')\n",
    "x = numpy_helper(cleaned_df, column_names )\n",
    "y = numpy_helper(cleaned_df, 'score')\n",
    "x_train, x_test, y_train, y_test = train_test_split(x, y, train_size = 0.7, test_size = 0.3, random_state = 123)"
   ]
  },
  {
   "cell_type": "markdown",
   "metadata": {},
   "source": [
    "We check that our x and y have the same number of albums and that the the test and train data sets have the same number of features."
   ]
  },
  {
   "cell_type": "code",
   "execution_count": 25,
   "metadata": {},
   "outputs": [
    {
     "name": "stdout",
     "output_type": "stream",
     "text": [
      "(11711, 10) (11711,)\n",
      "(5019, 10) (5019,)\n"
     ]
    }
   ],
   "source": [
    "print(x_train.shape, y_train.shape)\n",
    "print(x_test.shape, y_test.shape)"
   ]
  },
  {
   "cell_type": "markdown",
   "metadata": {},
   "source": [
    "We are happy to see that our checks are fulfilled."
   ]
  },
  {
   "cell_type": "markdown",
   "metadata": {},
   "source": [
    "_4. Create your own baseline regressor. Using the training data (in the training stage), your regressor should estimate the average score for all albums. Then, for the test data (in the prediction stage), your classifier should always output the average score (computed on the training data)._"
   ]
  },
  {
   "cell_type": "markdown",
   "metadata": {},
   "source": [
    "We first define our baseline regressor functions for fitting and prediction."
   ]
  },
  {
   "cell_type": "code",
   "execution_count": 26,
   "metadata": {},
   "outputs": [],
   "source": [
    "def baseline_regressor_fit(y_train):\n",
    "    '''\n",
    "    Function that trains our model by taking the mean of the training set.\n",
    "    Inputs:\n",
    "        * y_train : score of training set\n",
    "    Output:\n",
    "        * output : average score of training set\n",
    "    '''\n",
    "    output = np.mean(y_train)\n",
    "    return output\n",
    "\n",
    "def baseline_regressor_predict(x_test, mean_train):\n",
    "    '''\n",
    "    Function that predicts scores for a testing set.\n",
    "    Inputs:\n",
    "        * x_test : features of the testing set\n",
    "        * mean_train : average score of the training set\n",
    "    Output:\n",
    "        * output : prediction of scores for the testing set (average score of training set)\n",
    "    '''\n",
    "    output = np.ones(len(x_test)) * mean_train\n",
    "    return output"
   ]
  },
  {
   "cell_type": "markdown",
   "metadata": {},
   "source": [
    "First, we create a train and a test data set using only the categorical features (`feature_cols`) and the `score`. Then we calculate the average score of the training set. Finally, we always predict the mean of the training set for the testing set. "
   ]
  },
  {
   "cell_type": "code",
   "execution_count": 27,
   "metadata": {},
   "outputs": [],
   "source": [
    "feature_cols = ['releaseyear', 'key', 'acousticness', 'danceability', 'energy', 'instrumentalness','liveness', \\\n",
    "                'loudness', 'speechiness', 'valence', 'tempo'] + column_names\n",
    "\n",
    "x = numpy_helper(cleaned_df, feature_cols )\n",
    "y = numpy_helper(cleaned_df, 'score')\n",
    "x_train, x_test, y_train, y_test = train_test_split(x, y, train_size = 0.7, test_size = 0.3, random_state = 123)\n",
    "mean_train = baseline_regressor_fit(y_train)\n",
    "y_pred_baseline = baseline_regressor_predict(x_test, mean_train)"
   ]
  },
  {
   "cell_type": "markdown",
   "metadata": {},
   "source": [
    "_5. Calculate the [coefficient of determination ($R^2$)](https://scikit-learn.org/stable/modules/generated/sklearn.metrics.r2_score.html) of your baseline on the test data. **You are allowed to use the `sklearn` implementation here.**_\n",
    "\n"
   ]
  },
  {
   "cell_type": "markdown",
   "metadata": {},
   "source": [
    "The coefficient of determination ($R^2$) is computed below."
   ]
  },
  {
   "cell_type": "code",
   "execution_count": 28,
   "metadata": {},
   "outputs": [
    {
     "name": "stdout",
     "output_type": "stream",
     "text": [
      "The coefficient of determination is -1.084e-05\n"
     ]
    }
   ],
   "source": [
    "R2 = r2_score(y_test, y_pred_baseline)\n",
    "print(\"The coefficient of determination is\", round(R2, 8))"
   ]
  },
  {
   "cell_type": "markdown",
   "metadata": {},
   "source": [
    "We can see that our $R^2$ is negative and so we conclude that our model does not follow the trend of the data, therefore leading to a worse fit than the horizontal line."
   ]
  },
  {
   "cell_type": "markdown",
   "metadata": {},
   "source": [
    "_6. **Discuss:** Your train-test split randomly selected 70% of all data for the training set. Why is this a problem for the broader task of predicting whether a future album will be successful or not?_"
   ]
  },
  {
   "cell_type": "markdown",
   "metadata": {},
   "source": [
    "The train-test split is used to evaluate the performance of machine learning algorithm on new data (data not used to train the model, also know as \"test data\"). Normally, to have high performance and avoid bias, we use train-test split in a cross validation to do it multiple times on random data sets. By doing a one time train-test split randomly selecting 70% of the data, we reduced the goodness of fit and we can have underfitting. In fact, we have less training data, so the important features may not have been found for the prediction."
   ]
  },
  {
   "cell_type": "markdown",
   "metadata": {},
   "source": [
    "**Task 3 (Regression — 14 pts)**\n",
    "\n",
    "Finally, you get down to business and train your regression models.\n",
    "\n",
    "1. Build a Linear Regression model (use `sklearn`) that predicts the outcome `score` using the features \"releaseyear\",  \"key\", \"acousticness\", \"danceability\", \"energy\", \"instrumentalness\", \"liveness\", \"loudness\", \"speechiness\", \"valence\", \"tempo\" and the one-hot encoded genre-related columns.  Using a 70/30 train-test split similar to what you did in task two (hereinafter referred to as \"the random split\", use the same random seed, `random_state=123`), report the $R^2$ for the testing set.\n",
    "\n",
    "2. Create an alternate train-test split (hereinafter referred to as \"the longitudinal split\") where you train with data from albums released before 2000 and test with data from 2003 and after. Report the $R^2$ for the testing set using the same model you developed for the previous question. **Discuss:** give the correct interpretation of $R^2$ value for the longitudinal split.\n",
    "\n",
    "3. For a given entry $X$ your model outputs a predicted score $Y'$. The difference between the real score $Y$ and the predicted score $Y'$ is called the \"residual\". Considering the model trained in 3.2, plot the distribution of your residuals for the test set. Additionally, estimate what is the probability that your score prediction (from 3.2) is off by more than 2-points? Provide bootstrapped confidence intervals for your answer.\n",
    "\n",
    "4. Experiment with training a different regressor, a Gradient Boosting Regressor. This regressor is related to the Boosted decision trees that you have seen in class. This model performs extremely well for a variety of tasks and is often used in machine learning competitions for tabular data (e.g., on Kaggle). Train the regressor using the longitudinal split and the same features as in 3.2, use the default hyperparameters. Report the $R^2$ for the testing set. \n",
    "\n",
    "5. **Discuss:** Hypothesize a reason for the difference in performance between the Linear regression and the Gradient Boosting Regressor.\n",
    "\n",
    "---"
   ]
  },
  {
   "cell_type": "markdown",
   "metadata": {},
   "source": [
    "_1. Build a Linear Regression model (use `sklearn`) that predicts the outcome `score` using the features \"releaseyear\",  \"key\", \"acousticness\", \"danceability\", \"energy\", \"instrumentalness\", \"liveness\", \"loudness\", \"speechiness\", \"valence\", \"tempo\" and the one-hot encoded genre-related columns.  Using a 70/30 train-test split similar to what you did in task two (hereinafter referred to as \"the random split\", use the same random seed, `random_state=123`), report the $R^2$ for the testing set._"
   ]
  },
  {
   "cell_type": "markdown",
   "metadata": {},
   "source": [
    "Let's build a Linear Regression model with the same features as in task 2.4. We also use the training and testing data sets from the task 2.4."
   ]
  },
  {
   "cell_type": "code",
   "execution_count": 29,
   "metadata": {},
   "outputs": [
    {
     "name": "stdout",
     "output_type": "stream",
     "text": [
      "The coefficient of determination of the testing set for random split equals 0.0387\n"
     ]
    }
   ],
   "source": [
    "# Training the model\n",
    "lin_reg_random = LinearRegression()\n",
    "lin_reg_random.fit(x_train, y_train)\n",
    "\n",
    "# Testing the model\n",
    "y_pred_random = lin_reg_random.predict(x_test)\n",
    "R2_random = r2_score(y_test, y_pred_random)\n",
    "print(\"The coefficient of determination of the testing set for random split equals\", round(R2_random, 4))"
   ]
  },
  {
   "cell_type": "markdown",
   "metadata": {},
   "source": [
    "We obtain $R^2$ = 0.039, which is close to zero and again meaning that the model selecting does not follow the trend of the data."
   ]
  },
  {
   "cell_type": "markdown",
   "metadata": {},
   "source": [
    "_2. Create an alternate train-test split (hereinafter referred to as \"the longitudinal split\") where you train with data from albums released before 2000 and test with data from 2003 and after. Report the $R^2$ for the testing set using the same model you developed for the previous question. **Discuss:** give the correct interpretation of $R^2$ value for the longitudinal split._"
   ]
  },
  {
   "cell_type": "markdown",
   "metadata": {},
   "source": [
    "We first create the alternate train-test split of the data with albums from before 2000 as training set and albums from 2003 and later as testing set. We stop using the function numpy_helper because when using sklearn we can use data frame (the results are the same with our without the function).\n",
    "Then, we fit our Linear Regression model and predict the scores for the testing set."
   ]
  },
  {
   "cell_type": "code",
   "execution_count": 30,
   "metadata": {},
   "outputs": [
    {
     "name": "stdout",
     "output_type": "stream",
     "text": [
      "Size of training set :  (778, 28)\n",
      "Size of testing set :  (14744, 28)\n",
      "The coefficient of determination of the testing set from longitudinal split equals -0.282\n"
     ]
    }
   ],
   "source": [
    "# Create the two data frames for the training set and the test set\n",
    "df_train_longitudinal = cleaned_df.loc[cleaned_df.releaseyear < 2000.0] # Data from albums released strictly before 2000\n",
    "df_test_longitudinal = cleaned_df.loc[cleaned_df.releaseyear >= 2003] # Data from albums released from 2003 and after\n",
    "\n",
    "# We compare the size of our training and testing set\n",
    "print(\"Size of training set : \", df_train_longitudinal.shape)\n",
    "print(\"Size of testing set : \", df_test_longitudinal.shape)\n",
    "\n",
    "# Create the x_train, x_test, and the y_train, y_test using the same features as in part 1 and the score for y.\n",
    "x_train_longitudinal = df_train_longitudinal[feature_cols]\n",
    "y_train_longitudinal = df_train_longitudinal['score']\n",
    "x_test_longitudinal = df_test_longitudinal[feature_cols]\n",
    "y_test_longitudinal = df_test_longitudinal['score']\n",
    "\n",
    "# Training of the model \n",
    "lin_reg_longitudinal = LinearRegression()\n",
    "lin_reg_longitudinal.fit(x_train_longitudinal, y_train_longitudinal)\n",
    "\n",
    "# Testing the model\n",
    "y_pred_longitudinal = lin_reg_longitudinal.predict(x_test_longitudinal)\n",
    "\n",
    "# Coefficient of determination\n",
    "R2_longitudinal = r2_score(y_test_longitudinal, y_pred_longitudinal)\n",
    "print(\"The coefficient of determination of the testing set from longitudinal split equals\", round(R2_longitudinal, 3))\n"
   ]
  },
  {
   "cell_type": "markdown",
   "metadata": {},
   "source": [
    "We obtain $R^2$ = -0.28 which is worse than with the train-test random split and again means that the model selected does not follow the trend of the data. We also can see that our training set is small and that may cause some bias for the prediction. It can be explain by the fact that, as we have seen in task 1.2, there is much less albums released before 2003."
   ]
  },
  {
   "cell_type": "markdown",
   "metadata": {},
   "source": [
    "**Discussion** : For the longitudinal split, $R^2$ only shows that music trends have changed between before 2000 and after 2003. In fact, the two data sets are not from the same distribution, meaning our model is overfitting on years before 2000 and we test on data from 2003 and after, which are different. Our model is therefore underfitted for the 2003 and after years. \n",
    "\n",
    "Moreover, in task 1.2, we saw that the scores are much lower for years 2003 and after than the scores before 2000. As a result, the training set that we use might not be very representative of the scores of the future albums (released after 2003)."
   ]
  },
  {
   "cell_type": "markdown",
   "metadata": {},
   "source": [
    "_3. For a given entry $X$ your model outputs a predicted score $Y'$. The difference between the real score $Y$ and the predicted score $Y'$ is called the \"residual\". Considering the model trained in 3.2, plot the distribution of your residuals for the test set. Additionally, estimate what is the probability that your score prediction (from 3.2) is off by more than 2-points? Provide bootstrapped confidence intervals for your answer._"
   ]
  },
  {
   "cell_type": "markdown",
   "metadata": {},
   "source": [
    "We first compute the residuals for the model of the task 3.2 and plot their distribution."
   ]
  },
  {
   "cell_type": "code",
   "execution_count": 31,
   "metadata": {},
   "outputs": [
    {
     "data": {
      "image/png": "[encoded data removed]",
      "text/plain": [
       "<Figure size 576x360 with 1 Axes>"
      ]
     },
     "metadata": {},
     "output_type": "display_data"
    }
   ],
   "source": [
    "residuals = y_test_longitudinal - y_pred_longitudinal\n",
    "plt.figure(figsize = (8,5))\n",
    "residuals.plot(kind = \"hist\", grid = True, rwidth = 1, color = color_palette[5])\n",
    "plt.title('Distribution of the residuals for the test set')\n",
    "plt.xlabel('Residuals')\n",
    "plt.ylabel('Counts')\n",
    "plt.grid(axis = 'y', alpha = 0.75)"
   ]
  },
  {
   "cell_type": "markdown",
   "metadata": {},
   "source": [
    "We estimate the probability that our score prediction is off by more than 2-points. We do the absolute value because the residual can be negative or positive (predicting a score of 5 instead of 8 or 11 instead of 8)"
   ]
  },
  {
   "cell_type": "code",
   "execution_count": 32,
   "metadata": {},
   "outputs": [
    {
     "name": "stdout",
     "output_type": "stream",
     "text": [
      "The probability that our score prediction is off by more than 2-points is 0.109\n"
     ]
    }
   ],
   "source": [
    "proba = (abs(residuals) > 2).sum() / len(residuals)\n",
    "print(\"The probability that our score prediction is off by more than 2-points is\", round(proba, 3))"
   ]
  },
  {
   "cell_type": "markdown",
   "metadata": {},
   "source": [
    "We will now do bootstrap confidence intervals for our probability to be off by more than 2-points. We have to repeat the collection N times. We can select N randomly but not to big to avoid a long computation time. We choose N to be 500."
   ]
  },
  {
   "cell_type": "code",
   "execution_count": 33,
   "metadata": {},
   "outputs": [
    {
     "name": "stdout",
     "output_type": "stream",
     "text": [
      "Probability that the prediction is off by more than 2 points:  0.10943841562669561\n",
      "There is 99% chance that the real probability is in the confidence interval : (0.10356755290287574, 0.11577590884427563)\n",
      "There is 95% chance that the real probability is in the confidence interval : (0.10472056429734129, 0.1146228974498101)\n",
      "There is 90% chance that the real probability is in the confidence interval : (0.10512750949538796, 0.11360553445469343)\n"
     ]
    }
   ],
   "source": [
    "N = 500\n",
    "residuals = np.zeros(N)\n",
    "probas = []\n",
    "\n",
    "for i in range(N):\n",
    "    # Generate a bootstrapped sample from the data frame of test longitudinal\n",
    "    # We first get the random indices\n",
    "    indices_test = np.random.randint(0, len(df_test_longitudinal), len(df_test_longitudinal)).tolist()\n",
    "\n",
    "    # Then we create the new data frame with these indices\n",
    "    test_longitudinal_temp = df_test_longitudinal.iloc[indices_test,:]\n",
    "\n",
    "    # Separate into x_test and y_test\n",
    "    x_test_temp = test_longitudinal_temp[feature_cols]\n",
    "    y_test_temp = test_longitudinal_temp.score \n",
    "\n",
    "    # Predict the score of the x_test\n",
    "    y_pred_temp = lin_reg_longitudinal.predict(x_test_temp)\n",
    "    \n",
    "    # Compute the residuals and the probability to be off by more than 2-points\n",
    "    residuals = y_test_temp - y_pred_temp\n",
    "    probas.append((abs(residuals) > 2).sum() / residuals.shape[0])\n",
    "\n",
    "probas = np.sort(probas)\n",
    "\n",
    "print(\"Probability that the prediction is off by more than 2 points: \", probas.mean())\n",
    "\n",
    "confidence_interval_99 = (probas[int(0.005 * N)], probas[int(0.995 * N)])\n",
    "print(\"There is 99% chance that the real probability is in the confidence interval :\", confidence_interval_99)\n",
    "\n",
    "confidence_interval_95 = (probas[int(0.025 * N)], probas[int(0.975 * N)])\n",
    "print(\"There is 95% chance that the real probability is in the confidence interval :\", confidence_interval_95)\n",
    "\n",
    "confidence_interval_90 = (probas[int(0.05 * N)], probas[int(0.95 * N)])\n",
    "print(\"There is 90% chance that the real probability is in the confidence interval :\", confidence_interval_90)"
   ]
  },
  {
   "cell_type": "markdown",
   "metadata": {},
   "source": [
    "We find the confidence intervals above. Their visual representations can be seen in the plot below."
   ]
  },
  {
   "cell_type": "code",
   "execution_count": 34,
   "metadata": {},
   "outputs": [
    {
     "data": {
      "image/png": "[encoded data removed]",
      "text/plain": [
       "<Figure size 720x360 with 1 Axes>"
      ]
     },
     "metadata": {},
     "output_type": "display_data"
    }
   ],
   "source": [
    "plt.figure(figsize = (10,5))\n",
    "plt.hist(probas, bins = 30, color = color_palette[5])\n",
    "plt.axvline(x = np.percentile(probas,[0.5]), ymin = 0, ymax = 1, label = '99% CI', c = 'y')\n",
    "plt.axvline(x = np.percentile(probas,[99.5]), ymin = 0, ymax = 1, c = 'y')\n",
    "plt.axvline(x = np.percentile(probas,[2.5]), ymin = 0, ymax = 1, label = '95% CI', c = 'r')\n",
    "plt.axvline(x = np.percentile(probas,[97.5]), ymin = 0, ymax = 1, c = 'r')\n",
    "plt.axvline(x = np.percentile(probas,[5]), ymin = 0, ymax = 1, label = '90% CI', c = 'c')\n",
    "plt.axvline(x = np.percentile(probas,[95]), ymin = 0, ymax = 1, c = 'c')\n",
    "plt.xlabel('Probability that the prediction is off by more than 2 points')\n",
    "plt.ylabel('Count')\n",
    "plt.title('Distribution of the probability that the prediction is off by more than 2 points over all \\\n",
    "            bootstrapped samples')\n",
    "plt.legend();"
   ]
  },
  {
   "cell_type": "markdown",
   "metadata": {},
   "source": [
    "_4. Experiment with training a different regressor, a Gradient Boosting Regressor. This regressor is related to the Boosted decision trees that you have seen in class. This model performs extremely well for a variety of tasks and is often used in machine learning competitions for tabular data (e.g., on Kaggle). Train the regressor using the longitudinal split and the same features as in 3.2, use the default hyperparameters. Report the $R^2$ for the testing set._"
   ]
  },
  {
   "cell_type": "markdown",
   "metadata": {},
   "source": [
    "We use the alternate train-split data set from the task above to fit our Gradient Boosting Regressor and then predict the scores."
   ]
  },
  {
   "cell_type": "code",
   "execution_count": 35,
   "metadata": {},
   "outputs": [
    {
     "name": "stdout",
     "output_type": "stream",
     "text": [
      "The coefficient of determination of the Gradient Boosting Regressor on the longitudinal split equals -0.438\n"
     ]
    }
   ],
   "source": [
    "# Training the Gradient Boosting Regressor on the longitudinal split\n",
    "gbr = GradientBoostingRegressor()\n",
    "gbr.fit(x_train_longitudinal, y_train_longitudinal)\n",
    "\n",
    "# Testing\n",
    "y_pred_longitudinal_gradient = gbr.predict(x_test_longitudinal)\n",
    "\n",
    "# Evaluating the coefficient of determination\n",
    "r2_gradient_longitudinal = r2_score(y_test_longitudinal, y_pred_longitudinal_gradient)\n",
    "print(\"The coefficient of determination of the Gradient Boosting Regressor on the longitudinal split equals\", \\\n",
    "      round(r2_gradient_longitudinal, 3))"
   ]
  },
  {
   "cell_type": "markdown",
   "metadata": {},
   "source": [
    "We obtain $R^2$ = -0.44 meaning that the model selected does not follow the trend of the data. Also, one could note that it is worse than the model with Linear Regression. To better understand the difference, we plot the importance of the features for each model."
   ]
  },
  {
   "cell_type": "code",
   "execution_count": 36,
   "metadata": {},
   "outputs": [
    {
     "data": {
      "image/png": "[encoded data removed]",
      "text/plain": [
       "<Figure size 1080x576 with 2 Axes>"
      ]
     },
     "metadata": {},
     "output_type": "display_data"
    }
   ],
   "source": [
    "fig, axs = plt.subplots(ncols = 2, figsize = (15, 8))\n",
    "importance_linear = pd.Series(lin_reg_longitudinal.coef_)\n",
    "importance_linear.plot(ax = axs[0], kind = 'bar', color = color_palette[4])\n",
    "axs[0].set_title(\"Distribution of the features' importances using Linear Regression\")\n",
    "axs[0].set_xticklabels(feature_cols)\n",
    "axs[0].set_xlabel(\"Features\")\n",
    "axs[0].set_ylabel(\"Importance\")\n",
    "\n",
    "importance_gradient_boosting = pd.Series(gbr.feature_importances_)\n",
    "importance_gradient_boosting.plot(ax = axs[1], kind = 'bar', color = color_palette[4])\n",
    "axs[1].set_title(\"Distribution of the features' importances using Gradient Boosting Regressor\")\n",
    "axs[1].set_xticklabels(feature_cols)\n",
    "axs[1].set_xlabel(\"Features\")\n",
    "axs[1].set_ylabel(\"Importance\");"
   ]
  },
  {
   "cell_type": "markdown",
   "metadata": {},
   "source": [
    "We can see that the important features are not the same for Linear Regression and Gradient Boosting regressor. "
   ]
  },
  {
   "cell_type": "markdown",
   "metadata": {},
   "source": [
    "_5. **Discuss:** Hypothesize a reason for the difference in performance between the Linear regression and the Gradient Boosting Regressor._"
   ]
  },
  {
   "cell_type": "markdown",
   "metadata": {},
   "source": [
    "Gradient Boosting regressor is performing worse than Linear Regression. It can be explained by the fact that we are splitting the data into before 2000 and after 2003 which causes a bias. In fact, we have seen in the task 1.2 that the scores for the years before 2000 are much higher than the ones after 2003, so training on such different data sets causes problem. Moreover, because the Gradient Boosting Regressor performs extremely well for a variety of tasks, we can imagine that it fitted so well the training set (overfitting) that it causes even more error on the prediction for the testing set.\n",
    "\n",
    "Additionally, the most important feature for Gradient Boosting Regressor is `releaseyear` and that could explain the bias. Indeed, as we are in the case of a longitudinal split and the `releaseyear` of the training set are completely different from the `releaseyear` of the testing set. To have this feature with so much importance will unfortunately cause errors in the prediction."
   ]
  },
  {
   "cell_type": "markdown",
   "metadata": {},
   "source": [
    "**Task 4 (Are we solving the correct problem? — 16 pts)**\n",
    "\n",
    "All your efforts so far have assumed that decisions are taken at the \"album\" level, which is often not the case for bands with multiple albums. In those cases, it could be interesting to predict what is the success of a given band album given the features of the album **and of previous albums**.\n",
    "\n",
    "1. Create a new dataframe that contains one row per band with more than 1 album. This dataframe should have the same columns as the data provided to you, considering the latest album of the respective band (note that this is determined by the release year of the album, not the date when it was reviewed). Additionally, for each feature considered in Task 3.1 (including the one-hot encoded features), create an additional column post-fixed with `_previous` (e.g., `danceability_previous`). These columns should contain the average values for all of the band's previous albums. Also, create a column `score_previous` with the average score of previous albums. Print the number of rows in the dataframe as well as the name of the columns.\n",
    "\n",
    "2. Train a Gradient Boosting Regressor considering all features created in Task 4.1 (note that `score` is the outcome and everything else is a feature, including `score_previous`). Use the 70/30 random train-test split, the default hyperparameters, and report the $R^2$ for the testing set. \n",
    "\n",
    "3. Can hyperparameter tuning improve your model? Write modular code (i.e., a function) to divide your training data into $N$ folds and perform cross-validation. Experiment tuning two hyperparameters of the Gradient Boosting Regressor: `n_estimators` and `learning_rate`. For each possible combination of the two hyperparameters (see below for the range of values that you should try for each hyperparameter), train your model in a cross-validation setup with $N=20$ folds. Report the mean  $R^2$ along with the 90% CI for each scenario. \n",
    "    - n_estimators $ \\in  \\{ 100, 200, 300, 400\\}$\n",
    "    - learning_rate $ \\in  \\{ 0.1, 0.05, 0.01\\}$.\n",
    " \n",
    " With the best hyperparameters obtained, train your model with the entire training set and report the $R^2$ on the testing set.\n",
    " \n",
    "4. **Discuss:** How do these results compare with the previous setup (the scenario considered in **Task 3.4**)? Point out two reasons why it is hard to compare the results obtained in 4.3 and 3.4 at face value? How would you fairly compare the two different setups?\n",
    "\n",
    "---"
   ]
  },
  {
   "cell_type": "markdown",
   "metadata": {},
   "source": [
    "_1. Create a new dataframe that contains one row per band with more than 1 album. This dataframe should have the same columns as the data provided to you, considering the latest album of the respective band (note that this is determined by the release year of the album, not the date when it was reviewed). Additionally, for each feature considered in Task 3.1 (including the one-hot encoded features), create an additional column post-fixed with `_previous` (e.g., `danceability_previous`). These columns should contain the average values for all of the band's previous albums. Also, create a column `score_previous` with the average score of previous albums. Print the number of rows in the dataframe as well as the name of the columns._"
   ]
  },
  {
   "cell_type": "markdown",
   "metadata": {},
   "source": [
    "Let's select the artists that have more than 1 album."
   ]
  },
  {
   "cell_type": "code",
   "execution_count": 37,
   "metadata": {},
   "outputs": [
    {
     "data": {
      "text/plain": [
       "(3563,)"
      ]
     },
     "execution_count": 37,
     "metadata": {},
     "output_type": "execute_result"
    }
   ],
   "source": [
    "# Aggregating album count number of each artist \n",
    "mult_art = cleaned_df.groupby(\"artist\")[\"album\"].agg('count')\n",
    "\n",
    "# Using the mask to select only artisits with more than 1 album\n",
    "mult_art = mult_art[mult_art > 1]\n",
    "mult_art.shape"
   ]
  },
  {
   "cell_type": "markdown",
   "metadata": {},
   "source": [
    "It seems there only 3563 artists that have more than 1 album. Let's create our new dataframe which contains only rows with more than 1 allbum."
   ]
  },
  {
   "cell_type": "code",
   "execution_count": 38,
   "metadata": {},
   "outputs": [
    {
     "name": "stdout",
     "output_type": "stream",
     "text": [
      "(12405, 28)\n"
     ]
    },
    {
     "data": {
      "text/html": [
       "<div>\n",
       "<style scoped>\n",
       "    .dataframe tbody tr th:only-of-type {\n",
       "        vertical-align: middle;\n",
       "    }\n",
       "\n",
       "    .dataframe tbody tr th {\n",
       "        vertical-align: top;\n",
       "    }\n",
       "\n",
       "    .dataframe thead th {\n",
       "        text-align: right;\n",
       "    }\n",
       "</style>\n",
       "<table border=\"1\" class=\"dataframe\">\n",
       "  <thead>\n",
       "    <tr style=\"text-align: right;\">\n",
       "      <th></th>\n",
       "      <th>artist</th>\n",
       "      <th>album</th>\n",
       "      <th>reviewauthor</th>\n",
       "      <th>score</th>\n",
       "      <th>releaseyear</th>\n",
       "      <th>reviewdate</th>\n",
       "      <th>recordlabel</th>\n",
       "      <th>genre</th>\n",
       "      <th>danceability</th>\n",
       "      <th>energy</th>\n",
       "      <th>...</th>\n",
       "      <th>Electronic_onehot</th>\n",
       "      <th>Experimental_onehot</th>\n",
       "      <th>Folk/Country_onehot</th>\n",
       "      <th>Global_onehot</th>\n",
       "      <th>Jazz_onehot</th>\n",
       "      <th>Metal_onehot</th>\n",
       "      <th>Other_onehot</th>\n",
       "      <th>Pop/R&amp;B_onehot</th>\n",
       "      <th>Rap_onehot</th>\n",
       "      <th>Rock_onehot</th>\n",
       "    </tr>\n",
       "  </thead>\n",
       "  <tbody>\n",
       "    <tr>\n",
       "      <th>7411</th>\n",
       "      <td>!!!</td>\n",
       "      <td>split ep</td>\n",
       "      <td>Dominique Leone</td>\n",
       "      <td>6.0</td>\n",
       "      <td>1999.0</td>\n",
       "      <td>2004-02-12</td>\n",
       "      <td>GSL</td>\n",
       "      <td>Rock</td>\n",
       "      <td>0.470</td>\n",
       "      <td>0.910</td>\n",
       "      <td>...</td>\n",
       "      <td>0</td>\n",
       "      <td>0</td>\n",
       "      <td>0</td>\n",
       "      <td>0</td>\n",
       "      <td>0</td>\n",
       "      <td>0</td>\n",
       "      <td>0</td>\n",
       "      <td>0</td>\n",
       "      <td>0</td>\n",
       "      <td>1</td>\n",
       "    </tr>\n",
       "    <tr>\n",
       "      <th>6891</th>\n",
       "      <td>!!!</td>\n",
       "      <td>louden up now</td>\n",
       "      <td>Nick Sylvester</td>\n",
       "      <td>7.0</td>\n",
       "      <td>2004.0</td>\n",
       "      <td>2004-06-07</td>\n",
       "      <td>Touch and Go</td>\n",
       "      <td>Rock</td>\n",
       "      <td>0.808</td>\n",
       "      <td>0.752</td>\n",
       "      <td>...</td>\n",
       "      <td>0</td>\n",
       "      <td>0</td>\n",
       "      <td>0</td>\n",
       "      <td>0</td>\n",
       "      <td>0</td>\n",
       "      <td>0</td>\n",
       "      <td>0</td>\n",
       "      <td>0</td>\n",
       "      <td>0</td>\n",
       "      <td>1</td>\n",
       "    </tr>\n",
       "    <tr>\n",
       "      <th>10517</th>\n",
       "      <td>!!!</td>\n",
       "      <td>myth takes</td>\n",
       "      <td>Brian Howe</td>\n",
       "      <td>8.0</td>\n",
       "      <td>2007.0</td>\n",
       "      <td>2007-03-02</td>\n",
       "      <td>Warp</td>\n",
       "      <td>Rock</td>\n",
       "      <td>0.646</td>\n",
       "      <td>0.832</td>\n",
       "      <td>...</td>\n",
       "      <td>0</td>\n",
       "      <td>0</td>\n",
       "      <td>0</td>\n",
       "      <td>0</td>\n",
       "      <td>0</td>\n",
       "      <td>0</td>\n",
       "      <td>0</td>\n",
       "      <td>0</td>\n",
       "      <td>0</td>\n",
       "      <td>1</td>\n",
       "    </tr>\n",
       "    <tr>\n",
       "      <th>10053</th>\n",
       "      <td>!!!</td>\n",
       "      <td>strange weather, isn't it?</td>\n",
       "      <td>Larry Fitzmaurice</td>\n",
       "      <td>6.9</td>\n",
       "      <td>2010.0</td>\n",
       "      <td>2010-08-20</td>\n",
       "      <td>Warp</td>\n",
       "      <td>Rock</td>\n",
       "      <td>0.712</td>\n",
       "      <td>0.882</td>\n",
       "      <td>...</td>\n",
       "      <td>0</td>\n",
       "      <td>0</td>\n",
       "      <td>0</td>\n",
       "      <td>0</td>\n",
       "      <td>0</td>\n",
       "      <td>0</td>\n",
       "      <td>0</td>\n",
       "      <td>0</td>\n",
       "      <td>0</td>\n",
       "      <td>1</td>\n",
       "    </tr>\n",
       "    <tr>\n",
       "      <th>2397</th>\n",
       "      <td>!!!</td>\n",
       "      <td>thr!!!er</td>\n",
       "      <td>Brian Howe</td>\n",
       "      <td>6.0</td>\n",
       "      <td>2013.0</td>\n",
       "      <td>2013-04-30</td>\n",
       "      <td>Warp</td>\n",
       "      <td>Rock</td>\n",
       "      <td>0.778</td>\n",
       "      <td>0.798</td>\n",
       "      <td>...</td>\n",
       "      <td>0</td>\n",
       "      <td>0</td>\n",
       "      <td>0</td>\n",
       "      <td>0</td>\n",
       "      <td>0</td>\n",
       "      <td>0</td>\n",
       "      <td>0</td>\n",
       "      <td>0</td>\n",
       "      <td>0</td>\n",
       "      <td>1</td>\n",
       "    </tr>\n",
       "  </tbody>\n",
       "</table>\n",
       "<p>5 rows × 28 columns</p>\n",
       "</div>"
      ],
      "text/plain": [
       "      artist                       album       reviewauthor  score  \\\n",
       "7411     !!!                    split ep    Dominique Leone    6.0   \n",
       "6891     !!!               louden up now     Nick Sylvester    7.0   \n",
       "10517    !!!                  myth takes         Brian Howe    8.0   \n",
       "10053    !!!  strange weather, isn't it?  Larry Fitzmaurice    6.9   \n",
       "2397     !!!                    thr!!!er         Brian Howe    6.0   \n",
       "\n",
       "       releaseyear reviewdate   recordlabel genre  danceability  energy  ...  \\\n",
       "7411        1999.0 2004-02-12           GSL  Rock         0.470   0.910  ...   \n",
       "6891        2004.0 2004-06-07  Touch and Go  Rock         0.808   0.752  ...   \n",
       "10517       2007.0 2007-03-02          Warp  Rock         0.646   0.832  ...   \n",
       "10053       2010.0 2010-08-20          Warp  Rock         0.712   0.882  ...   \n",
       "2397        2013.0 2013-04-30          Warp  Rock         0.778   0.798  ...   \n",
       "\n",
       "       Electronic_onehot  Experimental_onehot  Folk/Country_onehot  \\\n",
       "7411                   0                    0                    0   \n",
       "6891                   0                    0                    0   \n",
       "10517                  0                    0                    0   \n",
       "10053                  0                    0                    0   \n",
       "2397                   0                    0                    0   \n",
       "\n",
       "       Global_onehot  Jazz_onehot  Metal_onehot  Other_onehot  Pop/R&B_onehot  \\\n",
       "7411               0            0             0             0               0   \n",
       "6891               0            0             0             0               0   \n",
       "10517              0            0             0             0               0   \n",
       "10053              0            0             0             0               0   \n",
       "2397               0            0             0             0               0   \n",
       "\n",
       "       Rap_onehot  Rock_onehot  \n",
       "7411            0            1  \n",
       "6891            0            1  \n",
       "10517           0            1  \n",
       "10053           0            1  \n",
       "2397            0            1  \n",
       "\n",
       "[5 rows x 28 columns]"
      ]
     },
     "execution_count": 38,
     "metadata": {},
     "output_type": "execute_result"
    }
   ],
   "source": [
    "# Selecting only rows with more than 1 album and sorting at the same time\n",
    "second_df = cleaned_df[cleaned_df.artist.isin(mult_art.index)].sort_values(by = [\"artist\", \"releaseyear\"])\n",
    "print(second_df.shape)\n",
    "second_df.head().round(decimals = 3)"
   ]
  },
  {
   "cell_type": "markdown",
   "metadata": {},
   "source": [
    "We define our features of interest that we wish to add a suffix to:"
   ]
  },
  {
   "cell_type": "code",
   "execution_count": 39,
   "metadata": {},
   "outputs": [],
   "source": [
    "features = feature_cols + [\"score\"]"
   ]
  },
  {
   "cell_type": "markdown",
   "metadata": {},
   "source": [
    "We compute the mean of the previous albums (without the last one) by creating a new dataframe, and we also add the _previous suffix at the same time "
   ]
  },
  {
   "cell_type": "code",
   "execution_count": 40,
   "metadata": {},
   "outputs": [
    {
     "data": {
      "text/html": [
       "<div>\n",
       "<style scoped>\n",
       "    .dataframe tbody tr th:only-of-type {\n",
       "        vertical-align: middle;\n",
       "    }\n",
       "\n",
       "    .dataframe tbody tr th {\n",
       "        vertical-align: top;\n",
       "    }\n",
       "\n",
       "    .dataframe thead th {\n",
       "        text-align: right;\n",
       "    }\n",
       "</style>\n",
       "<table border=\"1\" class=\"dataframe\">\n",
       "  <thead>\n",
       "    <tr style=\"text-align: right;\">\n",
       "      <th></th>\n",
       "      <th>releaseyear_previous</th>\n",
       "      <th>key_previous</th>\n",
       "      <th>acousticness_previous</th>\n",
       "      <th>danceability_previous</th>\n",
       "      <th>energy_previous</th>\n",
       "      <th>instrumentalness_previous</th>\n",
       "      <th>liveness_previous</th>\n",
       "      <th>loudness_previous</th>\n",
       "      <th>speechiness_previous</th>\n",
       "      <th>valence_previous</th>\n",
       "      <th>...</th>\n",
       "      <th>Folk/Country_onehot_previous</th>\n",
       "      <th>Rock_onehot_previous</th>\n",
       "      <th>Rap_onehot_previous</th>\n",
       "      <th>Global_onehot_previous</th>\n",
       "      <th>Experimental_onehot_previous</th>\n",
       "      <th>Metal_onehot_previous</th>\n",
       "      <th>Pop/R&amp;B_onehot_previous</th>\n",
       "      <th>Jazz_onehot_previous</th>\n",
       "      <th>Other_onehot_previous</th>\n",
       "      <th>score_previous</th>\n",
       "    </tr>\n",
       "    <tr>\n",
       "      <th>artist</th>\n",
       "      <th></th>\n",
       "      <th></th>\n",
       "      <th></th>\n",
       "      <th></th>\n",
       "      <th></th>\n",
       "      <th></th>\n",
       "      <th></th>\n",
       "      <th></th>\n",
       "      <th></th>\n",
       "      <th></th>\n",
       "      <th></th>\n",
       "      <th></th>\n",
       "      <th></th>\n",
       "      <th></th>\n",
       "      <th></th>\n",
       "      <th></th>\n",
       "      <th></th>\n",
       "      <th></th>\n",
       "      <th></th>\n",
       "      <th></th>\n",
       "      <th></th>\n",
       "    </tr>\n",
       "  </thead>\n",
       "  <tbody>\n",
       "    <tr>\n",
       "      <th>!!!</th>\n",
       "      <td>2009.286</td>\n",
       "      <td>5.560</td>\n",
       "      <td>0.070</td>\n",
       "      <td>0.702</td>\n",
       "      <td>0.817</td>\n",
       "      <td>0.184</td>\n",
       "      <td>0.192</td>\n",
       "      <td>-6.456</td>\n",
       "      <td>0.076</td>\n",
       "      <td>0.682</td>\n",
       "      <td>...</td>\n",
       "      <td>0.0</td>\n",
       "      <td>1.0</td>\n",
       "      <td>0.0</td>\n",
       "      <td>0.0</td>\n",
       "      <td>0.0</td>\n",
       "      <td>0.0</td>\n",
       "      <td>0.0</td>\n",
       "      <td>0.0</td>\n",
       "      <td>0.0</td>\n",
       "      <td>6.871</td>\n",
       "    </tr>\n",
       "    <tr>\n",
       "      <th>(sandy) alex g</th>\n",
       "      <td>2017.000</td>\n",
       "      <td>6.071</td>\n",
       "      <td>0.283</td>\n",
       "      <td>0.461</td>\n",
       "      <td>0.589</td>\n",
       "      <td>0.313</td>\n",
       "      <td>0.223</td>\n",
       "      <td>-7.043</td>\n",
       "      <td>0.050</td>\n",
       "      <td>0.463</td>\n",
       "      <td>...</td>\n",
       "      <td>0.0</td>\n",
       "      <td>1.0</td>\n",
       "      <td>0.0</td>\n",
       "      <td>0.0</td>\n",
       "      <td>0.0</td>\n",
       "      <td>0.0</td>\n",
       "      <td>0.0</td>\n",
       "      <td>0.0</td>\n",
       "      <td>0.0</td>\n",
       "      <td>8.400</td>\n",
       "    </tr>\n",
       "    <tr>\n",
       "      <th>...and you will know us by the trail of dead</th>\n",
       "      <td>2005.600</td>\n",
       "      <td>4.641</td>\n",
       "      <td>0.223</td>\n",
       "      <td>0.452</td>\n",
       "      <td>0.618</td>\n",
       "      <td>0.201</td>\n",
       "      <td>0.202</td>\n",
       "      <td>-7.377</td>\n",
       "      <td>0.058</td>\n",
       "      <td>0.322</td>\n",
       "      <td>...</td>\n",
       "      <td>0.0</td>\n",
       "      <td>1.0</td>\n",
       "      <td>0.0</td>\n",
       "      <td>0.0</td>\n",
       "      <td>0.0</td>\n",
       "      <td>0.0</td>\n",
       "      <td>0.0</td>\n",
       "      <td>0.0</td>\n",
       "      <td>0.0</td>\n",
       "      <td>7.170</td>\n",
       "    </tr>\n",
       "    <tr>\n",
       "      <th>03 greedo</th>\n",
       "      <td>2018.333</td>\n",
       "      <td>4.705</td>\n",
       "      <td>0.136</td>\n",
       "      <td>0.724</td>\n",
       "      <td>0.529</td>\n",
       "      <td>0.004</td>\n",
       "      <td>0.172</td>\n",
       "      <td>-7.954</td>\n",
       "      <td>0.160</td>\n",
       "      <td>0.346</td>\n",
       "      <td>...</td>\n",
       "      <td>0.0</td>\n",
       "      <td>0.0</td>\n",
       "      <td>1.0</td>\n",
       "      <td>0.0</td>\n",
       "      <td>0.0</td>\n",
       "      <td>0.0</td>\n",
       "      <td>0.0</td>\n",
       "      <td>0.0</td>\n",
       "      <td>0.0</td>\n",
       "      <td>7.867</td>\n",
       "    </tr>\n",
       "    <tr>\n",
       "      <th>13 &amp; god</th>\n",
       "      <td>2005.000</td>\n",
       "      <td>4.500</td>\n",
       "      <td>0.478</td>\n",
       "      <td>0.627</td>\n",
       "      <td>0.573</td>\n",
       "      <td>0.434</td>\n",
       "      <td>0.162</td>\n",
       "      <td>-11.962</td>\n",
       "      <td>0.065</td>\n",
       "      <td>0.191</td>\n",
       "      <td>...</td>\n",
       "      <td>0.0</td>\n",
       "      <td>0.0</td>\n",
       "      <td>0.0</td>\n",
       "      <td>0.0</td>\n",
       "      <td>1.0</td>\n",
       "      <td>0.0</td>\n",
       "      <td>0.0</td>\n",
       "      <td>0.0</td>\n",
       "      <td>0.0</td>\n",
       "      <td>8.100</td>\n",
       "    </tr>\n",
       "  </tbody>\n",
       "</table>\n",
       "<p>5 rows × 22 columns</p>\n",
       "</div>"
      ],
      "text/plain": [
       "                                              releaseyear_previous  \\\n",
       "artist                                                               \n",
       "!!!                                                       2009.286   \n",
       "(sandy) alex g                                            2017.000   \n",
       "...and you will know us by the trail of dead              2005.600   \n",
       "03 greedo                                                 2018.333   \n",
       "13 & god                                                  2005.000   \n",
       "\n",
       "                                              key_previous  \\\n",
       "artist                                                       \n",
       "!!!                                                  5.560   \n",
       "(sandy) alex g                                       6.071   \n",
       "...and you will know us by the trail of dead         4.641   \n",
       "03 greedo                                            4.705   \n",
       "13 & god                                             4.500   \n",
       "\n",
       "                                              acousticness_previous  \\\n",
       "artist                                                                \n",
       "!!!                                                           0.070   \n",
       "(sandy) alex g                                                0.283   \n",
       "...and you will know us by the trail of dead                  0.223   \n",
       "03 greedo                                                     0.136   \n",
       "13 & god                                                      0.478   \n",
       "\n",
       "                                              danceability_previous  \\\n",
       "artist                                                                \n",
       "!!!                                                           0.702   \n",
       "(sandy) alex g                                                0.461   \n",
       "...and you will know us by the trail of dead                  0.452   \n",
       "03 greedo                                                     0.724   \n",
       "13 & god                                                      0.627   \n",
       "\n",
       "                                              energy_previous  \\\n",
       "artist                                                          \n",
       "!!!                                                     0.817   \n",
       "(sandy) alex g                                          0.589   \n",
       "...and you will know us by the trail of dead            0.618   \n",
       "03 greedo                                               0.529   \n",
       "13 & god                                                0.573   \n",
       "\n",
       "                                              instrumentalness_previous  \\\n",
       "artist                                                                    \n",
       "!!!                                                               0.184   \n",
       "(sandy) alex g                                                    0.313   \n",
       "...and you will know us by the trail of dead                      0.201   \n",
       "03 greedo                                                         0.004   \n",
       "13 & god                                                          0.434   \n",
       "\n",
       "                                              liveness_previous  \\\n",
       "artist                                                            \n",
       "!!!                                                       0.192   \n",
       "(sandy) alex g                                            0.223   \n",
       "...and you will know us by the trail of dead              0.202   \n",
       "03 greedo                                                 0.172   \n",
       "13 & god                                                  0.162   \n",
       "\n",
       "                                              loudness_previous  \\\n",
       "artist                                                            \n",
       "!!!                                                      -6.456   \n",
       "(sandy) alex g                                           -7.043   \n",
       "...and you will know us by the trail of dead             -7.377   \n",
       "03 greedo                                                -7.954   \n",
       "13 & god                                                -11.962   \n",
       "\n",
       "                                              speechiness_previous  \\\n",
       "artist                                                               \n",
       "!!!                                                          0.076   \n",
       "(sandy) alex g                                               0.050   \n",
       "...and you will know us by the trail of dead                 0.058   \n",
       "03 greedo                                                    0.160   \n",
       "13 & god                                                     0.065   \n",
       "\n",
       "                                              valence_previous  ...  \\\n",
       "artist                                                          ...   \n",
       "!!!                                                      0.682  ...   \n",
       "(sandy) alex g                                           0.463  ...   \n",
       "...and you will know us by the trail of dead             0.322  ...   \n",
       "03 greedo                                                0.346  ...   \n",
       "13 & god                                                 0.191  ...   \n",
       "\n",
       "                                              Folk/Country_onehot_previous  \\\n",
       "artist                                                                       \n",
       "!!!                                                                    0.0   \n",
       "(sandy) alex g                                                         0.0   \n",
       "...and you will know us by the trail of dead                           0.0   \n",
       "03 greedo                                                              0.0   \n",
       "13 & god                                                               0.0   \n",
       "\n",
       "                                              Rock_onehot_previous  \\\n",
       "artist                                                               \n",
       "!!!                                                            1.0   \n",
       "(sandy) alex g                                                 1.0   \n",
       "...and you will know us by the trail of dead                   1.0   \n",
       "03 greedo                                                      0.0   \n",
       "13 & god                                                       0.0   \n",
       "\n",
       "                                              Rap_onehot_previous  \\\n",
       "artist                                                              \n",
       "!!!                                                           0.0   \n",
       "(sandy) alex g                                                0.0   \n",
       "...and you will know us by the trail of dead                  0.0   \n",
       "03 greedo                                                     1.0   \n",
       "13 & god                                                      0.0   \n",
       "\n",
       "                                              Global_onehot_previous  \\\n",
       "artist                                                                 \n",
       "!!!                                                              0.0   \n",
       "(sandy) alex g                                                   0.0   \n",
       "...and you will know us by the trail of dead                     0.0   \n",
       "03 greedo                                                        0.0   \n",
       "13 & god                                                         0.0   \n",
       "\n",
       "                                              Experimental_onehot_previous  \\\n",
       "artist                                                                       \n",
       "!!!                                                                    0.0   \n",
       "(sandy) alex g                                                         0.0   \n",
       "...and you will know us by the trail of dead                           0.0   \n",
       "03 greedo                                                              0.0   \n",
       "13 & god                                                               1.0   \n",
       "\n",
       "                                              Metal_onehot_previous  \\\n",
       "artist                                                                \n",
       "!!!                                                             0.0   \n",
       "(sandy) alex g                                                  0.0   \n",
       "...and you will know us by the trail of dead                    0.0   \n",
       "03 greedo                                                       0.0   \n",
       "13 & god                                                        0.0   \n",
       "\n",
       "                                              Pop/R&B_onehot_previous  \\\n",
       "artist                                                                  \n",
       "!!!                                                               0.0   \n",
       "(sandy) alex g                                                    0.0   \n",
       "...and you will know us by the trail of dead                      0.0   \n",
       "03 greedo                                                         0.0   \n",
       "13 & god                                                          0.0   \n",
       "\n",
       "                                              Jazz_onehot_previous  \\\n",
       "artist                                                               \n",
       "!!!                                                            0.0   \n",
       "(sandy) alex g                                                 0.0   \n",
       "...and you will know us by the trail of dead                   0.0   \n",
       "03 greedo                                                      0.0   \n",
       "13 & god                                                       0.0   \n",
       "\n",
       "                                              Other_onehot_previous  \\\n",
       "artist                                                                \n",
       "!!!                                                             0.0   \n",
       "(sandy) alex g                                                  0.0   \n",
       "...and you will know us by the trail of dead                    0.0   \n",
       "03 greedo                                                       0.0   \n",
       "13 & god                                                        0.0   \n",
       "\n",
       "                                              score_previous  \n",
       "artist                                                        \n",
       "!!!                                                    6.871  \n",
       "(sandy) alex g                                         8.400  \n",
       "...and you will know us by the trail of dead           7.170  \n",
       "03 greedo                                              7.867  \n",
       "13 & god                                               8.100  \n",
       "\n",
       "[5 rows x 22 columns]"
      ]
     },
     "execution_count": 40,
     "metadata": {},
     "output_type": "execute_result"
    }
   ],
   "source": [
    "# Creation of a new dataframe\n",
    "df_without_last_album = second_df.where(second_df.duplicated(\"artist\", keep = \"last\")).dropna()\n",
    "\n",
    "# Compute the mean and add the _previous suffix\n",
    "previous_means = second_df.where(second_df.duplicated(\"artist\", keep = \"last\")).groupby([\"artist\"]).mean()[features] \\\n",
    "                                    .add_suffix(\"_previous\")\n",
    "previous_means.head().round(decimals = 3)"
   ]
  },
  {
   "cell_type": "markdown",
   "metadata": {},
   "source": [
    "We drop the album duplicates of our initial dataframe by sorting it first with respect to artists. Then, we merge it with the means of the columns_previous computed above."
   ]
  },
  {
   "cell_type": "code",
   "execution_count": 41,
   "metadata": {},
   "outputs": [
    {
     "name": "stdout",
     "output_type": "stream",
     "text": [
      "(3563, 50)\n"
     ]
    },
    {
     "data": {
      "text/html": [
       "<div>\n",
       "<style scoped>\n",
       "    .dataframe tbody tr th:only-of-type {\n",
       "        vertical-align: middle;\n",
       "    }\n",
       "\n",
       "    .dataframe tbody tr th {\n",
       "        vertical-align: top;\n",
       "    }\n",
       "\n",
       "    .dataframe thead th {\n",
       "        text-align: right;\n",
       "    }\n",
       "</style>\n",
       "<table border=\"1\" class=\"dataframe\">\n",
       "  <thead>\n",
       "    <tr style=\"text-align: right;\">\n",
       "      <th></th>\n",
       "      <th>artist</th>\n",
       "      <th>album</th>\n",
       "      <th>reviewauthor</th>\n",
       "      <th>score</th>\n",
       "      <th>releaseyear</th>\n",
       "      <th>reviewdate</th>\n",
       "      <th>recordlabel</th>\n",
       "      <th>genre</th>\n",
       "      <th>danceability</th>\n",
       "      <th>energy</th>\n",
       "      <th>...</th>\n",
       "      <th>Folk/Country_onehot_previous</th>\n",
       "      <th>Rock_onehot_previous</th>\n",
       "      <th>Rap_onehot_previous</th>\n",
       "      <th>Global_onehot_previous</th>\n",
       "      <th>Experimental_onehot_previous</th>\n",
       "      <th>Metal_onehot_previous</th>\n",
       "      <th>Pop/R&amp;B_onehot_previous</th>\n",
       "      <th>Jazz_onehot_previous</th>\n",
       "      <th>Other_onehot_previous</th>\n",
       "      <th>score_previous</th>\n",
       "    </tr>\n",
       "  </thead>\n",
       "  <tbody>\n",
       "    <tr>\n",
       "      <th>0</th>\n",
       "      <td>!!!</td>\n",
       "      <td>wallop</td>\n",
       "      <td>Jesse Dorris</td>\n",
       "      <td>7.2</td>\n",
       "      <td>2019.0</td>\n",
       "      <td>2019-09-07</td>\n",
       "      <td>none</td>\n",
       "      <td>Rock</td>\n",
       "      <td>0.746</td>\n",
       "      <td>0.738</td>\n",
       "      <td>...</td>\n",
       "      <td>0.0</td>\n",
       "      <td>1.0</td>\n",
       "      <td>0.0</td>\n",
       "      <td>0.0</td>\n",
       "      <td>0.0</td>\n",
       "      <td>0.0</td>\n",
       "      <td>0.0</td>\n",
       "      <td>0.0</td>\n",
       "      <td>0.0</td>\n",
       "      <td>6.871</td>\n",
       "    </tr>\n",
       "    <tr>\n",
       "      <th>1</th>\n",
       "      <td>(sandy) alex g</td>\n",
       "      <td>house of sugar</td>\n",
       "      <td>Anna Gaca</td>\n",
       "      <td>8.6</td>\n",
       "      <td>2019.0</td>\n",
       "      <td>2019-09-16</td>\n",
       "      <td>none</td>\n",
       "      <td>Rock</td>\n",
       "      <td>0.494</td>\n",
       "      <td>0.640</td>\n",
       "      <td>...</td>\n",
       "      <td>0.0</td>\n",
       "      <td>1.0</td>\n",
       "      <td>0.0</td>\n",
       "      <td>0.0</td>\n",
       "      <td>0.0</td>\n",
       "      <td>0.0</td>\n",
       "      <td>0.0</td>\n",
       "      <td>0.0</td>\n",
       "      <td>0.0</td>\n",
       "      <td>8.400</td>\n",
       "    </tr>\n",
       "    <tr>\n",
       "      <th>2</th>\n",
       "      <td>...and you will know us by the trail of dead</td>\n",
       "      <td>ix</td>\n",
       "      <td>Stuart Berman</td>\n",
       "      <td>7.2</td>\n",
       "      <td>2014.0</td>\n",
       "      <td>2014-10-21</td>\n",
       "      <td>Superball</td>\n",
       "      <td>Rock</td>\n",
       "      <td>0.416</td>\n",
       "      <td>0.914</td>\n",
       "      <td>...</td>\n",
       "      <td>0.0</td>\n",
       "      <td>1.0</td>\n",
       "      <td>0.0</td>\n",
       "      <td>0.0</td>\n",
       "      <td>0.0</td>\n",
       "      <td>0.0</td>\n",
       "      <td>0.0</td>\n",
       "      <td>0.0</td>\n",
       "      <td>0.0</td>\n",
       "      <td>7.170</td>\n",
       "    </tr>\n",
       "  </tbody>\n",
       "</table>\n",
       "<p>3 rows × 50 columns</p>\n",
       "</div>"
      ],
      "text/plain": [
       "                                         artist           album  \\\n",
       "0                                           !!!          wallop   \n",
       "1                                (sandy) alex g  house of sugar   \n",
       "2  ...and you will know us by the trail of dead              ix   \n",
       "\n",
       "    reviewauthor  score  releaseyear reviewdate recordlabel genre  \\\n",
       "0   Jesse Dorris    7.2       2019.0 2019-09-07        none  Rock   \n",
       "1      Anna Gaca    8.6       2019.0 2019-09-16        none  Rock   \n",
       "2  Stuart Berman    7.2       2014.0 2014-10-21   Superball  Rock   \n",
       "\n",
       "   danceability  energy  ...  Folk/Country_onehot_previous  \\\n",
       "0         0.746   0.738  ...                           0.0   \n",
       "1         0.494   0.640  ...                           0.0   \n",
       "2         0.416   0.914  ...                           0.0   \n",
       "\n",
       "   Rock_onehot_previous  Rap_onehot_previous  Global_onehot_previous  \\\n",
       "0                   1.0                  0.0                     0.0   \n",
       "1                   1.0                  0.0                     0.0   \n",
       "2                   1.0                  0.0                     0.0   \n",
       "\n",
       "   Experimental_onehot_previous  Metal_onehot_previous  \\\n",
       "0                           0.0                    0.0   \n",
       "1                           0.0                    0.0   \n",
       "2                           0.0                    0.0   \n",
       "\n",
       "   Pop/R&B_onehot_previous  Jazz_onehot_previous  Other_onehot_previous  \\\n",
       "0                      0.0                   0.0                    0.0   \n",
       "1                      0.0                   0.0                    0.0   \n",
       "2                      0.0                   0.0                    0.0   \n",
       "\n",
       "   score_previous  \n",
       "0           6.871  \n",
       "1           8.400  \n",
       "2           7.170  \n",
       "\n",
       "[3 rows x 50 columns]"
      ]
     },
     "execution_count": 41,
     "metadata": {},
     "output_type": "execute_result"
    }
   ],
   "source": [
    "df_last_albums = second_df.drop_duplicates(\"artist\", keep = \"last\").sort_values(\"artist\")\n",
    "df_last_albums = df_last_albums.merge(previous_means, on = \"artist\")\n",
    "\n",
    "print(df_last_albums.shape)\n",
    "df_last_albums.head(3).round(decimals = 3)"
   ]
  },
  {
   "cell_type": "markdown",
   "metadata": {},
   "source": [
    "_2. Train a Gradient Boosting Regressor considering all features created in Task 4.1 (note that `score` is the outcome and everything else is a feature, including `score_previous`). Use the 70/30 random train-test split, the default hyperparameters, and report the $R^2$ for the testing set._"
   ]
  },
  {
   "cell_type": "markdown",
   "metadata": {},
   "source": [
    "Let's define our features and label."
   ]
  },
  {
   "cell_type": "code",
   "execution_count": 42,
   "metadata": {},
   "outputs": [],
   "source": [
    "X = df_last_albums.drop(['score', 'artist', 'album', 'genre','reviewauthor','reviewdate', 'recordlabel'], axis = 1)\n",
    "y = df_last_albums.score"
   ]
  },
  {
   "cell_type": "markdown",
   "metadata": {},
   "source": [
    "We train and run a gradient boosting regressor on (70/30) random train-test-split data."
   ]
  },
  {
   "cell_type": "code",
   "execution_count": 43,
   "metadata": {},
   "outputs": [
    {
     "name": "stdout",
     "output_type": "stream",
     "text": [
      "The coefficient of determination of the Gradient Boosting Regressor equals 0.213\n"
     ]
    }
   ],
   "source": [
    "# Splitting the data before training\n",
    "x_train, x_test, y_train, y_test = train_test_split(X, y, train_size = 0.7, test_size = 0.3, random_state = 123)\n",
    "\n",
    "# Training the Gradient Boosting Regressor\n",
    "gbr = GradientBoostingRegressor()\n",
    "gbr.fit(x_train, y_train)\n",
    "\n",
    "# Testing\n",
    "y_pred_gradient = gbr.predict(x_test)\n",
    "\n",
    "# Evaluating the coefficient of determination\n",
    "r2_gradient_longitudinal = r2_score(y_test, y_pred_gradient)\n",
    "print(\"The coefficient of determination of the Gradient Boosting Regressor equals\", round(r2_gradient_longitudinal, 3))"
   ]
  },
  {
   "cell_type": "markdown",
   "metadata": {},
   "source": [
    "We see that after adding the features _previous, the $R^2$ increases from -0.44 to 0.21."
   ]
  },
  {
   "cell_type": "markdown",
   "metadata": {},
   "source": [
    "_3. Can hyperparameter tuning improve your model? Write modular code (i.e., a function) to divide your training data into $N$ folds and perform cross-validation. Experiment tuning two hyperparameters of the Gradient Boosting Regressor: `n_estimators` and `learning_rate`. For each possible combination of the two hyperparameters (see below for the range of values that you should try for each hyperparameter), train your model in a cross-validation setup with $N=20$ folds. Report the mean  $R^2$ along with the 90% CI for each scenario._ \n",
    "- _n_estimators $ \\in  \\{ 100, 200, 300, 400\\}$._\n",
    "- _learning_rate $ \\in  \\{ 0.1, 0.05, 0.01\\}$._\n",
    " \n",
    "_With the best hyperparameters obtained, train your model with the entire training set and report the $R^2$ on the testing set._"
   ]
  },
  {
   "cell_type": "markdown",
   "metadata": {},
   "source": [
    "We define our `cross_validation` function with N-fold which in addition tunes 2 hyperparamters : the `n_estimators` and `learning_rat`."
   ]
  },
  {
   "cell_type": "code",
   "execution_count": 44,
   "metadata": {},
   "outputs": [],
   "source": [
    "def cross_validation(X, y, params_list, N):\n",
    "    '''\n",
    "    Function that divides full dataset to N parts, test on one part, train on all others. By doing that we\n",
    "    tuned the parameters of our model to have the best r2.\n",
    "    Inputs:\n",
    "        * X : array of features\n",
    "        * y : array of labels\n",
    "        * N : number of parts (integer)\n",
    "    Output:\n",
    "        * params_best : learning rate and n_estimators\n",
    "        * r2_best : Best R-square\n",
    "    '''\n",
    "    # Build k indices for k-fold\n",
    "    num_row = y.shape[0]\n",
    "    interval = int(num_row / N)\n",
    "    indices = np.random.permutation(num_row)\n",
    "    k_indices = np.array([indices[k * interval: (k + 1) * interval]\n",
    "                 for k in range(N)])\n",
    "\n",
    "    r2_means, r2_full, ci90s, params_best, r2_best = [], [], [], None, -1\n",
    "\n",
    "    # Go through all parameters\n",
    "    for params in params_list:\n",
    "        # Cross validation \n",
    "        r2_all = []\n",
    "        for k in range(N):\n",
    "            \n",
    "            # Get k'th subgroup in test, others in train\n",
    "            k_val = np.reshape(np.vstack((k_indices[:k, :], k_indices[k+1:,])), -1)\n",
    "            x_train = X.iloc[k_val]\n",
    "            x_test = X.iloc[k_indices[k]]\n",
    "            y_train = y.iloc[k_val]\n",
    "            y_test = y.iloc[k_indices[k]]\n",
    "            reg = GradientBoostingRegressor(n_estimators=params[1], learning_rate=params[0]).fit(x_train, y_train)\n",
    "\n",
    "            # Evaluate the model\n",
    "            preds_test = reg.predict(x_test)\n",
    "            r2_all.append(r2_score(y_test, preds_test))\n",
    "            \n",
    "        # Choose the best parameters\n",
    "        r2_mean = np.mean(r2_all)\n",
    "        r2_full.append(r2_all)\n",
    "        r2_means.append(r2_mean)\n",
    "        \n",
    "        # We compute 90% confidence interval\n",
    "        ci90s.append([round(sorted(r2_all)[N//10-1], 3), round(sorted(r2_all)[N-N//10-1], 3)]) \n",
    "        \n",
    "        if r2_mean > r2_best:\n",
    "            params_best = params\n",
    "            r2_best = r2_mean\n",
    "    \n",
    "    results_df = pd.DataFrame({\"Parameters (lr, n_estimator)\": params_list, \"90% CI\": ci90s, \"R2\": r2_means})\n",
    "    \n",
    "    return params_best, r2_best, results_df"
   ]
  },
  {
   "cell_type": "markdown",
   "metadata": {},
   "source": [
    "We call the `cross_validation` function."
   ]
  },
  {
   "cell_type": "code",
   "execution_count": 45,
   "metadata": {},
   "outputs": [
    {
     "data": {
      "text/html": [
       "<div>\n",
       "<style scoped>\n",
       "    .dataframe tbody tr th:only-of-type {\n",
       "        vertical-align: middle;\n",
       "    }\n",
       "\n",
       "    .dataframe tbody tr th {\n",
       "        vertical-align: top;\n",
       "    }\n",
       "\n",
       "    .dataframe thead th {\n",
       "        text-align: right;\n",
       "    }\n",
       "</style>\n",
       "<table border=\"1\" class=\"dataframe\">\n",
       "  <thead>\n",
       "    <tr style=\"text-align: right;\">\n",
       "      <th></th>\n",
       "      <th>Parameters (lr, n_estimator)</th>\n",
       "      <th>90% CI</th>\n",
       "      <th>R2</th>\n",
       "    </tr>\n",
       "  </thead>\n",
       "  <tbody>\n",
       "    <tr>\n",
       "      <th>0</th>\n",
       "      <td>(0.1, 100)</td>\n",
       "      <td>[-0.031, 0.264]</td>\n",
       "      <td>0.162792</td>\n",
       "    </tr>\n",
       "    <tr>\n",
       "      <th>1</th>\n",
       "      <td>(0.1, 200)</td>\n",
       "      <td>[-0.053, 0.252]</td>\n",
       "      <td>0.141479</td>\n",
       "    </tr>\n",
       "    <tr>\n",
       "      <th>2</th>\n",
       "      <td>(0.1, 300)</td>\n",
       "      <td>[-0.121, 0.243]</td>\n",
       "      <td>0.123129</td>\n",
       "    </tr>\n",
       "    <tr>\n",
       "      <th>3</th>\n",
       "      <td>(0.1, 400)</td>\n",
       "      <td>[-0.147, 0.241]</td>\n",
       "      <td>0.109325</td>\n",
       "    </tr>\n",
       "    <tr>\n",
       "      <th>4</th>\n",
       "      <td>(0.05, 100)</td>\n",
       "      <td>[-0.073, 0.28]</td>\n",
       "      <td>0.169578</td>\n",
       "    </tr>\n",
       "    <tr>\n",
       "      <th>5</th>\n",
       "      <td>(0.05, 200)</td>\n",
       "      <td>[-0.125, 0.267]</td>\n",
       "      <td>0.157204</td>\n",
       "    </tr>\n",
       "    <tr>\n",
       "      <th>6</th>\n",
       "      <td>(0.05, 300)</td>\n",
       "      <td>[-0.142, 0.266]</td>\n",
       "      <td>0.141293</td>\n",
       "    </tr>\n",
       "    <tr>\n",
       "      <th>7</th>\n",
       "      <td>(0.05, 400)</td>\n",
       "      <td>[-0.195, 0.267]</td>\n",
       "      <td>0.131579</td>\n",
       "    </tr>\n",
       "    <tr>\n",
       "      <th>8</th>\n",
       "      <td>(0.01, 100)</td>\n",
       "      <td>[0.042, 0.218]</td>\n",
       "      <td>0.154720</td>\n",
       "    </tr>\n",
       "    <tr>\n",
       "      <th>9</th>\n",
       "      <td>(0.01, 200)</td>\n",
       "      <td>[-0.001, 0.258]</td>\n",
       "      <td>0.173762</td>\n",
       "    </tr>\n",
       "    <tr>\n",
       "      <th>10</th>\n",
       "      <td>(0.01, 300)</td>\n",
       "      <td>[-0.013, 0.272]</td>\n",
       "      <td>0.175931</td>\n",
       "    </tr>\n",
       "    <tr>\n",
       "      <th>11</th>\n",
       "      <td>(0.01, 400)</td>\n",
       "      <td>[-0.036, 0.279]</td>\n",
       "      <td>0.172669</td>\n",
       "    </tr>\n",
       "  </tbody>\n",
       "</table>\n",
       "</div>"
      ],
      "text/plain": [
       "   Parameters (lr, n_estimator)           90% CI        R2\n",
       "0                    (0.1, 100)  [-0.031, 0.264]  0.162792\n",
       "1                    (0.1, 200)  [-0.053, 0.252]  0.141479\n",
       "2                    (0.1, 300)  [-0.121, 0.243]  0.123129\n",
       "3                    (0.1, 400)  [-0.147, 0.241]  0.109325\n",
       "4                   (0.05, 100)   [-0.073, 0.28]  0.169578\n",
       "5                   (0.05, 200)  [-0.125, 0.267]  0.157204\n",
       "6                   (0.05, 300)  [-0.142, 0.266]  0.141293\n",
       "7                   (0.05, 400)  [-0.195, 0.267]  0.131579\n",
       "8                   (0.01, 100)   [0.042, 0.218]  0.154720\n",
       "9                   (0.01, 200)  [-0.001, 0.258]  0.173762\n",
       "10                  (0.01, 300)  [-0.013, 0.272]  0.175931\n",
       "11                  (0.01, 400)  [-0.036, 0.279]  0.172669"
      ]
     },
     "execution_count": 45,
     "metadata": {},
     "output_type": "execute_result"
    }
   ],
   "source": [
    "# Hyperparameters to test\n",
    "learning_rates = [0.1, 0.05, 0.01]\n",
    "n_estimators = [100, 200, 300, 400]\n",
    "params_list = list(itertools.product(learning_rates, n_estimators))\n",
    "\n",
    "# K_fold\n",
    "N = 20\n",
    "\n",
    "# Get best parameters \n",
    "(learning_rate, n_estimator), r2_best, results_df = cross_validation(x_train, y_train, params_list, N)\n",
    "results_df"
   ]
  },
  {
   "cell_type": "code",
   "execution_count": 46,
   "metadata": {},
   "outputs": [],
   "source": [
    "# Try best parameters on data\n",
    "reg = GradientBoostingRegressor(n_estimators=n_estimator, learning_rate=learning_rate).fit(x_train, y_train)\n",
    "preds_test = reg.predict(x_test)"
   ]
  },
  {
   "cell_type": "markdown",
   "metadata": {},
   "source": [
    "Let's have a look at the test and training $R^2$."
   ]
  },
  {
   "cell_type": "code",
   "execution_count": 47,
   "metadata": {},
   "outputs": [
    {
     "name": "stdout",
     "output_type": "stream",
     "text": [
      "Best parameters: learning_rate = 0.01 , n_estimator = 300\n",
      "The coefficient R2 of determination of the Gradient Boosting Regressor on the training split equals 0.325\n",
      "The coefficient R2 of determination of the Gradient Boosting Regressor on the test split equals 0.215\n"
     ]
    }
   ],
   "source": [
    "print(\"Best parameters: learning_rate =\", learning_rate, \", n_estimator =\", n_estimator)\n",
    "reg = GradientBoostingRegressor(n_estimators=n_estimator, learning_rate=learning_rate).fit(x_train, y_train)\n",
    "preds_train = reg.predict(x_train)\n",
    "print(\"The coefficient R2 of determination of the Gradient Boosting Regressor on the training split equals\" \\\n",
    "      , round(r2_score(y_train, preds_train), 3))\n",
    "preds_test = reg.predict(x_test)\n",
    "r2_gradient = r2_score(y_test, preds_test)\n",
    "print(\"The coefficient R2 of determination of the Gradient Boosting Regressor on the test split equals\" \\\n",
    "      , round(r2_gradient, 3))"
   ]
  },
  {
   "cell_type": "markdown",
   "metadata": {},
   "source": [
    "As expected, the test $R^2$ is smaller than the training one."
   ]
  },
  {
   "cell_type": "markdown",
   "metadata": {},
   "source": [
    "_**Discuss**: How do these results compare with the previous setup (the scenario considered in Task 3.4)? Point out two reasons why it is hard to compare the results obtained in 4.3 and 3.4 at face value? How would you fairly compare the two different setups?_"
   ]
  },
  {
   "cell_type": "markdown",
   "metadata": {},
   "source": [
    "In generality, we notice that our $R^2$ is much higher in the tak 4.3 than in the task 3.4. It is hard to compare the 2 results obtained at face value for the following reasons :\n",
    "   - In task 4.3, we performed a hyperparameter tuning to search for the best one as opposed to the task 3.4 where we only took the default parameters. Thus, we cannot compare them on an equal basis even we use the same method in each case.\n",
    "   - In task 3.4, the data was split in a longitudinal fashion while it was split randomely (70/30) in the 4.3 task. In addition, we added some features in the task 4.3 and decreased significantly the sample size. This induces, the fact that the two methods, while the same, were not evaluated the same way nor on the same dataset. Furthermore, we have seen that the longitudinal split is not really ideal.    \n",
    "   \n",
    "To be able to conduct a fair comparison between the two set-up is to evaluate our model on the same dataset and split. It implies using a seed to fix the randomness of our evaluation as well as tune the hyperparameters and use cross-validation in both cases."
   ]
  },
  {
   "cell_type": "markdown",
   "metadata": {
    "pycharm": {
     "name": "#%% md\n"
    }
   },
   "source": [
    "**Task 5 (Preliminary analyses — 8 pts)**\n",
    "\n",
    "You begin by carrying out some preliminary data processing and analyses.\n",
    "\n",
    "1. Create a new dataframe (from the original data with duplicates dropped, the same as you obtained after finishing Task 1.1) containing only albums from artists with two or more albums and where the release year is not empty.\n",
    "2. Create a new column `album_number` which indicates how many albums the artist has produced before this one (before the second album, the artist has already produced one album).\n",
    "3. Calculate the mean and the standard error fo the mean of the scores of the first and second albums in the dataset. Additionally, plot the two distributions. \n",
    "4. Use an appropriate method to determine if the difference in means of 1st and 2nd albums is statistically significant?\n",
    "5. **Discuss:** Do these analyses suggest that the \"second album syndrome\" exists?\n",
    "\n",
    "---"
   ]
  },
  {
   "cell_type": "markdown",
   "metadata": {},
   "source": [
    "_1. Create a new dataframe (from the original data with duplicates dropped, the same as you obtained after finishing Task 1.1) containing only albums from artists with two or more albums and where the release year is not empty._"
   ]
  },
  {
   "cell_type": "markdown",
   "metadata": {},
   "source": [
    "Let's start by reminding ourselves of the initial size of our cleaned dataframe (without the  duplicate reviews)."
   ]
  },
  {
   "cell_type": "code",
   "execution_count": 48,
   "metadata": {},
   "outputs": [
    {
     "data": {
      "text/plain": [
       "(16738, 18)"
      ]
     },
     "execution_count": 48,
     "metadata": {},
     "output_type": "execute_result"
    }
   ],
   "source": [
    "cleaned_df_part2.shape"
   ]
  },
  {
   "cell_type": "markdown",
   "metadata": {},
   "source": [
    "We remove rows where the release year is empty by only keeping rows where the release year is a float."
   ]
  },
  {
   "cell_type": "code",
   "execution_count": 49,
   "metadata": {},
   "outputs": [
    {
     "data": {
      "text/plain": [
       "(16738, 18)"
      ]
     },
     "execution_count": 49,
     "metadata": {},
     "output_type": "execute_result"
    }
   ],
   "source": [
    "cleaned_df_part2 = cleaned_df_part2[cleaned_df_part2['releaseyear'].map(lambda x: isinstance(x, float))]\n",
    "cleaned_df_part2.shape"
   ]
  },
  {
   "cell_type": "markdown",
   "metadata": {},
   "source": [
    "It seems that no release years were empty. We now only keep artists with two or more albums. The function `duplicated` returns boolean Series denoting duplicate rows. The argument `False` marks all duplicates as True."
   ]
  },
  {
   "cell_type": "code",
   "execution_count": 50,
   "metadata": {},
   "outputs": [
    {
     "name": "stdout",
     "output_type": "stream",
     "text": [
      "(12414, 18)\n"
     ]
    },
    {
     "data": {
      "text/html": [
       "<div>\n",
       "<style scoped>\n",
       "    .dataframe tbody tr th:only-of-type {\n",
       "        vertical-align: middle;\n",
       "    }\n",
       "\n",
       "    .dataframe tbody tr th {\n",
       "        vertical-align: top;\n",
       "    }\n",
       "\n",
       "    .dataframe thead th {\n",
       "        text-align: right;\n",
       "    }\n",
       "</style>\n",
       "<table border=\"1\" class=\"dataframe\">\n",
       "  <thead>\n",
       "    <tr style=\"text-align: right;\">\n",
       "      <th></th>\n",
       "      <th>artist</th>\n",
       "      <th>album</th>\n",
       "      <th>reviewauthor</th>\n",
       "      <th>score</th>\n",
       "      <th>releaseyear</th>\n",
       "      <th>reviewdate</th>\n",
       "      <th>recordlabel</th>\n",
       "      <th>genre</th>\n",
       "      <th>danceability</th>\n",
       "      <th>energy</th>\n",
       "      <th>key</th>\n",
       "      <th>loudness</th>\n",
       "      <th>speechiness</th>\n",
       "      <th>acousticness</th>\n",
       "      <th>instrumentalness</th>\n",
       "      <th>liveness</th>\n",
       "      <th>valence</th>\n",
       "      <th>tempo</th>\n",
       "    </tr>\n",
       "  </thead>\n",
       "  <tbody>\n",
       "    <tr>\n",
       "      <th>1</th>\n",
       "      <td>john fahey</td>\n",
       "      <td>the great santa barbara oil slick</td>\n",
       "      <td>Mark Richardson</td>\n",
       "      <td>8.2</td>\n",
       "      <td>2005.0</td>\n",
       "      <td>February 13 2005</td>\n",
       "      <td>Water</td>\n",
       "      <td>Folk/Country</td>\n",
       "      <td>0.370</td>\n",
       "      <td>0.325</td>\n",
       "      <td>4.471</td>\n",
       "      <td>-19.154</td>\n",
       "      <td>0.149</td>\n",
       "      <td>0.647</td>\n",
       "      <td>0.559</td>\n",
       "      <td>0.528</td>\n",
       "      <td>0.179</td>\n",
       "      <td>107.623</td>\n",
       "    </tr>\n",
       "    <tr>\n",
       "      <th>2</th>\n",
       "      <td>reigning sound</td>\n",
       "      <td>too much guitar</td>\n",
       "      <td>Stephen M. Deusner</td>\n",
       "      <td>8.3</td>\n",
       "      <td>2004.0</td>\n",
       "      <td>August 19 2004</td>\n",
       "      <td>In the Red</td>\n",
       "      <td>Electronic</td>\n",
       "      <td>0.254</td>\n",
       "      <td>0.913</td>\n",
       "      <td>4.429</td>\n",
       "      <td>-1.090</td>\n",
       "      <td>0.056</td>\n",
       "      <td>0.000</td>\n",
       "      <td>0.751</td>\n",
       "      <td>0.199</td>\n",
       "      <td>0.553</td>\n",
       "      <td>133.896</td>\n",
       "    </tr>\n",
       "    <tr>\n",
       "      <th>4</th>\n",
       "      <td>mac miller</td>\n",
       "      <td>swimming</td>\n",
       "      <td>Evan Rytlewski</td>\n",
       "      <td>7.5</td>\n",
       "      <td>2018.0</td>\n",
       "      <td>August 3 2018</td>\n",
       "      <td>Warner Bros.</td>\n",
       "      <td>Rap</td>\n",
       "      <td>0.625</td>\n",
       "      <td>0.438</td>\n",
       "      <td>4.154</td>\n",
       "      <td>-9.456</td>\n",
       "      <td>0.170</td>\n",
       "      <td>0.652</td>\n",
       "      <td>0.013</td>\n",
       "      <td>0.121</td>\n",
       "      <td>0.281</td>\n",
       "      <td>122.121</td>\n",
       "    </tr>\n",
       "    <tr>\n",
       "      <th>5</th>\n",
       "      <td>french kicks</td>\n",
       "      <td>swimming</td>\n",
       "      <td>Roque Strew</td>\n",
       "      <td>7.6</td>\n",
       "      <td>2008.0</td>\n",
       "      <td>August 27 2008</td>\n",
       "      <td>Vagrant</td>\n",
       "      <td>Electronic</td>\n",
       "      <td>0.625</td>\n",
       "      <td>0.438</td>\n",
       "      <td>4.154</td>\n",
       "      <td>-9.456</td>\n",
       "      <td>0.170</td>\n",
       "      <td>0.652</td>\n",
       "      <td>0.013</td>\n",
       "      <td>0.121</td>\n",
       "      <td>0.281</td>\n",
       "      <td>122.121</td>\n",
       "    </tr>\n",
       "    <tr>\n",
       "      <th>6</th>\n",
       "      <td>jessica lea mayfield</td>\n",
       "      <td>with blasphemy so heartfelt</td>\n",
       "      <td>Stephen M. Deusner</td>\n",
       "      <td>8.2</td>\n",
       "      <td>2008.0</td>\n",
       "      <td>November 11 2008</td>\n",
       "      <td>Polymer</td>\n",
       "      <td>Rock</td>\n",
       "      <td>0.448</td>\n",
       "      <td>0.399</td>\n",
       "      <td>6.500</td>\n",
       "      <td>-8.402</td>\n",
       "      <td>0.032</td>\n",
       "      <td>0.695</td>\n",
       "      <td>0.004</td>\n",
       "      <td>0.123</td>\n",
       "      <td>0.238</td>\n",
       "      <td>111.550</td>\n",
       "    </tr>\n",
       "  </tbody>\n",
       "</table>\n",
       "</div>"
      ],
      "text/plain": [
       "                 artist                              album  \\\n",
       "1            john fahey  the great santa barbara oil slick   \n",
       "2        reigning sound                    too much guitar   \n",
       "4            mac miller                           swimming   \n",
       "5          french kicks                           swimming   \n",
       "6  jessica lea mayfield        with blasphemy so heartfelt   \n",
       "\n",
       "         reviewauthor  score  releaseyear        reviewdate   recordlabel  \\\n",
       "1     Mark Richardson    8.2       2005.0  February 13 2005         Water   \n",
       "2  Stephen M. Deusner    8.3       2004.0    August 19 2004    In the Red   \n",
       "4      Evan Rytlewski    7.5       2018.0     August 3 2018  Warner Bros.   \n",
       "5         Roque Strew    7.6       2008.0    August 27 2008       Vagrant   \n",
       "6  Stephen M. Deusner    8.2       2008.0  November 11 2008       Polymer   \n",
       "\n",
       "          genre  danceability  energy    key  loudness  speechiness  \\\n",
       "1  Folk/Country         0.370   0.325  4.471   -19.154        0.149   \n",
       "2    Electronic         0.254   0.913  4.429    -1.090        0.056   \n",
       "4           Rap         0.625   0.438  4.154    -9.456        0.170   \n",
       "5    Electronic         0.625   0.438  4.154    -9.456        0.170   \n",
       "6          Rock         0.448   0.399  6.500    -8.402        0.032   \n",
       "\n",
       "   acousticness  instrumentalness  liveness  valence    tempo  \n",
       "1         0.647             0.559     0.528    0.179  107.623  \n",
       "2         0.000             0.751     0.199    0.553  133.896  \n",
       "4         0.652             0.013     0.121    0.281  122.121  \n",
       "5         0.652             0.013     0.121    0.281  122.121  \n",
       "6         0.695             0.004     0.123    0.238  111.550  "
      ]
     },
     "execution_count": 50,
     "metadata": {},
     "output_type": "execute_result"
    }
   ],
   "source": [
    "duplicates_df = cleaned_df_part2[cleaned_df_part2.duplicated(subset = ['artist'], keep = False)].copy() \n",
    "print(duplicates_df.shape)\n",
    "duplicates_df.head().round(decimals = 3)"
   ]
  },
  {
   "cell_type": "markdown",
   "metadata": {},
   "source": [
    "4324 rows were removed. We now have a data frame `duplicates_df` containing only albums from artists with two or more albums and where the release year is not empty, for a total of 12414 rows (albums)."
   ]
  },
  {
   "cell_type": "markdown",
   "metadata": {},
   "source": [
    "_2. Create a new column `album_number` which indicates how many albums the artist has produced before this one (before the second album, the artist has already produced one album)._"
   ]
  },
  {
   "cell_type": "markdown",
   "metadata": {},
   "source": [
    "We start by creating the column `album_number` (having empty entries) to our dataframe."
   ]
  },
  {
   "cell_type": "code",
   "execution_count": 51,
   "metadata": {},
   "outputs": [],
   "source": [
    "duplicates_df['album_number'] = \"\""
   ]
  },
  {
   "cell_type": "markdown",
   "metadata": {},
   "source": [
    "Let's create a data frame containing all artists with two or more albums."
   ]
  },
  {
   "cell_type": "code",
   "execution_count": 52,
   "metadata": {},
   "outputs": [
    {
     "name": "stdout",
     "output_type": "stream",
     "text": [
      "3566\n"
     ]
    },
    {
     "data": {
      "text/html": [
       "<div>\n",
       "<style scoped>\n",
       "    .dataframe tbody tr th:only-of-type {\n",
       "        vertical-align: middle;\n",
       "    }\n",
       "\n",
       "    .dataframe tbody tr th {\n",
       "        vertical-align: top;\n",
       "    }\n",
       "\n",
       "    .dataframe thead th {\n",
       "        text-align: right;\n",
       "    }\n",
       "</style>\n",
       "<table border=\"1\" class=\"dataframe\">\n",
       "  <thead>\n",
       "    <tr style=\"text-align: right;\">\n",
       "      <th></th>\n",
       "      <th>artist</th>\n",
       "    </tr>\n",
       "  </thead>\n",
       "  <tbody>\n",
       "    <tr>\n",
       "      <th>neil young</th>\n",
       "      <td>27</td>\n",
       "    </tr>\n",
       "    <tr>\n",
       "      <th>bonnie “prince” billy</th>\n",
       "      <td>22</td>\n",
       "    </tr>\n",
       "    <tr>\n",
       "      <th>guided by voices</th>\n",
       "      <td>20</td>\n",
       "    </tr>\n",
       "    <tr>\n",
       "      <th>animal collective</th>\n",
       "      <td>20</td>\n",
       "    </tr>\n",
       "    <tr>\n",
       "      <th>gucci mane</th>\n",
       "      <td>19</td>\n",
       "    </tr>\n",
       "    <tr>\n",
       "      <th>...</th>\n",
       "      <td>...</td>\n",
       "    </tr>\n",
       "    <tr>\n",
       "      <th>greet death</th>\n",
       "      <td>2</td>\n",
       "    </tr>\n",
       "    <tr>\n",
       "      <th>damian marley</th>\n",
       "      <td>2</td>\n",
       "    </tr>\n",
       "    <tr>\n",
       "      <th>asmus tietchens</th>\n",
       "      <td>2</td>\n",
       "    </tr>\n",
       "    <tr>\n",
       "      <th>khemmis</th>\n",
       "      <td>2</td>\n",
       "    </tr>\n",
       "    <tr>\n",
       "      <th>bonnie ‚äúprince‚äù billy</th>\n",
       "      <td>2</td>\n",
       "    </tr>\n",
       "  </tbody>\n",
       "</table>\n",
       "<p>3566 rows × 1 columns</p>\n",
       "</div>"
      ],
      "text/plain": [
       "                           artist\n",
       "neil young                     27\n",
       "bonnie “prince” billy          22\n",
       "guided by voices               20\n",
       "animal collective              20\n",
       "gucci mane                     19\n",
       "...                           ...\n",
       "greet death                     2\n",
       "damian marley                   2\n",
       "asmus tietchens                 2\n",
       "khemmis                         2\n",
       "bonnie ‚äúprince‚äù billy       2\n",
       "\n",
       "[3566 rows x 1 columns]"
      ]
     },
     "execution_count": 52,
     "metadata": {},
     "output_type": "execute_result"
    }
   ],
   "source": [
    "artists = pd.DataFrame(duplicates_df['artist'].value_counts(dropna = False))\n",
    "print(artists.size)\n",
    "artists"
   ]
  },
  {
   "cell_type": "markdown",
   "metadata": {},
   "source": [
    "Those are a total of 3566 artists, having from 2 to 27 albums. This is two more artists that what we found in task 4 but this is because we use the data frame from task 1.1."
   ]
  },
  {
   "cell_type": "markdown",
   "metadata": {},
   "source": [
    "To fill the new column `album_number`, indicating how many albums the artist has produced before this one, we proceed the following way. For each artist, we sort his/her albums by release year. We then assign to each album the number of albums released before it. Finally, we add those indices to the initial `duplicates_df` data frame."
   ]
  },
  {
   "cell_type": "code",
   "execution_count": 53,
   "metadata": {},
   "outputs": [],
   "source": [
    "for artist in artists.index:\n",
    "    artists_order = duplicates_df[duplicates_df['artist'] == artist].sort_values(by = 'releaseyear', axis = 0, \\\n",
    "                            ascending = True).copy()\n",
    "    artists_order = artists_order.reset_index(drop = True)\n",
    "    for album in artists_order.album:\n",
    "        duplicates_df.loc[duplicates_df.index.values[np.logical_and(duplicates_df['album'] == album, \\\n",
    "                            duplicates_df['artist'] == artist)], 'album_number'] = \\\n",
    "                            artists_order.index.values[artists_order['album'] == album]\n",
    "        "
   ]
  },
  {
   "cell_type": "markdown",
   "metadata": {},
   "source": [
    "Let's visualise the `album_number` values of the albums of the artist Mac Miller."
   ]
  },
  {
   "cell_type": "code",
   "execution_count": 54,
   "metadata": {},
   "outputs": [
    {
     "data": {
      "text/html": [
       "<div>\n",
       "<style scoped>\n",
       "    .dataframe tbody tr th:only-of-type {\n",
       "        vertical-align: middle;\n",
       "    }\n",
       "\n",
       "    .dataframe tbody tr th {\n",
       "        vertical-align: top;\n",
       "    }\n",
       "\n",
       "    .dataframe thead th {\n",
       "        text-align: right;\n",
       "    }\n",
       "</style>\n",
       "<table border=\"1\" class=\"dataframe\">\n",
       "  <thead>\n",
       "    <tr style=\"text-align: right;\">\n",
       "      <th></th>\n",
       "      <th>artist</th>\n",
       "      <th>album</th>\n",
       "      <th>releaseyear</th>\n",
       "      <th>album_number</th>\n",
       "    </tr>\n",
       "  </thead>\n",
       "  <tbody>\n",
       "    <tr>\n",
       "      <th>4</th>\n",
       "      <td>mac miller</td>\n",
       "      <td>swimming</td>\n",
       "      <td>2018.0</td>\n",
       "      <td>4</td>\n",
       "    </tr>\n",
       "    <tr>\n",
       "      <th>5034</th>\n",
       "      <td>mac miller</td>\n",
       "      <td>the divine feminine</td>\n",
       "      <td>2016.0</td>\n",
       "      <td>3</td>\n",
       "    </tr>\n",
       "    <tr>\n",
       "      <th>5507</th>\n",
       "      <td>mac miller</td>\n",
       "      <td>blue slide park</td>\n",
       "      <td>2011.0</td>\n",
       "      <td>0</td>\n",
       "    </tr>\n",
       "    <tr>\n",
       "      <th>7955</th>\n",
       "      <td>mac miller</td>\n",
       "      <td>faces</td>\n",
       "      <td>2014.0</td>\n",
       "      <td>2</td>\n",
       "    </tr>\n",
       "    <tr>\n",
       "      <th>9048</th>\n",
       "      <td>mac miller</td>\n",
       "      <td>watching movies with the sound off</td>\n",
       "      <td>2013.0</td>\n",
       "      <td>1</td>\n",
       "    </tr>\n",
       "  </tbody>\n",
       "</table>\n",
       "</div>"
      ],
      "text/plain": [
       "          artist                               album  releaseyear album_number\n",
       "4     mac miller                            swimming       2018.0            4\n",
       "5034  mac miller                 the divine feminine       2016.0            3\n",
       "5507  mac miller                     blue slide park       2011.0            0\n",
       "7955  mac miller                               faces       2014.0            2\n",
       "9048  mac miller  watching movies with the sound off       2013.0            1"
      ]
     },
     "execution_count": 54,
     "metadata": {},
     "output_type": "execute_result"
    }
   ],
   "source": [
    "artist = 'mac miller'\n",
    "duplicates_df[duplicates_df['artist'] == artist][['artist','album','releaseyear','album_number']].head()"
   ]
  },
  {
   "cell_type": "markdown",
   "metadata": {},
   "source": [
    "It seems that our method works properly."
   ]
  },
  {
   "cell_type": "markdown",
   "metadata": {},
   "source": [
    "Still, Mac Miller has a different release year for each of his albums. To check what happens when two albums from the same artist are released the same year, we display the albums from Guided by Voices, having released 20 albums (c.f. above), increasing therefore the probability for two albums to be released the same year."
   ]
  },
  {
   "cell_type": "code",
   "execution_count": 55,
   "metadata": {},
   "outputs": [
    {
     "data": {
      "text/html": [
       "<div>\n",
       "<style scoped>\n",
       "    .dataframe tbody tr th:only-of-type {\n",
       "        vertical-align: middle;\n",
       "    }\n",
       "\n",
       "    .dataframe tbody tr th {\n",
       "        vertical-align: top;\n",
       "    }\n",
       "\n",
       "    .dataframe thead th {\n",
       "        text-align: right;\n",
       "    }\n",
       "</style>\n",
       "<table border=\"1\" class=\"dataframe\">\n",
       "  <thead>\n",
       "    <tr style=\"text-align: right;\">\n",
       "      <th></th>\n",
       "      <th>artist</th>\n",
       "      <th>album</th>\n",
       "      <th>releaseyear</th>\n",
       "      <th>reviewdate</th>\n",
       "      <th>album_number</th>\n",
       "    </tr>\n",
       "  </thead>\n",
       "  <tbody>\n",
       "    <tr>\n",
       "      <th>827</th>\n",
       "      <td>guided by voices</td>\n",
       "      <td>hold on hope ep</td>\n",
       "      <td>2000.0</td>\n",
       "      <td>March 31 2000</td>\n",
       "      <td>2</td>\n",
       "    </tr>\n",
       "    <tr>\n",
       "      <th>1017</th>\n",
       "      <td>guided by voices</td>\n",
       "      <td>universal truths and cycles</td>\n",
       "      <td>2002.0</td>\n",
       "      <td>June 23 2002</td>\n",
       "      <td>5</td>\n",
       "    </tr>\n",
       "    <tr>\n",
       "      <th>1367</th>\n",
       "      <td>guided by voices</td>\n",
       "      <td>live from austin, tx</td>\n",
       "      <td>2007.0</td>\n",
       "      <td>June 1 2007</td>\n",
       "      <td>8</td>\n",
       "    </tr>\n",
       "    <tr>\n",
       "      <th>1864</th>\n",
       "      <td>guided by voices</td>\n",
       "      <td>earthquake glue</td>\n",
       "      <td>2003.0</td>\n",
       "      <td>August 24 2003</td>\n",
       "      <td>6</td>\n",
       "    </tr>\n",
       "    <tr>\n",
       "      <th>4483</th>\n",
       "      <td>guided by voices</td>\n",
       "      <td>please be honest</td>\n",
       "      <td>2016.0</td>\n",
       "      <td>April 21 2016</td>\n",
       "      <td>17</td>\n",
       "    </tr>\n",
       "    <tr>\n",
       "      <th>4820</th>\n",
       "      <td>guided by voices</td>\n",
       "      <td>how do you spell heaven</td>\n",
       "      <td>2017.0</td>\n",
       "      <td>August 11 2017</td>\n",
       "      <td>19</td>\n",
       "    </tr>\n",
       "    <tr>\n",
       "      <th>5797</th>\n",
       "      <td>guided by voices</td>\n",
       "      <td>down by the racetrack ep</td>\n",
       "      <td>2013.0</td>\n",
       "      <td>January 30 2013</td>\n",
       "      <td>14</td>\n",
       "    </tr>\n",
       "    <tr>\n",
       "      <th>6535</th>\n",
       "      <td>guided by voices</td>\n",
       "      <td>english little league</td>\n",
       "      <td>2013.0</td>\n",
       "      <td>May 1 2013</td>\n",
       "      <td>13</td>\n",
       "    </tr>\n",
       "    <tr>\n",
       "      <th>8371</th>\n",
       "      <td>guided by voices</td>\n",
       "      <td>the bears for lunch</td>\n",
       "      <td>2012.0</td>\n",
       "      <td>November 12 2012</td>\n",
       "      <td>11</td>\n",
       "    </tr>\n",
       "    <tr>\n",
       "      <th>8597</th>\n",
       "      <td>guided by voices</td>\n",
       "      <td>suitcase 3: up we go now</td>\n",
       "      <td>2009.0</td>\n",
       "      <td>November 16 2009</td>\n",
       "      <td>9</td>\n",
       "    </tr>\n",
       "    <tr>\n",
       "      <th>8734</th>\n",
       "      <td>guided by voices</td>\n",
       "      <td>class clown spots a ufo</td>\n",
       "      <td>2012.0</td>\n",
       "      <td>June 27 2012</td>\n",
       "      <td>10</td>\n",
       "    </tr>\n",
       "    <tr>\n",
       "      <th>10364</th>\n",
       "      <td>guided by voices</td>\n",
       "      <td>half smiles of the decomposed</td>\n",
       "      <td>2004.0</td>\n",
       "      <td>August 23 2004</td>\n",
       "      <td>7</td>\n",
       "    </tr>\n",
       "    <tr>\n",
       "      <th>10988</th>\n",
       "      <td>guided by voices</td>\n",
       "      <td>suitcase: failed experiments and trashed aircraft</td>\n",
       "      <td>2000.0</td>\n",
       "      <td>August 31 2000</td>\n",
       "      <td>3</td>\n",
       "    </tr>\n",
       "    <tr>\n",
       "      <th>11191</th>\n",
       "      <td>guided by voices</td>\n",
       "      <td>motivational jumpsuit</td>\n",
       "      <td>2014.0</td>\n",
       "      <td>February 19 2014</td>\n",
       "      <td>15</td>\n",
       "    </tr>\n",
       "    <tr>\n",
       "      <th>11217</th>\n",
       "      <td>guided by voices</td>\n",
       "      <td>isolation drills</td>\n",
       "      <td>2001.0</td>\n",
       "      <td>March 31 2001</td>\n",
       "      <td>4</td>\n",
       "    </tr>\n",
       "    <tr>\n",
       "      <th>12715</th>\n",
       "      <td>guided by voices</td>\n",
       "      <td>august by cake</td>\n",
       "      <td>2017.0</td>\n",
       "      <td>April 11 2017</td>\n",
       "      <td>18</td>\n",
       "    </tr>\n",
       "    <tr>\n",
       "      <th>13845</th>\n",
       "      <td>guided by voices</td>\n",
       "      <td>alien lanes</td>\n",
       "      <td>1995.0</td>\n",
       "      <td>October 2 2016</td>\n",
       "      <td>1</td>\n",
       "    </tr>\n",
       "    <tr>\n",
       "      <th>14634</th>\n",
       "      <td>guided by voices</td>\n",
       "      <td>propeller</td>\n",
       "      <td>1992.0</td>\n",
       "      <td>November 7 2005</td>\n",
       "      <td>0</td>\n",
       "    </tr>\n",
       "    <tr>\n",
       "      <th>15158</th>\n",
       "      <td>guided by voices</td>\n",
       "      <td>let's go eat the factory</td>\n",
       "      <td>2012.0</td>\n",
       "      <td>January 4 2012</td>\n",
       "      <td>12</td>\n",
       "    </tr>\n",
       "    <tr>\n",
       "      <th>15318</th>\n",
       "      <td>guided by voices</td>\n",
       "      <td>cool planet</td>\n",
       "      <td>2014.0</td>\n",
       "      <td>May 13 2014</td>\n",
       "      <td>16</td>\n",
       "    </tr>\n",
       "  </tbody>\n",
       "</table>\n",
       "</div>"
      ],
      "text/plain": [
       "                 artist                                              album  \\\n",
       "827    guided by voices                                    hold on hope ep   \n",
       "1017   guided by voices                        universal truths and cycles   \n",
       "1367   guided by voices                               live from austin, tx   \n",
       "1864   guided by voices                                    earthquake glue   \n",
       "4483   guided by voices                                   please be honest   \n",
       "4820   guided by voices                            how do you spell heaven   \n",
       "5797   guided by voices                           down by the racetrack ep   \n",
       "6535   guided by voices                              english little league   \n",
       "8371   guided by voices                                the bears for lunch   \n",
       "8597   guided by voices                           suitcase 3: up we go now   \n",
       "8734   guided by voices                            class clown spots a ufo   \n",
       "10364  guided by voices                      half smiles of the decomposed   \n",
       "10988  guided by voices  suitcase: failed experiments and trashed aircraft   \n",
       "11191  guided by voices                              motivational jumpsuit   \n",
       "11217  guided by voices                                   isolation drills   \n",
       "12715  guided by voices                                     august by cake   \n",
       "13845  guided by voices                                        alien lanes   \n",
       "14634  guided by voices                                          propeller   \n",
       "15158  guided by voices                           let's go eat the factory   \n",
       "15318  guided by voices                                        cool planet   \n",
       "\n",
       "       releaseyear        reviewdate album_number  \n",
       "827         2000.0     March 31 2000            2  \n",
       "1017        2002.0      June 23 2002            5  \n",
       "1367        2007.0       June 1 2007            8  \n",
       "1864        2003.0    August 24 2003            6  \n",
       "4483        2016.0     April 21 2016           17  \n",
       "4820        2017.0    August 11 2017           19  \n",
       "5797        2013.0   January 30 2013           14  \n",
       "6535        2013.0        May 1 2013           13  \n",
       "8371        2012.0  November 12 2012           11  \n",
       "8597        2009.0  November 16 2009            9  \n",
       "8734        2012.0      June 27 2012           10  \n",
       "10364       2004.0    August 23 2004            7  \n",
       "10988       2000.0    August 31 2000            3  \n",
       "11191       2014.0  February 19 2014           15  \n",
       "11217       2001.0     March 31 2001            4  \n",
       "12715       2017.0     April 11 2017           18  \n",
       "13845       1995.0    October 2 2016            1  \n",
       "14634       1992.0   November 7 2005            0  \n",
       "15158       2012.0    January 4 2012           12  \n",
       "15318       2014.0       May 13 2014           16  "
      ]
     },
     "execution_count": 55,
     "metadata": {},
     "output_type": "execute_result"
    }
   ],
   "source": [
    "artist = 'guided by voices'\n",
    "duplicates_df[duplicates_df['artist'] == artist][['artist','album','releaseyear','reviewdate','album_number']].head(20)"
   ]
  },
  {
   "cell_type": "markdown",
   "metadata": {},
   "source": [
    "We see that several albums were indeed released the same year. For albums having the same release year, our method orders them randomly. Another possibility could be to order them by review date. Still, we see that the two first albums of Guided by Voices, released in 1992 and 1995, were respectively reviewed in 2005 and 2016, being long after their releases. As a result, using the review date could be misleading in our opinion - some albums being reviewed long after their release. Therefore, we prefer to let it random."
   ]
  },
  {
   "cell_type": "markdown",
   "metadata": {},
   "source": [
    "_3. Calculate the mean and the standard error of the mean of the scores of the first and second albums in the dataset. Additionally, plot the two distributions._"
   ]
  },
  {
   "cell_type": "markdown",
   "metadata": {},
   "source": [
    "We start by defining a function to compute the mean and standard deviation of albums in the dataset."
   ]
  },
  {
   "cell_type": "code",
   "execution_count": 56,
   "metadata": {},
   "outputs": [],
   "source": [
    "def compute_mean_and_std(ith_album, df):\n",
    "    \"\"\"\n",
    "    Computes the mean and the std of the scores of the ith albums.\n",
    "    Inputs:\n",
    "        * ith_album : number of the album (integer)\n",
    "        * df : data frame containing the scores of the ith albums\n",
    "    Outputs:\n",
    "        * mean : mean of the scores of the ith albums\n",
    "        * std : std of the scores of the ith albums\n",
    "    \"\"\"\n",
    "    mean = df[df['album_number'] == ith_album]['score'].mean()\n",
    "    std = df[df['album_number'] == ith_album]['score'].std()\n",
    "    return mean, std"
   ]
  },
  {
   "cell_type": "markdown",
   "metadata": {},
   "source": [
    "We compute the mean and standard deviation for the 1st and 2nd albums."
   ]
  },
  {
   "cell_type": "code",
   "execution_count": 57,
   "metadata": {},
   "outputs": [],
   "source": [
    "first_albums_mean, first_albums_std = compute_mean_and_std(0, duplicates_df)\n",
    "second_albums_mean, second_albums_std = compute_mean_and_std(1, duplicates_df)"
   ]
  },
  {
   "cell_type": "markdown",
   "metadata": {},
   "source": [
    "Lets now visualise those means in a table."
   ]
  },
  {
   "cell_type": "code",
   "execution_count": 58,
   "metadata": {},
   "outputs": [
    {
     "data": {
      "text/html": [
       "<div>\n",
       "<style scoped>\n",
       "    .dataframe tbody tr th:only-of-type {\n",
       "        vertical-align: middle;\n",
       "    }\n",
       "\n",
       "    .dataframe tbody tr th {\n",
       "        vertical-align: top;\n",
       "    }\n",
       "\n",
       "    .dataframe thead th {\n",
       "        text-align: right;\n",
       "    }\n",
       "</style>\n",
       "<table border=\"1\" class=\"dataframe\">\n",
       "  <thead>\n",
       "    <tr style=\"text-align: right;\">\n",
       "      <th></th>\n",
       "      <th>mean</th>\n",
       "      <th>std</th>\n",
       "    </tr>\n",
       "    <tr>\n",
       "      <th>condition</th>\n",
       "      <th></th>\n",
       "      <th></th>\n",
       "    </tr>\n",
       "  </thead>\n",
       "  <tbody>\n",
       "    <tr>\n",
       "      <th>1st album</th>\n",
       "      <td>7.30</td>\n",
       "      <td>1.24</td>\n",
       "    </tr>\n",
       "    <tr>\n",
       "      <th>2nd album</th>\n",
       "      <td>7.04</td>\n",
       "      <td>1.27</td>\n",
       "    </tr>\n",
       "  </tbody>\n",
       "</table>\n",
       "</div>"
      ],
      "text/plain": [
       "           mean   std\n",
       "condition            \n",
       "1st album  7.30  1.24\n",
       "2nd album  7.04  1.27"
      ]
     },
     "execution_count": 58,
     "metadata": {},
     "output_type": "execute_result"
    }
   ],
   "source": [
    "stat_df = pd.DataFrame()\n",
    "stat_df['condition'] = ['1st album', '2nd album']\n",
    "stat_df['mean'] = first_albums_mean, second_albums_mean\n",
    "stat_df['std'] = first_albums_std, second_albums_std\n",
    "stat_df.set_index('condition', inplace = True)\n",
    "stat_df.round(2)"
   ]
  },
  {
   "cell_type": "markdown",
   "metadata": {},
   "source": [
    "Finally, we plot the distributions."
   ]
  },
  {
   "cell_type": "code",
   "execution_count": 59,
   "metadata": {},
   "outputs": [
    {
     "data": {
      "image/png": "[encoded data removed]",
      "text/plain": [
       "<Figure size 720x360 with 1 Axes>"
      ]
     },
     "metadata": {},
     "output_type": "display_data"
    }
   ],
   "source": [
    "plt.figure(figsize = (10,5))\n",
    "sns.histplot(duplicates_df[duplicates_df['album_number'] == 0].score, kde = True, label ='1st albums', \\\n",
    "                         bins = 20, color = color_palette[7])\n",
    "sns.histplot(duplicates_df[duplicates_df['album_number'] == 1].score, kde=True, label = '2nd albums', \\\n",
    "                         bins = 20, color = color_palette[2])\n",
    "plt.legend()\n",
    "plt.xlabel('Scores')\n",
    "plt.title('Distribution of scores of 1st and 2nds albums', pad = 20);\n"
   ]
  },
  {
   "cell_type": "markdown",
   "metadata": {},
   "source": [
    "_4. Use an appropriate method to determine if the difference in means of 1st and 2nd albums is statistically significant?_"
   ]
  },
  {
   "cell_type": "markdown",
   "metadata": {},
   "source": [
    "To analyse whether there is a statistical difference between the scores of the 1st and 2nd albums, we calculate the T-test for the means of two independent samples.\n",
    "\n",
    "- The test statistic: s = `score`<sub>1st album</sub> – `score`<sub>2nd album</sub> \n",
    "- The null hypothesis H<sub>0</sub>: `score`<sub>1st album</sub> = `score`<sub>2nd album</sub> i.e.`score` values are the same in both conditions\n",
    "- We reject H<sub>0</sub> if Pr(S > s | H<sub>0</sub>) < α\n",
    "\n",
    "We set our significance level α at 0.05 (a suitable “small” probability), being high enough to have a low false-positive rate and therefore a high statistical power."
   ]
  },
  {
   "cell_type": "code",
   "execution_count": 60,
   "metadata": {},
   "outputs": [
    {
     "data": {
      "text/plain": [
       "Ttest_indResult(statistic=8.627339056891048, pvalue=7.65509444654324e-18)"
      ]
     },
     "execution_count": 60,
     "metadata": {},
     "output_type": "execute_result"
    }
   ],
   "source": [
    "ttest_ind(duplicates_df[duplicates_df['album_number'] == 0]['score'], \\\n",
    "                        duplicates_df[duplicates_df['album_number'] == 1]['score'])\n"
   ]
  },
  {
   "cell_type": "markdown",
   "metadata": {},
   "source": [
    "This test evaluates, if the two albums behaved the same way, how likely would we be to find such a distribution of `score` values. This test results in a p value of 7.66 * 10<sup>-18</sup>, being inferior to 0.05. As a result, we reject the null hypothesis that `score` values are the same for the 1st and 2nd albums (under α = 0.05)."
   ]
  },
  {
   "cell_type": "markdown",
   "metadata": {},
   "source": [
    "_5. **Discuss:** Do these analyses suggest that the \"second album syndrome\" exists?_"
   ]
  },
  {
   "cell_type": "markdown",
   "metadata": {},
   "source": [
    "In 5.3, we saw that the mean of `score` is slightly lower for the 2nd albums, compared to the 1st albums. As a result, we could speculate that the second albums seem to be slightly less good in terms of score compared from the first albums, suggesting the existance of the second album syndrome."
   ]
  },
  {
   "cell_type": "markdown",
   "metadata": {},
   "source": [
    "**Task 6 (Regression analysis — 20 pts)**\n",
    "\n",
    "Next, you proceed to examine some hypotheses about the \"second album syndrome\" using a regression framework. Namely:\n",
    "\n",
    "- The **time spent hypothesis:**  the first album usually has a couple of years of development under its belt and plenty of trial and error from live concerts to help the band determine what does or doesn't work. The second album, on the other hand, is often made in a rush.\n",
    "\n",
    "- The **style change hypothesis:** bands often try to change their style after their first album. This change is not always welcomed by the listeners.\n",
    "\n",
    "1. Create a new dataframe containing one row per 1st-2nd album pair. The dataframe should contain rows:\n",
    "    - `score_diff`: the difference in scores between the second and the first album (second - first).\n",
    "    - `time_diff`: the number of days elapsed between the first and the second album.\n",
    "    - `did_style_change`: a dummy variable that indicates whether the style of the music has changed. To obtain it, first, calculate the [standardized euclidean distance](https://docs.scipy.org/doc/scipy/reference/generated/scipy.spatial.distance.seuclidean.html) of music-related numerical features¹ between the second and the first album. Second, assign 1 to the 20% most distant 1st-2nd album pairs and 0 to all others.\n",
    "2. Fit a linear regression using `statsmodels` with this dataframe. Your regression should consider only an intercept, i.e., `\"score_diff ~ 1\"`.\n",
    "3. **Discuss:** Interpret the $R^2$ in your regression here. Does this analysis confirm what you observed in Task 5? Why?\n",
    "4. Include the `time_diff` and `did_style_change` as covariates in your model. Fit the regression again and report the summary of your model. \n",
    "5. **Discuss:** Interpret the coefficients `time_diff` and `did_style_change`. Carefully explain whether they provide evidence towards each of the aforementioned hypotheses? Do they rule out other reasons that may cause the \"second album syndrome effect\"?\n",
    "6. Create a new column called `time_diff_standardized`. It should be a standardized version of the `time_diff` column. Repeat the regression done in 6.4 using the `time_diff_standardized` column instead of the `time_diff` column.\n",
    "7. **Discuss:** Explain how the interpretation of the coefficients associated with this new column `time_diff_standardized` differ from its non-standardized version \n",
    "`time_diff`?\n",
    "\n",
    "--- \n",
    "\n",
    "**¹** Music related numerical features are:  \"key\", \"acousticness\", \"danceability\", \"energy\", \"instrumentalness\", \"liveness\", \"loudness\", \"speechiness\", \"valence\", and \"tempo\".\n"
   ]
  },
  {
   "cell_type": "markdown",
   "metadata": {},
   "source": [
    "_1.Create a new dataframe containing one row per 1st-2nd album pair, with `score_diff`, `time_diff` and `did_style_change`._"
   ]
  },
  {
   "cell_type": "markdown",
   "metadata": {},
   "source": [
    "Let's remind us of our duplicates data frame."
   ]
  },
  {
   "cell_type": "code",
   "execution_count": 61,
   "metadata": {},
   "outputs": [
    {
     "data": {
      "text/html": [
       "<div>\n",
       "<style scoped>\n",
       "    .dataframe tbody tr th:only-of-type {\n",
       "        vertical-align: middle;\n",
       "    }\n",
       "\n",
       "    .dataframe tbody tr th {\n",
       "        vertical-align: top;\n",
       "    }\n",
       "\n",
       "    .dataframe thead th {\n",
       "        text-align: right;\n",
       "    }\n",
       "</style>\n",
       "<table border=\"1\" class=\"dataframe\">\n",
       "  <thead>\n",
       "    <tr style=\"text-align: right;\">\n",
       "      <th></th>\n",
       "      <th>artist</th>\n",
       "      <th>album</th>\n",
       "      <th>reviewauthor</th>\n",
       "      <th>score</th>\n",
       "      <th>releaseyear</th>\n",
       "      <th>reviewdate</th>\n",
       "      <th>recordlabel</th>\n",
       "      <th>genre</th>\n",
       "      <th>danceability</th>\n",
       "      <th>energy</th>\n",
       "      <th>key</th>\n",
       "      <th>loudness</th>\n",
       "      <th>speechiness</th>\n",
       "      <th>acousticness</th>\n",
       "      <th>instrumentalness</th>\n",
       "      <th>liveness</th>\n",
       "      <th>valence</th>\n",
       "      <th>tempo</th>\n",
       "      <th>album_number</th>\n",
       "    </tr>\n",
       "  </thead>\n",
       "  <tbody>\n",
       "    <tr>\n",
       "      <th>1</th>\n",
       "      <td>john fahey</td>\n",
       "      <td>the great santa barbara oil slick</td>\n",
       "      <td>Mark Richardson</td>\n",
       "      <td>8.2</td>\n",
       "      <td>2005.0</td>\n",
       "      <td>February 13 2005</td>\n",
       "      <td>Water</td>\n",
       "      <td>Folk/Country</td>\n",
       "      <td>0.370</td>\n",
       "      <td>0.325</td>\n",
       "      <td>4.471</td>\n",
       "      <td>-19.154</td>\n",
       "      <td>0.149</td>\n",
       "      <td>0.647</td>\n",
       "      <td>0.559</td>\n",
       "      <td>0.528</td>\n",
       "      <td>0.179</td>\n",
       "      <td>107.623</td>\n",
       "      <td>2</td>\n",
       "    </tr>\n",
       "    <tr>\n",
       "      <th>2</th>\n",
       "      <td>reigning sound</td>\n",
       "      <td>too much guitar</td>\n",
       "      <td>Stephen M. Deusner</td>\n",
       "      <td>8.3</td>\n",
       "      <td>2004.0</td>\n",
       "      <td>August 19 2004</td>\n",
       "      <td>In the Red</td>\n",
       "      <td>Electronic</td>\n",
       "      <td>0.254</td>\n",
       "      <td>0.913</td>\n",
       "      <td>4.429</td>\n",
       "      <td>-1.090</td>\n",
       "      <td>0.056</td>\n",
       "      <td>0.000</td>\n",
       "      <td>0.751</td>\n",
       "      <td>0.199</td>\n",
       "      <td>0.553</td>\n",
       "      <td>133.896</td>\n",
       "      <td>0</td>\n",
       "    </tr>\n",
       "    <tr>\n",
       "      <th>4</th>\n",
       "      <td>mac miller</td>\n",
       "      <td>swimming</td>\n",
       "      <td>Evan Rytlewski</td>\n",
       "      <td>7.5</td>\n",
       "      <td>2018.0</td>\n",
       "      <td>August 3 2018</td>\n",
       "      <td>Warner Bros.</td>\n",
       "      <td>Rap</td>\n",
       "      <td>0.625</td>\n",
       "      <td>0.438</td>\n",
       "      <td>4.154</td>\n",
       "      <td>-9.456</td>\n",
       "      <td>0.170</td>\n",
       "      <td>0.652</td>\n",
       "      <td>0.013</td>\n",
       "      <td>0.121</td>\n",
       "      <td>0.281</td>\n",
       "      <td>122.121</td>\n",
       "      <td>4</td>\n",
       "    </tr>\n",
       "    <tr>\n",
       "      <th>5</th>\n",
       "      <td>french kicks</td>\n",
       "      <td>swimming</td>\n",
       "      <td>Roque Strew</td>\n",
       "      <td>7.6</td>\n",
       "      <td>2008.0</td>\n",
       "      <td>August 27 2008</td>\n",
       "      <td>Vagrant</td>\n",
       "      <td>Electronic</td>\n",
       "      <td>0.625</td>\n",
       "      <td>0.438</td>\n",
       "      <td>4.154</td>\n",
       "      <td>-9.456</td>\n",
       "      <td>0.170</td>\n",
       "      <td>0.652</td>\n",
       "      <td>0.013</td>\n",
       "      <td>0.121</td>\n",
       "      <td>0.281</td>\n",
       "      <td>122.121</td>\n",
       "      <td>3</td>\n",
       "    </tr>\n",
       "    <tr>\n",
       "      <th>6</th>\n",
       "      <td>jessica lea mayfield</td>\n",
       "      <td>with blasphemy so heartfelt</td>\n",
       "      <td>Stephen M. Deusner</td>\n",
       "      <td>8.2</td>\n",
       "      <td>2008.0</td>\n",
       "      <td>November 11 2008</td>\n",
       "      <td>Polymer</td>\n",
       "      <td>Rock</td>\n",
       "      <td>0.448</td>\n",
       "      <td>0.399</td>\n",
       "      <td>6.500</td>\n",
       "      <td>-8.402</td>\n",
       "      <td>0.032</td>\n",
       "      <td>0.695</td>\n",
       "      <td>0.004</td>\n",
       "      <td>0.123</td>\n",
       "      <td>0.238</td>\n",
       "      <td>111.550</td>\n",
       "      <td>0</td>\n",
       "    </tr>\n",
       "  </tbody>\n",
       "</table>\n",
       "</div>"
      ],
      "text/plain": [
       "                 artist                              album  \\\n",
       "1            john fahey  the great santa barbara oil slick   \n",
       "2        reigning sound                    too much guitar   \n",
       "4            mac miller                           swimming   \n",
       "5          french kicks                           swimming   \n",
       "6  jessica lea mayfield        with blasphemy so heartfelt   \n",
       "\n",
       "         reviewauthor  score  releaseyear        reviewdate   recordlabel  \\\n",
       "1     Mark Richardson    8.2       2005.0  February 13 2005         Water   \n",
       "2  Stephen M. Deusner    8.3       2004.0    August 19 2004    In the Red   \n",
       "4      Evan Rytlewski    7.5       2018.0     August 3 2018  Warner Bros.   \n",
       "5         Roque Strew    7.6       2008.0    August 27 2008       Vagrant   \n",
       "6  Stephen M. Deusner    8.2       2008.0  November 11 2008       Polymer   \n",
       "\n",
       "          genre  danceability  energy    key  loudness  speechiness  \\\n",
       "1  Folk/Country         0.370   0.325  4.471   -19.154        0.149   \n",
       "2    Electronic         0.254   0.913  4.429    -1.090        0.056   \n",
       "4           Rap         0.625   0.438  4.154    -9.456        0.170   \n",
       "5    Electronic         0.625   0.438  4.154    -9.456        0.170   \n",
       "6          Rock         0.448   0.399  6.500    -8.402        0.032   \n",
       "\n",
       "   acousticness  instrumentalness  liveness  valence    tempo album_number  \n",
       "1         0.647             0.559     0.528    0.179  107.623            2  \n",
       "2         0.000             0.751     0.199    0.553  133.896            0  \n",
       "4         0.652             0.013     0.121    0.281  122.121            4  \n",
       "5         0.652             0.013     0.121    0.281  122.121            3  \n",
       "6         0.695             0.004     0.123    0.238  111.550            0  "
      ]
     },
     "execution_count": 61,
     "metadata": {},
     "output_type": "execute_result"
    }
   ],
   "source": [
    "duplicates_df.head().round(decimals = 3)"
   ]
  },
  {
   "cell_type": "markdown",
   "metadata": {},
   "source": [
    "We first check that there are the same number of 1st and 2nd albums, and that this number is equal to the number of artists.\n",
    "\n",
    "To start, we store all columns name containing numerical music information."
   ]
  },
  {
   "cell_type": "code",
   "execution_count": 62,
   "metadata": {},
   "outputs": [],
   "source": [
    "musique_related_numerical = ['danceability', 'energy', 'key', 'loudness', 'speechiness', \n",
    "                                   'acousticness', 'instrumentalness', 'liveness', 'valence', 'tempo']"
   ]
  },
  {
   "cell_type": "markdown",
   "metadata": {},
   "source": [
    "We then create a data frame containing all useful information for the first albums, then print its size."
   ]
  },
  {
   "cell_type": "code",
   "execution_count": 63,
   "metadata": {},
   "outputs": [
    {
     "data": {
      "text/plain": [
       "3566"
      ]
     },
     "execution_count": 63,
     "metadata": {},
     "output_type": "execute_result"
    }
   ],
   "source": [
    "first_albums = duplicates_df[duplicates_df['album_number'] == 0][['artist', 'score', 'releaseyear']]\n",
    "first_albums.rename(columns = {\"score\":\"score_first\", 'releaseyear':'releaseyear_first'}, inplace = True)\n",
    "\n",
    "musique_related_numerical_first = ['danceability_first', 'energy_first', 'key_first', 'loudness_first',  \n",
    "                                   'speechiness_first', 'acousticness_first', 'instrumentalness_first', \n",
    "                                   'liveness_first', 'valence_first', 'tempo_first']\n",
    "\n",
    "first_albums[musique_related_numerical_first] = duplicates_df[duplicates_df['album_number'] == 0] \\\n",
    "                                                    [musique_related_numerical]\n",
    "\n",
    "\n",
    "first_albums.shape[0]"
   ]
  },
  {
   "cell_type": "markdown",
   "metadata": {},
   "source": [
    "The same is done for the second albums."
   ]
  },
  {
   "cell_type": "code",
   "execution_count": 64,
   "metadata": {},
   "outputs": [
    {
     "data": {
      "text/plain": [
       "3566"
      ]
     },
     "execution_count": 64,
     "metadata": {},
     "output_type": "execute_result"
    }
   ],
   "source": [
    "second_albums = duplicates_df[duplicates_df['album_number'] == 1][['artist', 'score', 'releaseyear']]\n",
    "second_albums.rename(columns = {\"score\":\"score_second\", 'releaseyear':'releaseyear_second'}, inplace = True)\n",
    "\n",
    "musique_related_numerical_second = ['danceability_second', 'energy_second', 'key_second', 'loudness_second', \n",
    "                                   'speechiness_second', 'acousticness_second', 'instrumentalness_second', \n",
    "                                   'liveness_second', 'valence_second', 'tempo_second']\n",
    "second_albums[musique_related_numerical_second] = duplicates_df[duplicates_df['album_number'] == 1] \\\n",
    "                                                    [musique_related_numerical]\n",
    "\n",
    "second_albums.shape[0]"
   ]
  },
  {
   "cell_type": "markdown",
   "metadata": {},
   "source": [
    "As we will merge the data frames on the artist, we check whether this size is equal to the number of artists. We already created a data frame `artists` in task 5.2."
   ]
  },
  {
   "cell_type": "code",
   "execution_count": 65,
   "metadata": {},
   "outputs": [
    {
     "data": {
      "text/plain": [
       "3566"
      ]
     },
     "execution_count": 65,
     "metadata": {},
     "output_type": "execute_result"
    }
   ],
   "source": [
    "artists.size"
   ]
  },
  {
   "cell_type": "markdown",
   "metadata": {},
   "source": [
    "We are happy to see that we indeed have a matching number of artists, first albums and second albums. As a result, we can now merge the `first_albums` and `second_albums` dataframes to be able to easily operate on the same row."
   ]
  },
  {
   "cell_type": "code",
   "execution_count": 66,
   "metadata": {},
   "outputs": [
    {
     "data": {
      "text/html": [
       "<div>\n",
       "<style scoped>\n",
       "    .dataframe tbody tr th:only-of-type {\n",
       "        vertical-align: middle;\n",
       "    }\n",
       "\n",
       "    .dataframe tbody tr th {\n",
       "        vertical-align: top;\n",
       "    }\n",
       "\n",
       "    .dataframe thead th {\n",
       "        text-align: right;\n",
       "    }\n",
       "</style>\n",
       "<table border=\"1\" class=\"dataframe\">\n",
       "  <thead>\n",
       "    <tr style=\"text-align: right;\">\n",
       "      <th></th>\n",
       "      <th>artist</th>\n",
       "      <th>score_first</th>\n",
       "      <th>releaseyear_first</th>\n",
       "      <th>danceability_first</th>\n",
       "      <th>energy_first</th>\n",
       "      <th>key_first</th>\n",
       "      <th>loudness_first</th>\n",
       "      <th>speechiness_first</th>\n",
       "      <th>acousticness_first</th>\n",
       "      <th>instrumentalness_first</th>\n",
       "      <th>...</th>\n",
       "      <th>danceability_second</th>\n",
       "      <th>energy_second</th>\n",
       "      <th>key_second</th>\n",
       "      <th>loudness_second</th>\n",
       "      <th>speechiness_second</th>\n",
       "      <th>acousticness_second</th>\n",
       "      <th>instrumentalness_second</th>\n",
       "      <th>liveness_second</th>\n",
       "      <th>valence_second</th>\n",
       "      <th>tempo_second</th>\n",
       "    </tr>\n",
       "  </thead>\n",
       "  <tbody>\n",
       "    <tr>\n",
       "      <th>0</th>\n",
       "      <td>reigning sound</td>\n",
       "      <td>8.3</td>\n",
       "      <td>2004.0</td>\n",
       "      <td>0.254</td>\n",
       "      <td>0.913</td>\n",
       "      <td>4.429</td>\n",
       "      <td>-1.090</td>\n",
       "      <td>0.056</td>\n",
       "      <td>0.000</td>\n",
       "      <td>0.751</td>\n",
       "      <td>...</td>\n",
       "      <td>0.444</td>\n",
       "      <td>0.593</td>\n",
       "      <td>5.900</td>\n",
       "      <td>-8.794</td>\n",
       "      <td>0.032</td>\n",
       "      <td>0.175</td>\n",
       "      <td>0.156</td>\n",
       "      <td>0.228</td>\n",
       "      <td>0.598</td>\n",
       "      <td>129.280</td>\n",
       "    </tr>\n",
       "    <tr>\n",
       "      <th>1</th>\n",
       "      <td>jessica lea mayfield</td>\n",
       "      <td>8.2</td>\n",
       "      <td>2008.0</td>\n",
       "      <td>0.448</td>\n",
       "      <td>0.399</td>\n",
       "      <td>6.500</td>\n",
       "      <td>-8.402</td>\n",
       "      <td>0.032</td>\n",
       "      <td>0.695</td>\n",
       "      <td>0.004</td>\n",
       "      <td>...</td>\n",
       "      <td>0.525</td>\n",
       "      <td>0.621</td>\n",
       "      <td>7.000</td>\n",
       "      <td>-7.364</td>\n",
       "      <td>0.116</td>\n",
       "      <td>0.049</td>\n",
       "      <td>0.000</td>\n",
       "      <td>0.294</td>\n",
       "      <td>0.591</td>\n",
       "      <td>191.900</td>\n",
       "    </tr>\n",
       "    <tr>\n",
       "      <th>2</th>\n",
       "      <td>the essex green</td>\n",
       "      <td>8.1</td>\n",
       "      <td>2000.0</td>\n",
       "      <td>0.729</td>\n",
       "      <td>0.932</td>\n",
       "      <td>5.000</td>\n",
       "      <td>-3.038</td>\n",
       "      <td>0.062</td>\n",
       "      <td>0.002</td>\n",
       "      <td>0.197</td>\n",
       "      <td>...</td>\n",
       "      <td>0.259</td>\n",
       "      <td>0.951</td>\n",
       "      <td>2.000</td>\n",
       "      <td>-3.221</td>\n",
       "      <td>0.093</td>\n",
       "      <td>0.001</td>\n",
       "      <td>0.002</td>\n",
       "      <td>0.162</td>\n",
       "      <td>0.257</td>\n",
       "      <td>144.510</td>\n",
       "    </tr>\n",
       "    <tr>\n",
       "      <th>3</th>\n",
       "      <td>american football</td>\n",
       "      <td>8.6</td>\n",
       "      <td>1999.0</td>\n",
       "      <td>0.483</td>\n",
       "      <td>0.682</td>\n",
       "      <td>5.222</td>\n",
       "      <td>-9.122</td>\n",
       "      <td>0.032</td>\n",
       "      <td>0.273</td>\n",
       "      <td>0.362</td>\n",
       "      <td>...</td>\n",
       "      <td>0.515</td>\n",
       "      <td>0.725</td>\n",
       "      <td>8.625</td>\n",
       "      <td>-6.763</td>\n",
       "      <td>0.029</td>\n",
       "      <td>0.009</td>\n",
       "      <td>0.141</td>\n",
       "      <td>0.106</td>\n",
       "      <td>0.291</td>\n",
       "      <td>127.068</td>\n",
       "    </tr>\n",
       "    <tr>\n",
       "      <th>4</th>\n",
       "      <td>fidlar</td>\n",
       "      <td>7.0</td>\n",
       "      <td>2013.0</td>\n",
       "      <td>0.362</td>\n",
       "      <td>0.874</td>\n",
       "      <td>6.929</td>\n",
       "      <td>-3.942</td>\n",
       "      <td>0.058</td>\n",
       "      <td>0.003</td>\n",
       "      <td>0.266</td>\n",
       "      <td>...</td>\n",
       "      <td>0.466</td>\n",
       "      <td>0.900</td>\n",
       "      <td>4.833</td>\n",
       "      <td>-2.973</td>\n",
       "      <td>0.089</td>\n",
       "      <td>0.083</td>\n",
       "      <td>0.183</td>\n",
       "      <td>0.273</td>\n",
       "      <td>0.392</td>\n",
       "      <td>141.334</td>\n",
       "    </tr>\n",
       "  </tbody>\n",
       "</table>\n",
       "<p>5 rows × 25 columns</p>\n",
       "</div>"
      ],
      "text/plain": [
       "                 artist  score_first  releaseyear_first  danceability_first  \\\n",
       "0        reigning sound          8.3             2004.0               0.254   \n",
       "1  jessica lea mayfield          8.2             2008.0               0.448   \n",
       "2       the essex green          8.1             2000.0               0.729   \n",
       "3     american football          8.6             1999.0               0.483   \n",
       "4                fidlar          7.0             2013.0               0.362   \n",
       "\n",
       "   energy_first  key_first  loudness_first  speechiness_first  \\\n",
       "0         0.913      4.429          -1.090              0.056   \n",
       "1         0.399      6.500          -8.402              0.032   \n",
       "2         0.932      5.000          -3.038              0.062   \n",
       "3         0.682      5.222          -9.122              0.032   \n",
       "4         0.874      6.929          -3.942              0.058   \n",
       "\n",
       "   acousticness_first  instrumentalness_first  ...  danceability_second  \\\n",
       "0               0.000                   0.751  ...                0.444   \n",
       "1               0.695                   0.004  ...                0.525   \n",
       "2               0.002                   0.197  ...                0.259   \n",
       "3               0.273                   0.362  ...                0.515   \n",
       "4               0.003                   0.266  ...                0.466   \n",
       "\n",
       "   energy_second  key_second  loudness_second  speechiness_second  \\\n",
       "0          0.593       5.900           -8.794               0.032   \n",
       "1          0.621       7.000           -7.364               0.116   \n",
       "2          0.951       2.000           -3.221               0.093   \n",
       "3          0.725       8.625           -6.763               0.029   \n",
       "4          0.900       4.833           -2.973               0.089   \n",
       "\n",
       "   acousticness_second  instrumentalness_second  liveness_second  \\\n",
       "0                0.175                    0.156            0.228   \n",
       "1                0.049                    0.000            0.294   \n",
       "2                0.001                    0.002            0.162   \n",
       "3                0.009                    0.141            0.106   \n",
       "4                0.083                    0.183            0.273   \n",
       "\n",
       "   valence_second  tempo_second  \n",
       "0           0.598       129.280  \n",
       "1           0.591       191.900  \n",
       "2           0.257       144.510  \n",
       "3           0.291       127.068  \n",
       "4           0.392       141.334  \n",
       "\n",
       "[5 rows x 25 columns]"
      ]
     },
     "execution_count": 66,
     "metadata": {},
     "output_type": "execute_result"
    }
   ],
   "source": [
    "first_second_albums = pd.merge(first_albums, second_albums, on = 'artist')\n",
    "first_second_albums.head().round(decimals = 3)"
   ]
  },
  {
   "cell_type": "markdown",
   "metadata": {},
   "source": [
    "We have 3566 artists that released at least two albums. We can now compute our three rows: `score_diff`, `time_diff` and `did_style_change`.\n",
    "\n",
    "Let's start by creating our data frame of interest from the merged data frame."
   ]
  },
  {
   "cell_type": "code",
   "execution_count": 67,
   "metadata": {},
   "outputs": [],
   "source": [
    "album_pair_df = pd.DataFrame()\n",
    "album_pair_df['artist'] = first_second_albums['artist']\n",
    "album_pair_df['score_diff'] = first_second_albums['score_second'] - first_second_albums['score_first']\n",
    "album_pair_df['time_diff'] = (first_second_albums['releaseyear_second'] - \\\n",
    "    first_second_albums['releaseyear_first']) * 365 # We multiply by 365 to have a time_diff in days"
   ]
  },
  {
   "cell_type": "markdown",
   "metadata": {},
   "source": [
    "To find the standardized euclidean distance, we compute the variance on the whole dataset."
   ]
  },
  {
   "cell_type": "code",
   "execution_count": 68,
   "metadata": {},
   "outputs": [],
   "source": [
    "Variance = np.var(duplicates_df[musique_related_numerical])"
   ]
  },
  {
   "cell_type": "markdown",
   "metadata": {},
   "source": [
    "We compute the standardized euclidean distance on each row between the first and the second albums."
   ]
  },
  {
   "cell_type": "code",
   "execution_count": 69,
   "metadata": {},
   "outputs": [],
   "source": [
    "for ind in range(album_pair_df.shape[0]):\n",
    "    album_pair_df.loc[ind, 'did_style_change'] \\\n",
    "            = seuclidean(first_second_albums[musique_related_numerical_first].iloc[ind].values,\n",
    "                first_second_albums[musique_related_numerical_second].iloc[ind].values, \n",
    "                V = Variance.values)"
   ]
  },
  {
   "cell_type": "markdown",
   "metadata": {},
   "source": [
    "We now attribute '1' value to the 20% most distant albums and '0' to all others."
   ]
  },
  {
   "cell_type": "code",
   "execution_count": 70,
   "metadata": {},
   "outputs": [
    {
     "name": "stdout",
     "output_type": "stream",
     "text": [
      "                      artist  score_diff  time_diff  did_style_change\n",
      "1077            babe rainbow         0.0     1460.0         25.393351\n",
      "1492                  unsane         0.0      730.0         24.400895\n",
      "2757              vondelpark         0.7     1095.0         23.607478\n",
      "1455                the cure        -0.6     1460.0         12.471498\n",
      "631             jello biafra         2.3      730.0         12.471006\n",
      "...                      ...         ...        ...               ...\n",
      "394               grinderman         0.4     1095.0          0.000000\n",
      "1048             luke vibert        -0.4      365.0          0.000000\n",
      "1305              ryan adams         0.0        0.0          0.000000\n",
      "609               sicko mobb        -1.1      365.0          0.000000\n",
      "916   the other people place         1.0        0.0          0.000000\n",
      "\n",
      "[3561 rows x 4 columns]\n"
     ]
    }
   ],
   "source": [
    "album_pair_sorted =  album_pair_df.sort_values('did_style_change', ascending=False)\n",
    "print(album_pair_sorted.head(-5))\n",
    "\n",
    "percent20 = album_pair_sorted.shape[0]//20\n",
    "\n",
    "album_pair_df.iloc[:percent20, album_pair_df.columns.get_loc('did_style_change')] = album_pair_sorted.iloc[\n",
    "    :percent20, album_pair_df.columns.get_loc('did_style_change')] = 1\n",
    "\n",
    "album_pair_df.iloc[percent20 + 1:, album_pair_df.columns.get_loc('did_style_change')] = album_pair_sorted.iloc[\n",
    "    percent20 + 1:, album_pair_df.columns.get_loc('did_style_change')] = 0"
   ]
  },
  {
   "cell_type": "markdown",
   "metadata": {},
   "source": [
    "Let's have a look at this data frame."
   ]
  },
  {
   "cell_type": "code",
   "execution_count": 71,
   "metadata": {},
   "outputs": [
    {
     "data": {
      "text/html": [
       "<div>\n",
       "<style scoped>\n",
       "    .dataframe tbody tr th:only-of-type {\n",
       "        vertical-align: middle;\n",
       "    }\n",
       "\n",
       "    .dataframe tbody tr th {\n",
       "        vertical-align: top;\n",
       "    }\n",
       "\n",
       "    .dataframe thead th {\n",
       "        text-align: right;\n",
       "    }\n",
       "</style>\n",
       "<table border=\"1\" class=\"dataframe\">\n",
       "  <thead>\n",
       "    <tr style=\"text-align: right;\">\n",
       "      <th></th>\n",
       "      <th>artist</th>\n",
       "      <th>score_diff</th>\n",
       "      <th>time_diff</th>\n",
       "      <th>did_style_change</th>\n",
       "    </tr>\n",
       "  </thead>\n",
       "  <tbody>\n",
       "    <tr>\n",
       "      <th>0</th>\n",
       "      <td>reigning sound</td>\n",
       "      <td>-0.5</td>\n",
       "      <td>365.0</td>\n",
       "      <td>1.0</td>\n",
       "    </tr>\n",
       "    <tr>\n",
       "      <th>1</th>\n",
       "      <td>jessica lea mayfield</td>\n",
       "      <td>-0.5</td>\n",
       "      <td>1095.0</td>\n",
       "      <td>1.0</td>\n",
       "    </tr>\n",
       "    <tr>\n",
       "      <th>2</th>\n",
       "      <td>the essex green</td>\n",
       "      <td>-1.9</td>\n",
       "      <td>1095.0</td>\n",
       "      <td>1.0</td>\n",
       "    </tr>\n",
       "    <tr>\n",
       "      <th>3</th>\n",
       "      <td>american football</td>\n",
       "      <td>-0.5</td>\n",
       "      <td>7300.0</td>\n",
       "      <td>1.0</td>\n",
       "    </tr>\n",
       "    <tr>\n",
       "      <th>4</th>\n",
       "      <td>fidlar</td>\n",
       "      <td>-1.2</td>\n",
       "      <td>730.0</td>\n",
       "      <td>1.0</td>\n",
       "    </tr>\n",
       "    <tr>\n",
       "      <th>...</th>\n",
       "      <td>...</td>\n",
       "      <td>...</td>\n",
       "      <td>...</td>\n",
       "      <td>...</td>\n",
       "    </tr>\n",
       "    <tr>\n",
       "      <th>3556</th>\n",
       "      <td>steely dan</td>\n",
       "      <td>-0.8</td>\n",
       "      <td>365.0</td>\n",
       "      <td>0.0</td>\n",
       "    </tr>\n",
       "    <tr>\n",
       "      <th>3557</th>\n",
       "      <td>aimee mann</td>\n",
       "      <td>-1.4</td>\n",
       "      <td>730.0</td>\n",
       "      <td>0.0</td>\n",
       "    </tr>\n",
       "    <tr>\n",
       "      <th>3558</th>\n",
       "      <td>bonnie ‚äúprince‚äù billy</td>\n",
       "      <td>0.0</td>\n",
       "      <td>0.0</td>\n",
       "      <td>0.0</td>\n",
       "    </tr>\n",
       "    <tr>\n",
       "      <th>3559</th>\n",
       "      <td>...and you will know us by the trail of dead</td>\n",
       "      <td>-0.1</td>\n",
       "      <td>730.0</td>\n",
       "      <td>0.0</td>\n",
       "    </tr>\n",
       "    <tr>\n",
       "      <th>3560</th>\n",
       "      <td>john mayer</td>\n",
       "      <td>-2.9</td>\n",
       "      <td>5840.0</td>\n",
       "      <td>0.0</td>\n",
       "    </tr>\n",
       "  </tbody>\n",
       "</table>\n",
       "<p>3561 rows × 4 columns</p>\n",
       "</div>"
      ],
      "text/plain": [
       "                                            artist  score_diff  time_diff  \\\n",
       "0                                   reigning sound        -0.5      365.0   \n",
       "1                             jessica lea mayfield        -0.5     1095.0   \n",
       "2                                  the essex green        -1.9     1095.0   \n",
       "3                                american football        -0.5     7300.0   \n",
       "4                                           fidlar        -1.2      730.0   \n",
       "...                                            ...         ...        ...   \n",
       "3556                                    steely dan        -0.8      365.0   \n",
       "3557                                    aimee mann        -1.4      730.0   \n",
       "3558                     bonnie ‚äúprince‚äù billy         0.0        0.0   \n",
       "3559  ...and you will know us by the trail of dead        -0.1      730.0   \n",
       "3560                                    john mayer        -2.9     5840.0   \n",
       "\n",
       "      did_style_change  \n",
       "0                  1.0  \n",
       "1                  1.0  \n",
       "2                  1.0  \n",
       "3                  1.0  \n",
       "4                  1.0  \n",
       "...                ...  \n",
       "3556               0.0  \n",
       "3557               0.0  \n",
       "3558               0.0  \n",
       "3559               0.0  \n",
       "3560               0.0  \n",
       "\n",
       "[3561 rows x 4 columns]"
      ]
     },
     "execution_count": 71,
     "metadata": {},
     "output_type": "execute_result"
    }
   ],
   "source": [
    "album_pair_df.head(-5)"
   ]
  },
  {
   "cell_type": "markdown",
   "metadata": {},
   "source": [
    "_2. Fit a linear regression using `statsmodels` with this dataframe. Your regression should consider only an intercept, i.e., `\"score_diff ~ 1\"`._"
   ]
  },
  {
   "cell_type": "markdown",
   "metadata": {},
   "source": [
    "We define our linear regression function using the formula api to be able to specify the independent variables."
   ]
  },
  {
   "cell_type": "code",
   "execution_count": 72,
   "metadata": {},
   "outputs": [],
   "source": [
    "def linear_reg(data, formula, seed):\n",
    "    model_intercept = smf.ols(formula = formula, data = data)\n",
    "    # Fits the model (find the optimal coefficients, adding a random seed ensures consistency)\n",
    "    res = model_intercept.fit()\n",
    "    return res"
   ]
  },
  {
   "cell_type": "markdown",
   "metadata": {},
   "source": [
    "We now call our function with our `album_pair_df` data frame, after setting a seed of '1' for reproducibility."
   ]
  },
  {
   "cell_type": "code",
   "execution_count": 73,
   "metadata": {},
   "outputs": [
    {
     "name": "stdout",
     "output_type": "stream",
     "text": [
      "                            OLS Regression Results                            \n",
      "==============================================================================\n",
      "Dep. Variable:             score_diff   R-squared:                       0.000\n",
      "Model:                            OLS   Adj. R-squared:                  0.000\n",
      "Method:                 Least Squares   F-statistic:                       nan\n",
      "Date:                Fri, 26 Nov 2021   Prob (F-statistic):                nan\n",
      "Time:                        20:49:28   Log-Likelihood:                -6209.7\n",
      "No. Observations:                3566   AIC:                         1.242e+04\n",
      "Df Residuals:                    3565   BIC:                         1.243e+04\n",
      "Df Model:                           0                                         \n",
      "Covariance Type:            nonrobust                                         \n",
      "==============================================================================\n",
      "                 coef    std err          t      P>|t|      [0.025      0.975]\n",
      "------------------------------------------------------------------------------\n",
      "Intercept     -0.2562      0.023    -11.081      0.000      -0.302      -0.211\n",
      "==============================================================================\n",
      "Omnibus:                      362.594   Durbin-Watson:                   1.992\n",
      "Prob(Omnibus):                  0.000   Jarque-Bera (JB):             2251.394\n",
      "Skew:                          -0.265   Prob(JB):                         0.00\n",
      "Kurtosis:                       6.856   Cond. No.                         1.00\n",
      "==============================================================================\n",
      "\n",
      "Notes:\n",
      "[1] Standard Errors assume that the covariance matrix of the errors is correctly specified.\n"
     ]
    }
   ],
   "source": [
    "res_intercept = linear_reg(data = album_pair_df, formula = 'score_diff ~ 1', seed = seed)\n",
    "\n",
    "print(res_intercept.summary())"
   ]
  },
  {
   "cell_type": "markdown",
   "metadata": {},
   "source": [
    "_3. **Discuss:** Interpret the $R^2$ in your regression here. Does this analysis confirm what you observed in Task 5? Why?_"
   ]
  },
  {
   "cell_type": "markdown",
   "metadata": {},
   "source": [
    "We obtain $R^2 = 0$. However, it does not represent a poor fit here. Fitting a model with an intercept prevents us from computing the r-square, as the total sum of squares will be the same as the residual sum of squares.\n",
    "\n",
    "We obtain an intercept value of -0.256. This suggests that, ignoring all parameters, the score between album 1 and album 2 is correlated to a dropping score of -0.256 for album 2.\n",
    "The second album syndrome and our observation in task 5 are supported in this analysis by a p-value inferior to 0.001 and a fully negative 95% confidence interval. We have statistical evidence to reject the null hypothesis that the score difference between album 1 and 2 is null under alpha = 0.05."
   ]
  },
  {
   "cell_type": "markdown",
   "metadata": {},
   "source": [
    "_4. Include the `time_diff` and `did_style_change` as covariates in your model. Fit the regression again and report the summary of your model._"
   ]
  },
  {
   "cell_type": "markdown",
   "metadata": {},
   "source": [
    "We fit the regression again, this time including the covariates `time_diff` and `did_style_change` (seed equal to '1' for reproducibility)."
   ]
  },
  {
   "cell_type": "code",
   "execution_count": 74,
   "metadata": {},
   "outputs": [
    {
     "name": "stdout",
     "output_type": "stream",
     "text": [
      "                            OLS Regression Results                            \n",
      "==============================================================================\n",
      "Dep. Variable:             score_diff   R-squared:                       0.018\n",
      "Model:                            OLS   Adj. R-squared:                  0.018\n",
      "Method:                 Least Squares   F-statistic:                     33.18\n",
      "Date:                Fri, 26 Nov 2021   Prob (F-statistic):           5.28e-15\n",
      "Time:                        20:49:28   Log-Likelihood:                -6176.8\n",
      "No. Observations:                3566   AIC:                         1.236e+04\n",
      "Df Residuals:                    3563   BIC:                         1.238e+04\n",
      "Df Model:                           2                                         \n",
      "Covariance Type:            nonrobust                                         \n",
      "====================================================================================\n",
      "                       coef    std err          t      P>|t|      [0.025      0.975]\n",
      "------------------------------------------------------------------------------------\n",
      "Intercept           -0.1337      0.028     -4.820      0.000      -0.188      -0.079\n",
      "time_diff         -9.15e-05   1.13e-05     -8.132      0.000      -0.000   -6.94e-05\n",
      "did_style_change    -0.0464      0.102     -0.455      0.649      -0.246       0.154\n",
      "==============================================================================\n",
      "Omnibus:                      335.816   Durbin-Watson:                   1.996\n",
      "Prob(Omnibus):                  0.000   Jarque-Bera (JB):             2081.681\n",
      "Skew:                          -0.201   Prob(JB):                         0.00\n",
      "Kurtosis:                       6.721   Cond. No.                     1.08e+04\n",
      "==============================================================================\n",
      "\n",
      "Notes:\n",
      "[1] Standard Errors assume that the covariance matrix of the errors is correctly specified.\n",
      "[2] The condition number is large, 1.08e+04. This might indicate that there are\n",
      "strong multicollinearity or other numerical problems.\n"
     ]
    }
   ],
   "source": [
    "res = linear_reg(data = album_pair_df, formula = 'score_diff ~ time_diff + did_style_change', seed = seed)\n",
    "print(res.summary())"
   ]
  },
  {
   "cell_type": "markdown",
   "metadata": {},
   "source": [
    "_5. **Discuss:** Interpret the coefficients `time_diff` and `did_style_change`. Carefully explain whether they provide evidence towards each of the aforementioned hypotheses? Do they rule out other reasons that may cause the \"second album syndrome effect\"?_"
   ]
  },
  {
   "cell_type": "markdown",
   "metadata": {},
   "source": [
    "* Parameters:\n",
    "\n",
    "In our model, a time difference (`time_diff`) between album 1 and album 2 is associated with a loss of -9,14e-05 score, holding all other parameters constant. Thus each year elapsing from album 1 and album 2 will result in a drop of 0.034 score.\n",
    "We obtain for time_diff a p-value smaller than 0.001. Hence we can reject the null hypothesis that time difference between the album and score aren't correlated and deduce that they are negatively correlated. This is reinforced by the fact that we obtain a fully negative 95% confidence interval ([-0.41, -0,025]).\n",
    "\n",
    "`did_style_change` is a binary parameter, equal to 1 when the artist changed his style between album 1 and 2 and it is equal to 0 if he/she did not. In our linear model, a unit change of *did_style_change* is associated to a -0.0463 change of *score_diff*, holding all other parameters constant. However, we find for this parameter a very large p-value, equal to 0.65. Furthermore, the 95% confidence interval contains values from -0.246 to 0.154, going from negative to positive. Thus, we cannot reject the null hypothesis.\n",
    "\n",
    "* Hypotheses:\n",
    "\n",
    "The **time spent hypothesis** suggests that we should find a positive correlation between *time_diff* and *score_diff*, showing how time preparation helps obtaining a better score. However, we obtain a negative value for this correlation, suggesting that the more years pass between the first and second album is correlated with a lower of the second album. This new hypothesis is supported with a p-value inferior to 0.001 and a fully negative 95% confidence interval between.\n",
    "\n",
    "The **style change hypothesis** suggests that we should find a negative correlation between *did_style_change* and *score_diff*, showing that changing style after a first album isn't usually welcomed by the public. Although we find a negative correlation for our model, we obtain a very large p-value and a broad 95% confidence interval. Thus, we can not reject the null hypothesis which states that *did_style_change* and *score_diff* are not correlated. Their correlation in our model could be due to chance.\n",
    "\n",
    "* Conclusion:\n",
    "\n",
    "To conclude, we reject the **time spent hypothesis**. However, we now have a new hypothesis negatively correlating *time_diff* and *score_diff*. \n",
    "\n",
    "Then, regarding the **style change hypothesis**, our data does not allow us to draw proper conclusions on the change of music style between the two albums and their related scores. To investigate the existence of a possible negative correlation, we could try another way of determining whether the style did change or not."
   ]
  },
  {
   "cell_type": "markdown",
   "metadata": {},
   "source": [
    "_6. Create a new column called `time_diff_standardized`. It should be a standardized version of the `time_diff` column. Repeat the regression done in 6.4 using the `time_diff_standardized` column instead of the `time_diff` column._"
   ]
  },
  {
   "cell_type": "markdown",
   "metadata": {},
   "source": [
    "We start by observing the `time_diff` distribution."
   ]
  },
  {
   "cell_type": "code",
   "execution_count": 75,
   "metadata": {},
   "outputs": [
    {
     "data": {
      "image/png": "[encoded data removed]",
      "text/plain": [
       "<Figure size 720x360 with 1 Axes>"
      ]
     },
     "metadata": {},
     "output_type": "display_data"
    }
   ],
   "source": [
    "plt.figure(figsize = (10,5))\n",
    "album_pair_df['time_diff'].plot(kind = 'hist', bins = 40, grid = True, rwidth = 0.9, color = color_palette[1])\n",
    "plt.yscale('log')\n",
    "\n",
    "plt.title('Distribution of the time difference between first and second album')\n",
    "plt.xlabel(\"time difference between first and second album\")\n",
    "plt.ylabel(\"album count in log scale\")\n",
    "\n",
    "plt.show()"
   ]
  },
  {
   "cell_type": "markdown",
   "metadata": {},
   "source": [
    "We observe a right skewed distribution hence, using standardization is not very accurate as the data mean and standard deviation is not very representative of the data. \n",
    "We have to keep in mind that the distribution we obtain after standardization will also be skewed ."
   ]
  },
  {
   "cell_type": "code",
   "execution_count": 76,
   "metadata": {},
   "outputs": [],
   "source": [
    "album_pair_df['time_diff_standardized'] = (album_pair_df['time_diff'] - album_pair_df['time_diff'].mean()) / \\\n",
    "    album_pair_df['time_diff'].std()\n"
   ]
  },
  {
   "cell_type": "markdown",
   "metadata": {},
   "source": [
    "We fit the linear regression again, this time including `time_diff_standardized`."
   ]
  },
  {
   "cell_type": "code",
   "execution_count": 77,
   "metadata": {},
   "outputs": [
    {
     "name": "stdout",
     "output_type": "stream",
     "text": [
      "                            OLS Regression Results                            \n",
      "==============================================================================\n",
      "Dep. Variable:             score_diff   R-squared:                       0.018\n",
      "Model:                            OLS   Adj. R-squared:                  0.018\n",
      "Method:                 Least Squares   F-statistic:                     33.18\n",
      "Date:                Fri, 26 Nov 2021   Prob (F-statistic):           5.28e-15\n",
      "Time:                        20:49:29   Log-Likelihood:                -6176.8\n",
      "No. Observations:                3566   AIC:                         1.236e+04\n",
      "Df Residuals:                    3563   BIC:                         1.238e+04\n",
      "Df Model:                           2                                         \n",
      "Covariance Type:            nonrobust                                         \n",
      "==========================================================================================\n",
      "                             coef    std err          t      P>|t|      [0.025      0.975]\n",
      "------------------------------------------------------------------------------------------\n",
      "Intercept                 -0.2538      0.023    -10.804      0.000      -0.300      -0.208\n",
      "time_diff_standardized    -0.1864      0.023     -8.132      0.000      -0.231      -0.141\n",
      "did_style_change          -0.0464      0.102     -0.455      0.649      -0.246       0.154\n",
      "==============================================================================\n",
      "Omnibus:                      335.816   Durbin-Watson:                   1.996\n",
      "Prob(Omnibus):                  0.000   Jarque-Bera (JB):             2081.681\n",
      "Skew:                          -0.201   Prob(JB):                         0.00\n",
      "Kurtosis:                       6.721   Cond. No.                         4.47\n",
      "==============================================================================\n",
      "\n",
      "Notes:\n",
      "[1] Standard Errors assume that the covariance matrix of the errors is correctly specified.\n"
     ]
    }
   ],
   "source": [
    "res_time_standardized = linear_reg(data = album_pair_df, \\\n",
    "                                formula = 'score_diff ~ time_diff_standardized + did_style_change', seed = seed)\n",
    "print(res_time_standardized.summary())"
   ]
  },
  {
   "cell_type": "markdown",
   "metadata": {},
   "source": [
    "_7. **Discuss:** Explain how the interpretation of the coefficients associated with this new column `time_diff_standardized` differ from its non-standardized version \n",
    "`time_diff`?_"
   ]
  },
  {
   "cell_type": "markdown",
   "metadata": {},
   "source": [
    "We define the parameters `time_diff` and `time_diff_standardized` with their corresponding values."
   ]
  },
  {
   "cell_type": "code",
   "execution_count": 78,
   "metadata": {},
   "outputs": [],
   "source": [
    "time_diff_param = -9.144e-5\n",
    "time_diff_standardized_param = -0.1864"
   ]
  },
  {
   "cell_type": "markdown",
   "metadata": {},
   "source": [
    "`time_diff` parameter is associated with a 1 year change (which correspond to 1 in value), between album 1's score and album 2's score.\n",
    "\n",
    "On the other hand `time_diff_standardized` is associated to 1 standard deviation (SD). Here, SD is equal to the maximum time elapsed between album 1 and 2 minus the minimum time elapsed.\n",
    "To be able to properly compare those two parameters, we divide `time_diff_standardized` by its standard deviation."
   ]
  },
  {
   "cell_type": "code",
   "execution_count": 79,
   "metadata": {},
   "outputs": [
    {
     "name": "stdout",
     "output_type": "stream",
     "text": [
      "time_diff_param =  -9.144e-05 \n",
      "\n",
      "time_diff_standardized_param divided by its SD =  -9.151e-05\n"
     ]
    }
   ],
   "source": [
    "SD = album_pair_df['time_diff'].std()\n",
    "comparable_time_diff_standardized_param = time_diff_standardized_param/SD\n",
    "print(\"time_diff_param = \", time_diff_param, \"\\n\")\n",
    "print(\"time_diff_standardized_param divided by its SD = \", round(comparable_time_diff_standardized_param,8))"
   ]
  },
  {
   "cell_type": "markdown",
   "metadata": {},
   "source": [
    "We realize that both methods lead to same evaluation for parameter `time_diff`. Standardization would however be useful to scale multiple parameters such that their value be more easily comparable."
   ]
  },
  {
   "cell_type": "markdown",
   "metadata": {
    "pycharm": {
     "name": "#%% md\n"
    }
   },
   "source": [
    "**Task 7 (Sanity checks — 6 pts)**\n",
    "\n",
    "You decide to perform a few last sanity checks for your analysis.\n",
    "\n",
    "1.  **Discuss:** If the Second Album Syndrome existed, i.e., something was special about the second album (as in if it was bad for a very particular reason that afflicted album number 2 more than all others), what would you expect to happen to the mean score of the third album?\n",
    "2. Using the dataset you created in Task 5, calculate the mean and the standard error of the mean for the 1st, 2nd, 3rd, and 4th albums. Test whether the difference between the average score of the second and the third album is statistically significant.\n",
    "3. **Discuss:** Does this suggest that the Second Album Syndrome exists?\n",
    "\n",
    "---\n"
   ]
  },
  {
   "cell_type": "markdown",
   "metadata": {},
   "source": [
    "_1.  **Discuss:** If the Second Album Syndrome existed, i.e., something was special about the second album (as in if it was bad for a very particular reason that afflicted album number 2 more than all others), what would you expect to happen to the mean score of the third album?_"
   ]
  },
  {
   "cell_type": "markdown",
   "metadata": {},
   "source": [
    "The Second Album Syndrome is a theory that states that the second album of a band always sucks. This theory says nothing about the third album. Still, one could think that if the artist \"survives\" the second album (suffering from the pressure to be produced within a year, and/or mainly consisting of the songs that were cut from the first album because they were considered inferior, and/or due to a change of style of the artist), the third album that he/she produces should be better than the second one. This would lead to an increase in the mean score of the third album, compared to its previous downfall.\n",
    "\n",
    "Another way to see this is to suppose that some artists will not \"survive\" the downfall of their second albums. Indeed, the downfall of the second album will decrease the popularity of the artist. As a result, even if he/she still releases a third album, it is possible that it will also not be well received by the public and therefore have a similar or even lower score when compared to the second album.\n",
    "\n",
    "Finally, a last idea could be that the Second Album Syndrome does not exactly \"lasts\" for one album, but rathers for a few albums, then the artist \"heals\" and re-increase in popularity (or stops releasing albums). This would mean that the third and fourth albums could be part of this syndrom, having low scores, similar to the score of the second album."
   ]
  },
  {
   "cell_type": "markdown",
   "metadata": {},
   "source": [
    "_2. Using the dataset you created in Task 5, calculate the mean and the standard error of the mean for the 1st, 2nd, 3rd, and 4th albums. Test whether the difference between the average score of the second and the third album is statistically significant._"
   ]
  },
  {
   "cell_type": "markdown",
   "metadata": {},
   "source": [
    "We start by computing the mean and standard deviation for the 3rd and 4th albums. The mean and standard deviation for the 1st and 2nd albums were already calculated in task 5."
   ]
  },
  {
   "cell_type": "code",
   "execution_count": 80,
   "metadata": {},
   "outputs": [],
   "source": [
    "third_albums_mean, third_albums_std = compute_mean_and_std(2, duplicates_df)\n",
    "fourth_albums_mean, fourth_albums_std = compute_mean_and_std(3, duplicates_df)"
   ]
  },
  {
   "cell_type": "markdown",
   "metadata": {},
   "source": [
    "Lets visualise those means and standard deviations in a table."
   ]
  },
  {
   "cell_type": "code",
   "execution_count": 81,
   "metadata": {},
   "outputs": [
    {
     "data": {
      "text/html": [
       "<div>\n",
       "<style scoped>\n",
       "    .dataframe tbody tr th:only-of-type {\n",
       "        vertical-align: middle;\n",
       "    }\n",
       "\n",
       "    .dataframe tbody tr th {\n",
       "        vertical-align: top;\n",
       "    }\n",
       "\n",
       "    .dataframe thead th {\n",
       "        text-align: right;\n",
       "    }\n",
       "</style>\n",
       "<table border=\"1\" class=\"dataframe\">\n",
       "  <thead>\n",
       "    <tr style=\"text-align: right;\">\n",
       "      <th></th>\n",
       "      <th>mean</th>\n",
       "      <th>std</th>\n",
       "    </tr>\n",
       "    <tr>\n",
       "      <th>condition</th>\n",
       "      <th></th>\n",
       "      <th></th>\n",
       "    </tr>\n",
       "  </thead>\n",
       "  <tbody>\n",
       "    <tr>\n",
       "      <th>1st album</th>\n",
       "      <td>7.30</td>\n",
       "      <td>1.24</td>\n",
       "    </tr>\n",
       "    <tr>\n",
       "      <th>2nd album</th>\n",
       "      <td>7.04</td>\n",
       "      <td>1.27</td>\n",
       "    </tr>\n",
       "    <tr>\n",
       "      <th>3rd album</th>\n",
       "      <td>7.05</td>\n",
       "      <td>1.22</td>\n",
       "    </tr>\n",
       "    <tr>\n",
       "      <th>4th album</th>\n",
       "      <td>7.04</td>\n",
       "      <td>1.22</td>\n",
       "    </tr>\n",
       "  </tbody>\n",
       "</table>\n",
       "</div>"
      ],
      "text/plain": [
       "           mean   std\n",
       "condition            \n",
       "1st album  7.30  1.24\n",
       "2nd album  7.04  1.27\n",
       "3rd album  7.05  1.22\n",
       "4th album  7.04  1.22"
      ]
     },
     "execution_count": 81,
     "metadata": {},
     "output_type": "execute_result"
    }
   ],
   "source": [
    "stat2_df = pd.DataFrame()\n",
    "stat2_df['condition'] = ['1st album', '2nd album', '3rd album', '4th album']\n",
    "stat2_df['mean'] = first_albums_mean, second_albums_mean, third_albums_mean, fourth_albums_mean\n",
    "stat2_df['std'] = first_albums_std, second_albums_std, third_albums_std, fourth_albums_std\n",
    "stat2_df.set_index('condition', inplace = True)\n",
    "stat2_df.round(2)"
   ]
  },
  {
   "cell_type": "markdown",
   "metadata": {},
   "source": [
    "The scores of the third and second albums have the same mean, while the standard deviation of the scores of the third albums is slightly lower.\n",
    "\n",
    "To analyse whether there is a statistical difference between the scores of the 2nd and 3rd albums, we calculate the T-test for the means of two independent samples.\n",
    "\n",
    "- The test statistic: s = `score`<sub>2nd album</sub> – `score`<sub>3rd album</sub> \n",
    "- The null hypothesis H<sub>0</sub>: `score`<sub>2nd album</sub> = `score`<sub>3rd album</sub> i.e.`score` values are the same in both conditions\n",
    "- We reject H<sub>0</sub> if Pr(S > s | H<sub>0</sub>) < α\n",
    "\n",
    "Again, we set our significance level α at 0.05 (a suitable “small” probability), being high enough to have a low false-positive rate and therefore a high statistical power."
   ]
  },
  {
   "cell_type": "code",
   "execution_count": 82,
   "metadata": {},
   "outputs": [
    {
     "data": {
      "text/plain": [
       "Ttest_indResult(statistic=-0.07246756007746105, pvalue=0.942232449218503)"
      ]
     },
     "execution_count": 82,
     "metadata": {},
     "output_type": "execute_result"
    }
   ],
   "source": [
    "ttest_ind(duplicates_df[duplicates_df['album_number'] == 1]['score'], \\\n",
    "          duplicates_df[duplicates_df['album_number'] == 2]['score'])"
   ]
  },
  {
   "cell_type": "markdown",
   "metadata": {},
   "source": [
    "This test evaluates, if the two albums behaved the same way, how likely would we be to find such a distribution of `score` values. This test results in a p-value of 0.94, being superior to 0.05. As a result, we do not reject the null hypothesis that `score` values are the same for the 2nd and 3rd albums (under α = 0.05).\n",
    "\n",
    "Still, we are not comparing the same artists as we suppose some artists only released two albums while others released at least three. To compare the 2nd and 3rd albums of the same artists, we will create a data frame containing only the artists having released at least 3 albums."
   ]
  },
  {
   "cell_type": "code",
   "execution_count": 83,
   "metadata": {},
   "outputs": [
    {
     "data": {
      "text/plain": [
       "(1178,)"
      ]
     },
     "execution_count": 83,
     "metadata": {},
     "output_type": "execute_result"
    }
   ],
   "source": [
    "artists_count = duplicates_df.groupby([\"artist\"]).album.count()\n",
    "artists_many_albums = artists_count.where(artists_count > 3).dropna().index\n",
    "artists_many_albums.shape"
   ]
  },
  {
   "cell_type": "markdown",
   "metadata": {},
   "source": [
    "We have 1178 artists that released at least three albums. Let's create their sub data frame."
   ]
  },
  {
   "cell_type": "code",
   "execution_count": 84,
   "metadata": {},
   "outputs": [
    {
     "data": {
      "text/plain": [
       "(6866, 19)"
      ]
     },
     "execution_count": 84,
     "metadata": {},
     "output_type": "execute_result"
    }
   ],
   "source": [
    "triplets_df = duplicates_df[duplicates_df.artist.isin(artists_many_albums)]\n",
    "triplets_df.shape"
   ]
  },
  {
   "cell_type": "markdown",
   "metadata": {},
   "source": [
    "Those artists released a total of 6866 albums. We now calculate the mean and the standard error of the 2nd and 3rd albums."
   ]
  },
  {
   "cell_type": "code",
   "execution_count": 85,
   "metadata": {},
   "outputs": [],
   "source": [
    "second_albums_mean, second_albums_std = compute_mean_and_std(1, triplets_df)\n",
    "third_albums_mean, third_albums_std = compute_mean_and_std(2, triplets_df)"
   ]
  },
  {
   "cell_type": "code",
   "execution_count": 86,
   "metadata": {},
   "outputs": [
    {
     "data": {
      "text/html": [
       "<div>\n",
       "<style scoped>\n",
       "    .dataframe tbody tr th:only-of-type {\n",
       "        vertical-align: middle;\n",
       "    }\n",
       "\n",
       "    .dataframe tbody tr th {\n",
       "        vertical-align: top;\n",
       "    }\n",
       "\n",
       "    .dataframe thead th {\n",
       "        text-align: right;\n",
       "    }\n",
       "</style>\n",
       "<table border=\"1\" class=\"dataframe\">\n",
       "  <thead>\n",
       "    <tr style=\"text-align: right;\">\n",
       "      <th></th>\n",
       "      <th>mean</th>\n",
       "      <th>std</th>\n",
       "    </tr>\n",
       "    <tr>\n",
       "      <th>condition</th>\n",
       "      <th></th>\n",
       "      <th></th>\n",
       "    </tr>\n",
       "  </thead>\n",
       "  <tbody>\n",
       "    <tr>\n",
       "      <th>2nd album</th>\n",
       "      <td>7.35</td>\n",
       "      <td>1.32</td>\n",
       "    </tr>\n",
       "    <tr>\n",
       "      <th>3rd album</th>\n",
       "      <td>7.17</td>\n",
       "      <td>1.25</td>\n",
       "    </tr>\n",
       "  </tbody>\n",
       "</table>\n",
       "</div>"
      ],
      "text/plain": [
       "           mean   std\n",
       "condition            \n",
       "2nd album  7.35  1.32\n",
       "3rd album  7.17  1.25"
      ]
     },
     "execution_count": 86,
     "metadata": {},
     "output_type": "execute_result"
    }
   ],
   "source": [
    "stat3_df = pd.DataFrame()\n",
    "stat3_df['condition'] = ['2nd album', '3rd album']\n",
    "stat3_df['mean'] = second_albums_mean, third_albums_mean\n",
    "stat3_df['std'] = second_albums_std, third_albums_std\n",
    "stat3_df.set_index('condition', inplace = True)\n",
    "stat3_df.round(2)"
   ]
  },
  {
   "cell_type": "code",
   "execution_count": 87,
   "metadata": {},
   "outputs": [
    {
     "data": {
      "text/plain": [
       "Ttest_indResult(statistic=3.4480205833446083, pvalue=0.000574633084834746)"
      ]
     },
     "execution_count": 87,
     "metadata": {},
     "output_type": "execute_result"
    }
   ],
   "source": [
    "ttest_ind(triplets_df[triplets_df['album_number'] == 1]['score'], \\\n",
    "          triplets_df[triplets_df['album_number'] == 2]['score'])"
   ]
  },
  {
   "cell_type": "markdown",
   "metadata": {},
   "source": [
    "This test evaluates, if the two albums behaved the same way, how likely would we be to find such a distribution of `score` values. This test results in a p-value of 0.00057, being inferior to 0.05. As a result, we can reject the null hypothesis that `score` values are the same for the 2nd and 3rd albums (under α = 0.05). As the mean of `score` is slightly lower for the 3rd albums, compared to the 2nd albums, we could speculate that the third albums seem to be slightly less good in terms of score compared from the second albums."
   ]
  },
  {
   "cell_type": "markdown",
   "metadata": {},
   "source": [
    "_3. **Discuss:** Does this suggest that the Second Album Syndrome exists?_"
   ]
  },
  {
   "cell_type": "markdown",
   "metadata": {},
   "source": [
    "Our first T test, performed on the album scores from artists who released at least two albums, did not reject the null hypothesis. This does not suggest a statistically significant difference between the second and third albums (under α = 0.05).\n",
    "\n",
    "Our second T test, performed on the album scores from artists who released at least three albums, rejected the null hypothesis, suggesting that the scores are different between the second and third albums. Due to the lower mean scores of the third albums compared to the second albums, this leads us to believe that perhaps the third albums tend to be slightly less good in terms of score compared from the second albums.\n",
    "\n",
    "Having both these results in hand, it seems that they tend to suggest the idea that the Second Album Syndrome does not exactly \"lasts\" for one album, but rathers for a few albums, then the artist either \"heals\" and re-increases in popularity, or \"dies\" and stops releasing albums. Therefore, it seems that this syndrom exists but is not only restrained to the second album."
   ]
  },
  {
   "cell_type": "markdown",
   "metadata": {},
   "source": [
    "**Task 8 (Eureka — 14 pts)**\n",
    "\n",
    "Your boss, *Signor Piccardi*, proposes that you carry out a simulation to make things clearer. Assuming that:\n",
    "\n",
    "\n",
    "- Each band $i$ has a \"talent\" $\\mu_i$ , which is uniformally distributed between 2 and 8, i.e., $\\mu_i \\sim U_{[2,8]}$.\n",
    "- When a band $i$ produces an album $j$, it has quality $s_j$. This score is normally distributed with mean $\\mu_i$ and standard deviation $1$, i.e., $s_j \\sim N(\\mu_i, 1)$\n",
    "- Talents are independent and identically distributed random variables.\n",
    " \n",
    "Carry out the following simulation:\n",
    "\n",
    "- Create 1000 hypothetical bands with intrinsic talents $\\mu_i \\sim U_{[2,8]}$ for $i \\in [1,1000]$.\n",
    "- Have each hypothetical band create a hypothetical album.\n",
    "- Discard all bands whose albums received a score smaller than 6.\n",
    "- For each of the remaining bands, create two additional albums.\n",
    "\n",
    "Analyzing the scores obtained in this simulation, provide a coherent explanation for the  scores obtained in Task 7.2. \n",
    "\n",
    "--- \n",
    "\n",
    "**Hint:** You can use numpy to sample random variables (e.g. [numpy.random.normal](https://numpy.org/doc/stable/reference/random/generated/numpy.random.normal.html))"
   ]
  },
  {
   "cell_type": "markdown",
   "metadata": {},
   "source": [
    "**Simulation:**\n",
    "\n",
    "We start by creating 1000 hypothetical bands with intrinsic talents, uniformally distributed between 2 and 8."
   ]
  },
  {
   "cell_type": "code",
   "execution_count": 88,
   "metadata": {},
   "outputs": [],
   "source": [
    "bands_df = pd.DataFrame()\n",
    "bands_df['talent'] = np.random.uniform(low = 2, high = 8, size = 1000)"
   ]
  },
  {
   "cell_type": "markdown",
   "metadata": {},
   "source": [
    "We now create a hypothetical album for each hypothetical band, having a score normally distributed with their talent as mean and a standard deviation 1."
   ]
  },
  {
   "cell_type": "code",
   "execution_count": 89,
   "metadata": {},
   "outputs": [],
   "source": [
    "def create_album_score(df, n):\n",
    "    \"\"\"\n",
    "    Adds a column to the data frame df containing the score of the album n\n",
    "    Inputs:\n",
    "        * df : data frame containing bands with talents\n",
    "        * n : album number\n",
    "    Outputs:\n",
    "        * output : same data frame containing bands with talents with the additional score\n",
    "    \"\"\"\n",
    "    for i in df.index:\n",
    "        df.loc[i, 'album{}_score'.format(n)] = np.random.normal(df.loc[i, 'talent'], 1)\n",
    "    return df\n",
    "        "
   ]
  },
  {
   "cell_type": "code",
   "execution_count": 90,
   "metadata": {},
   "outputs": [],
   "source": [
    "bands_df = create_album_score(bands_df, 1)"
   ]
  },
  {
   "cell_type": "markdown",
   "metadata": {},
   "source": [
    "Let's visualise our data frame."
   ]
  },
  {
   "cell_type": "code",
   "execution_count": 91,
   "metadata": {},
   "outputs": [
    {
     "data": {
      "text/html": [
       "<div>\n",
       "<style scoped>\n",
       "    .dataframe tbody tr th:only-of-type {\n",
       "        vertical-align: middle;\n",
       "    }\n",
       "\n",
       "    .dataframe tbody tr th {\n",
       "        vertical-align: top;\n",
       "    }\n",
       "\n",
       "    .dataframe thead th {\n",
       "        text-align: right;\n",
       "    }\n",
       "</style>\n",
       "<table border=\"1\" class=\"dataframe\">\n",
       "  <thead>\n",
       "    <tr style=\"text-align: right;\">\n",
       "      <th></th>\n",
       "      <th>talent</th>\n",
       "      <th>album1_score</th>\n",
       "    </tr>\n",
       "  </thead>\n",
       "  <tbody>\n",
       "    <tr>\n",
       "      <th>0</th>\n",
       "      <td>3.582</td>\n",
       "      <td>2.088</td>\n",
       "    </tr>\n",
       "    <tr>\n",
       "      <th>1</th>\n",
       "      <td>4.675</td>\n",
       "      <td>2.989</td>\n",
       "    </tr>\n",
       "    <tr>\n",
       "      <th>2</th>\n",
       "      <td>4.168</td>\n",
       "      <td>3.386</td>\n",
       "    </tr>\n",
       "    <tr>\n",
       "      <th>3</th>\n",
       "      <td>5.100</td>\n",
       "      <td>6.057</td>\n",
       "    </tr>\n",
       "    <tr>\n",
       "      <th>4</th>\n",
       "      <td>3.270</td>\n",
       "      <td>4.998</td>\n",
       "    </tr>\n",
       "  </tbody>\n",
       "</table>\n",
       "</div>"
      ],
      "text/plain": [
       "   talent  album1_score\n",
       "0   3.582         2.088\n",
       "1   4.675         2.989\n",
       "2   4.168         3.386\n",
       "3   5.100         6.057\n",
       "4   3.270         4.998"
      ]
     },
     "execution_count": 91,
     "metadata": {},
     "output_type": "execute_result"
    }
   ],
   "source": [
    "bands_df.head().round(decimals = 3)"
   ]
  },
  {
   "cell_type": "markdown",
   "metadata": {},
   "source": [
    "We now discard all bands whose albums received a score smaller than 6."
   ]
  },
  {
   "cell_type": "code",
   "execution_count": 92,
   "metadata": {},
   "outputs": [],
   "source": [
    "successful_bands_df = bands_df[bands_df['album1_score'] >= 6].copy()"
   ]
  },
  {
   "cell_type": "markdown",
   "metadata": {},
   "source": [
    "Finally, for each of the remaining bands, we create two additional albums."
   ]
  },
  {
   "cell_type": "code",
   "execution_count": 93,
   "metadata": {},
   "outputs": [],
   "source": [
    "successful_bands_df = create_album_score(successful_bands_df, 2)\n",
    "successful_bands_df = create_album_score(successful_bands_df, 3)"
   ]
  },
  {
   "cell_type": "markdown",
   "metadata": {},
   "source": [
    "Let's visualise the data frame containing the 3 album scores of the successful bands."
   ]
  },
  {
   "cell_type": "code",
   "execution_count": 94,
   "metadata": {},
   "outputs": [
    {
     "data": {
      "text/html": [
       "<div>\n",
       "<style scoped>\n",
       "    .dataframe tbody tr th:only-of-type {\n",
       "        vertical-align: middle;\n",
       "    }\n",
       "\n",
       "    .dataframe tbody tr th {\n",
       "        vertical-align: top;\n",
       "    }\n",
       "\n",
       "    .dataframe thead th {\n",
       "        text-align: right;\n",
       "    }\n",
       "</style>\n",
       "<table border=\"1\" class=\"dataframe\">\n",
       "  <thead>\n",
       "    <tr style=\"text-align: right;\">\n",
       "      <th></th>\n",
       "      <th>talent</th>\n",
       "      <th>album1_score</th>\n",
       "      <th>album2_score</th>\n",
       "      <th>album3_score</th>\n",
       "    </tr>\n",
       "  </thead>\n",
       "  <tbody>\n",
       "    <tr>\n",
       "      <th>3</th>\n",
       "      <td>5.100</td>\n",
       "      <td>6.057</td>\n",
       "      <td>4.886</td>\n",
       "      <td>4.983</td>\n",
       "    </tr>\n",
       "    <tr>\n",
       "      <th>9</th>\n",
       "      <td>6.122</td>\n",
       "      <td>6.925</td>\n",
       "      <td>7.449</td>\n",
       "      <td>6.369</td>\n",
       "    </tr>\n",
       "    <tr>\n",
       "      <th>14</th>\n",
       "      <td>6.664</td>\n",
       "      <td>6.495</td>\n",
       "      <td>6.551</td>\n",
       "      <td>7.367</td>\n",
       "    </tr>\n",
       "    <tr>\n",
       "      <th>15</th>\n",
       "      <td>6.618</td>\n",
       "      <td>6.193</td>\n",
       "      <td>5.931</td>\n",
       "      <td>8.913</td>\n",
       "    </tr>\n",
       "    <tr>\n",
       "      <th>19</th>\n",
       "      <td>6.548</td>\n",
       "      <td>6.997</td>\n",
       "      <td>5.644</td>\n",
       "      <td>7.500</td>\n",
       "    </tr>\n",
       "    <tr>\n",
       "      <th>23</th>\n",
       "      <td>5.211</td>\n",
       "      <td>6.930</td>\n",
       "      <td>5.285</td>\n",
       "      <td>5.780</td>\n",
       "    </tr>\n",
       "    <tr>\n",
       "      <th>31</th>\n",
       "      <td>6.969</td>\n",
       "      <td>7.236</td>\n",
       "      <td>6.351</td>\n",
       "      <td>8.234</td>\n",
       "    </tr>\n",
       "    <tr>\n",
       "      <th>38</th>\n",
       "      <td>7.073</td>\n",
       "      <td>7.301</td>\n",
       "      <td>7.658</td>\n",
       "      <td>5.266</td>\n",
       "    </tr>\n",
       "    <tr>\n",
       "      <th>41</th>\n",
       "      <td>5.663</td>\n",
       "      <td>6.694</td>\n",
       "      <td>5.252</td>\n",
       "      <td>5.573</td>\n",
       "    </tr>\n",
       "    <tr>\n",
       "      <th>45</th>\n",
       "      <td>5.558</td>\n",
       "      <td>6.202</td>\n",
       "      <td>7.728</td>\n",
       "      <td>5.193</td>\n",
       "    </tr>\n",
       "    <tr>\n",
       "      <th>46</th>\n",
       "      <td>7.083</td>\n",
       "      <td>6.168</td>\n",
       "      <td>7.686</td>\n",
       "      <td>7.239</td>\n",
       "    </tr>\n",
       "    <tr>\n",
       "      <th>47</th>\n",
       "      <td>7.332</td>\n",
       "      <td>6.012</td>\n",
       "      <td>8.946</td>\n",
       "      <td>8.399</td>\n",
       "    </tr>\n",
       "    <tr>\n",
       "      <th>48</th>\n",
       "      <td>6.096</td>\n",
       "      <td>6.350</td>\n",
       "      <td>8.185</td>\n",
       "      <td>6.172</td>\n",
       "    </tr>\n",
       "    <tr>\n",
       "      <th>58</th>\n",
       "      <td>5.340</td>\n",
       "      <td>7.269</td>\n",
       "      <td>3.974</td>\n",
       "      <td>4.212</td>\n",
       "    </tr>\n",
       "    <tr>\n",
       "      <th>61</th>\n",
       "      <td>7.920</td>\n",
       "      <td>7.061</td>\n",
       "      <td>6.639</td>\n",
       "      <td>7.744</td>\n",
       "    </tr>\n",
       "    <tr>\n",
       "      <th>64</th>\n",
       "      <td>5.266</td>\n",
       "      <td>7.222</td>\n",
       "      <td>6.295</td>\n",
       "      <td>3.172</td>\n",
       "    </tr>\n",
       "    <tr>\n",
       "      <th>73</th>\n",
       "      <td>7.970</td>\n",
       "      <td>8.011</td>\n",
       "      <td>7.736</td>\n",
       "      <td>7.316</td>\n",
       "    </tr>\n",
       "    <tr>\n",
       "      <th>79</th>\n",
       "      <td>6.313</td>\n",
       "      <td>6.818</td>\n",
       "      <td>5.972</td>\n",
       "      <td>6.201</td>\n",
       "    </tr>\n",
       "    <tr>\n",
       "      <th>81</th>\n",
       "      <td>6.928</td>\n",
       "      <td>6.043</td>\n",
       "      <td>6.410</td>\n",
       "      <td>7.406</td>\n",
       "    </tr>\n",
       "    <tr>\n",
       "      <th>83</th>\n",
       "      <td>7.765</td>\n",
       "      <td>7.350</td>\n",
       "      <td>8.213</td>\n",
       "      <td>9.410</td>\n",
       "    </tr>\n",
       "  </tbody>\n",
       "</table>\n",
       "</div>"
      ],
      "text/plain": [
       "    talent  album1_score  album2_score  album3_score\n",
       "3    5.100         6.057         4.886         4.983\n",
       "9    6.122         6.925         7.449         6.369\n",
       "14   6.664         6.495         6.551         7.367\n",
       "15   6.618         6.193         5.931         8.913\n",
       "19   6.548         6.997         5.644         7.500\n",
       "23   5.211         6.930         5.285         5.780\n",
       "31   6.969         7.236         6.351         8.234\n",
       "38   7.073         7.301         7.658         5.266\n",
       "41   5.663         6.694         5.252         5.573\n",
       "45   5.558         6.202         7.728         5.193\n",
       "46   7.083         6.168         7.686         7.239\n",
       "47   7.332         6.012         8.946         8.399\n",
       "48   6.096         6.350         8.185         6.172\n",
       "58   5.340         7.269         3.974         4.212\n",
       "61   7.920         7.061         6.639         7.744\n",
       "64   5.266         7.222         6.295         3.172\n",
       "73   7.970         8.011         7.736         7.316\n",
       "79   6.313         6.818         5.972         6.201\n",
       "81   6.928         6.043         6.410         7.406\n",
       "83   7.765         7.350         8.213         9.410"
      ]
     },
     "execution_count": 94,
     "metadata": {},
     "output_type": "execute_result"
    }
   ],
   "source": [
    "successful_bands_df.head(20).round(decimals = 3)"
   ]
  },
  {
   "cell_type": "markdown",
   "metadata": {},
   "source": [
    "**Analysis of the scores:**\n",
    "\n",
    "We'll now analyse the scores obtained in this simulation. The mean and the standard error of the 1st, 2nd and 3rd albums are computed."
   ]
  },
  {
   "cell_type": "code",
   "execution_count": 95,
   "metadata": {},
   "outputs": [],
   "source": [
    "album1_score_mean = successful_bands_df.album1_score.mean()\n",
    "album2_score_mean = successful_bands_df.album2_score.mean()\n",
    "album3_score_mean = successful_bands_df.album3_score.mean()\n",
    "\n",
    "album1_score_std = successful_bands_df.album1_score.std()\n",
    "album2_score_std = successful_bands_df.album2_score.std()\n",
    "album3_score_std = successful_bands_df.album3_score.std()"
   ]
  },
  {
   "cell_type": "markdown",
   "metadata": {},
   "source": [
    "Let's visualise it in a table."
   ]
  },
  {
   "cell_type": "code",
   "execution_count": 96,
   "metadata": {},
   "outputs": [
    {
     "data": {
      "text/html": [
       "<div>\n",
       "<style scoped>\n",
       "    .dataframe tbody tr th:only-of-type {\n",
       "        vertical-align: middle;\n",
       "    }\n",
       "\n",
       "    .dataframe tbody tr th {\n",
       "        vertical-align: top;\n",
       "    }\n",
       "\n",
       "    .dataframe thead th {\n",
       "        text-align: right;\n",
       "    }\n",
       "</style>\n",
       "<table border=\"1\" class=\"dataframe\">\n",
       "  <thead>\n",
       "    <tr style=\"text-align: right;\">\n",
       "      <th></th>\n",
       "      <th>mean</th>\n",
       "      <th>std</th>\n",
       "    </tr>\n",
       "    <tr>\n",
       "      <th>condition</th>\n",
       "      <th></th>\n",
       "      <th></th>\n",
       "    </tr>\n",
       "  </thead>\n",
       "  <tbody>\n",
       "    <tr>\n",
       "      <th>1st album</th>\n",
       "      <td>7.18</td>\n",
       "      <td>0.85</td>\n",
       "    </tr>\n",
       "    <tr>\n",
       "      <th>2nd album</th>\n",
       "      <td>6.81</td>\n",
       "      <td>1.33</td>\n",
       "    </tr>\n",
       "    <tr>\n",
       "      <th>3rd album</th>\n",
       "      <td>6.79</td>\n",
       "      <td>1.32</td>\n",
       "    </tr>\n",
       "  </tbody>\n",
       "</table>\n",
       "</div>"
      ],
      "text/plain": [
       "           mean   std\n",
       "condition            \n",
       "1st album  7.18  0.85\n",
       "2nd album  6.81  1.33\n",
       "3rd album  6.79  1.32"
      ]
     },
     "execution_count": 96,
     "metadata": {},
     "output_type": "execute_result"
    }
   ],
   "source": [
    "stat4_df = pd.DataFrame()\n",
    "stat4_df['condition'] = ['1st album','2nd album', '3rd album']\n",
    "stat4_df['mean'] = album1_score_mean, album2_score_mean, album3_score_mean\n",
    "stat4_df['std'] = album1_score_std, album2_score_std, album3_score_std\n",
    "stat4_df.set_index('condition', inplace = True)\n",
    "stat4_df.round(2)"
   ]
  },
  {
   "cell_type": "markdown",
   "metadata": {},
   "source": [
    "It seems that the second albums of the successful bands have lower scores than their first albums. To see if that difference is significant, we perform a T-test. Let's note that the standard deviation of the first albums is much lower that for the second and third albums as we specifically selected the scores > 6.\n",
    "\n",
    "To analyse whether there is a statistical difference between the scores of the 1st and 2nd albums, we calculate the T-test for the means of two independent samples.\n",
    "\n",
    "- The test statistic: s = `score`<sub>1st album</sub> – `score`<sub>2nd album</sub> \n",
    "- The null hypothesis H<sub>0</sub>: `score`<sub>1st album</sub> = `score`<sub>2nd album</sub> i.e.`score` values are the same in both conditions\n",
    "- We reject H<sub>0</sub> if Pr(S > s | H<sub>0</sub>) < α\n",
    "\n",
    "We set our significance level α at 0.05 (a suitable “small” probability), being high enough to have a low false-positive rate and therefore a high statistical power."
   ]
  },
  {
   "cell_type": "code",
   "execution_count": 97,
   "metadata": {},
   "outputs": [
    {
     "data": {
      "text/plain": [
       "Ttest_indResult(statistic=4.268008398739101, pvalue=2.268891774040292e-05)"
      ]
     },
     "execution_count": 97,
     "metadata": {},
     "output_type": "execute_result"
    }
   ],
   "source": [
    "ttest_ind(successful_bands_df['album1_score'], successful_bands_df['album2_score'])"
   ]
  },
  {
   "cell_type": "markdown",
   "metadata": {},
   "source": [
    "This test evaluates, if the two albums behaved the same way, how likely would we be to find such a distribution of `score` values. This test results in a p-value of 2.27 * 10<sup>-5</sup>, being inferior to 0.05. As a result, we reject the null hypothesis that `score` values are the same for the 1st and 2nd albums (under α = 0.05).\n",
    "\n",
    "We saw that the mean of `score` is slightly lower for the 2nd albums, compared to the 1st albums. As a result, we could speculate that the second albums seem to be slightly less good in terms of score compared from the first albums."
   ]
  },
  {
   "cell_type": "markdown",
   "metadata": {},
   "source": [
    "To analyse whether there is a statistical difference between the scores of the 2nd and 3rd albums, we calculate the T-test for the means of two independent samples.\n",
    "\n",
    "- The test statistic: s = `score`<sub>2nd album</sub> – `score`<sub>3rd album</sub> \n",
    "- The null hypothesis H<sub>0</sub>: `score`<sub>2nd album</sub> = `score`<sub>3rd album</sub> i.e.`score` values are the same in both conditions\n",
    "- We reject H<sub>0</sub> if Pr(S > s | H<sub>0</sub>) < α\n",
    "\n",
    "Again, we set our significance level α at 0.05 (a suitable “small” probability), being high enough to have a low false-positive rate and therefore a high statistical power."
   ]
  },
  {
   "cell_type": "code",
   "execution_count": 98,
   "metadata": {},
   "outputs": [
    {
     "data": {
      "text/plain": [
       "Ttest_indResult(statistic=0.17427748575077343, pvalue=0.8617021629239348)"
      ]
     },
     "execution_count": 98,
     "metadata": {},
     "output_type": "execute_result"
    }
   ],
   "source": [
    "ttest_ind(successful_bands_df['album2_score'], successful_bands_df['album3_score'])"
   ]
  },
  {
   "cell_type": "markdown",
   "metadata": {},
   "source": [
    "This test evaluates, if the two albums behaved the same way, how likely would we be to find such a distribution of `score` values. This test results in a p-value of 0.86, being superior to 0.05. As a result, we do not reject the null hypothesis that `score` values are the same for the 2nd and 3rd albums (under α = 0.05)."
   ]
  },
  {
   "cell_type": "markdown",
   "metadata": {},
   "source": [
    "**Discussion:**\n",
    "\n",
    "Those hypothetical results are really interesting as they are similar to what we found with our real data.\n",
    "\n",
    "Looking at the second albums of our hypothetical data, it is statistically different from the first album but not from the third album. This was predictable as our 1st albums dataset is a selected dataset, only containing albums with high scores, compared to the second and third albums datasets containing scores normally distributed with the band's talent as mean and a standard deviation of 1. \n",
    "\n",
    "When one thinks about it, discarding all bands whose first albums received a score smaller than 6 is quite similar to \"real life\". Indeed, we suppose an unknown artist will only be successful in music and get known if his/her first album is \"really good\". Then, his/her future albums will be \"average\" (normally distributed around his/her talent). Therefore, it is coherent that there will in general be a significant difference between the two first albums (the first being \"really good\" and the second \"average\"), but then none for the following albums.\n",
    "\n",
    "A visual interpretation of this effect can been seen on the plot below."
   ]
  },
  {
   "cell_type": "code",
   "execution_count": 99,
   "metadata": {},
   "outputs": [
    {
     "data": {
      "image/png": "[encoded data removed]",
      "text/plain": [
       "<Figure size 1944x504 with 2 Axes>"
      ]
     },
     "metadata": {},
     "output_type": "display_data"
    }
   ],
   "source": [
    "fig = plt.figure(figsize = (27,7))\n",
    "\n",
    "ax1 = fig.add_subplot(141)\n",
    "sns.histplot(successful_bands_df['album3_score'], kde = True, label = '3rd albums', \\\n",
    "                         bins = 20, color = color_palette[6])\n",
    "sns.histplot(successful_bands_df['album2_score'], kde = True, label = '2nd albums', \\\n",
    "                         bins = 20, color = color_palette[2])\n",
    "sns.histplot(successful_bands_df['album1_score'], kde = False, label = '1st albums', \\\n",
    "                         bins = 20, color = color_palette[7])\n",
    "plt.legend()\n",
    "plt.xlabel('Scores')\n",
    "plt.title('Distribution of the hypothetical scores of 1st, 2nd and 3rd albums', pad = 20);\n",
    "    \n",
    "ax2 = fig.add_subplot(142)\n",
    "sns.histplot(triplets_df[triplets_df['album_number'] == 0].score, kde = True, label = '1st albums', \\\n",
    "                         bins = 20, color = color_palette[7])\n",
    "sns.histplot(triplets_df[triplets_df['album_number'] == 2].score, kde=True, label = '3rd albums', \\\n",
    "                         bins = 20, color =  color_palette[6])\n",
    "\n",
    "sns.histplot(triplets_df[triplets_df['album_number'] == 1].score, kde=True, label = '2nd albums', \\\n",
    "                         bins = 20, color = color_palette[2])\n",
    "plt.legend()\n",
    "plt.xlabel('Scores')\n",
    "plt.title('Distribution of the real data scores of 1st, 2nd and 3rd albums', pad = 20)\n",
    "\n",
    "plt.tight_layout()\n",
    "plt.show();"
   ]
  }
 ],
 "metadata": {
  "kernelspec": {
   "display_name": "Python 3 (ipykernel)",
   "language": "python",
   "name": "python3"
  },
  "language_info": {
   "codemirror_mode": {
    "name": "ipython",
    "version": 3
   },
   "file_extension": ".py",
   "mimetype": "text/x-python",
   "name": "python",
   "nbconvert_exporter": "python",
   "pygments_lexer": "ipython3",
   "version": "3.8.11"
  },
  "pycharm": {
   "stem_cell": {
    "cell_type": "raw",
    "metadata": {
     "collapsed": false
    },
    "source": []
   }
  }
 },
 "nbformat": 4,
 "nbformat_minor": 4
}
