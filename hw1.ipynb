{
 "cells": [
  {
   "cell_type": "markdown",
   "metadata": {},
   "source": [
    "# Homework 1 (HW1)\n",
    "\n",
    "---\n",
    "By the end of this homework we expect you to be able to:\n",
    "1. Load data from different formats using [pandas](https://pandas.pydata.org/);\n",
    "2. Navigate the documentation of Python packages by yourself;\n",
    "3. Filter and tidy up noisy data sets;\n",
    "4. Aggregate your data in different (and hopefully helpful) ways; \n",
    "5. Create meaningful visualizations to analyze the data;\n",
    "6. Critically think and write about data;\n",
    "---\n",
    "\n",
    "## Important Dates\n",
    "\n",
    "- Homework release: Fri 8 Oct 2021\n",
    "- **Homework due**: Fri 22 Oct 2021, 23:59\n",
    "- Grade release: Fri 29 Oct 2021\n",
    "\n",
    "---\n",
    "\n",
    "##  Some rules\n",
    "\n",
    "1. You are allowed to use any built-in Python library that comes with Anaconda. If you want to use an external library, \n",
    "you may do so, but must justify your choice.\n",
    "2. Make sure you use the `data` folder provided in the repository in read-only mode. (Or alternatively, be sure you \n",
    "don’t change any of the files.)\n",
    "3. Be sure to provide a textual description of your thought process, the assumptions you made, the solution you \n",
    "implemented, and explanations for your answers. A notebook that only has code cells will not suffice.\n",
    "4. For questions containing the **/Discuss:/** prefix, answer not with code, but with a textual explanation\n",
    " (**in markdown**).\n",
    "5. Back up any hypotheses and claims with data, since this is an important aspect of the course.\n",
    "6. Please write all your comments in English, and use meaningful variable names in your code. Your repo should have a \n",
    "single notebook (plus the required data files) in the *master/main* branch. If there are multiple notebooks present, \n",
    "we will **not grade** anything.\n",
    "7. We will **not run your notebook for you**! Rather, we will grade it as is, which means that only the results \n",
    "contained in your evaluated code cells will be considered, and we will not see the results in unevaluated code cells. \n",
    "Thus, be sure to hand in a **fully-run and evaluated notebook**. In order to check whether everything looks as intended,\n",
    " you can check the rendered notebook on the GitHub website once you have pushed your solution there.\n",
    "8. In continuation to the previous point, interactive plots, such as those generated using `plotly`, should be \n",
    "**strictly avoided**!\n",
    "9. Make sure to print results or dataframes that confirm you have properly addressed the task.\n",
    "\n",
    "---\n",
    "\n",
    "## Context\n",
    "\n",
    "In this project, we are going to analyze data from an experiment about *honesty*. \n",
    "Oftentimes, we are asked to confirm our honest intentions by signing **at the end** of a document. \n",
    "For example, in tax returns or insurance policy forms, we are often asked to sign our names under a text that reads \n",
    "something like \"I hereby certify that the above statements are true and correct to the best of my knowledge.\"\n",
    "\n",
    "However, when individuals sign **after** lying in the form, they may not feel the need to correct the falsehoods they \n",
    "have reported. In that context, it could be that signing at **the beginning** rather than at the end of the document \n",
    "would decrease dishonesty, as those who are filling the form would be aware of the ethical requirements *before* they \n",
    "provide the information in the form.\n",
    "\n",
    "This intuition has led researchers to partner up with a motorcycle insurance company to run a randomized experiment. \n",
    "In this insurance company (as well as in many others), customers had to report the exact *odometer kilometrage*¹ in \n",
    "order for the company to adjust the insurance premiums. Note that motorcycles with lower kilometrage are less likely to \n",
    "have issues, and thus will result in a lower *insurance premium*². Therefore, customers have an incentive to lie, \n",
    "reporting a kilometrage lower than the real value, in order to save money.\n",
    "\n",
    "In the experiment, two different forms were created: one where the signing was done at the end, and another where the \n",
    "signing was done at the beginning. The insurance company then randomized these forms (i.e., each customer received\n",
    " exactly one form, each with probability 50%) and sent back the data that customers had provided. Some noteworthy \n",
    " details on the experiment are that:\n",
    "\n",
    "- All customers involved in the experiment already had a contract with the company and were simply renewing it. \n",
    "In the data that the company provided, they also report the odometer kilometrage for their previous contract.\n",
    "Each policy, therefore, contains two contracts: the \"updated\" contract —where the experiment was conducted— and \n",
    "the \"baseline\" contract, which was the previous contract customers had with the company.\n",
    "- A single insurance policy can insure up to 4 distinct motorcycles.\n",
    "\n",
    "In this assignment, you will take the role of the researcher and work analyzing this data!\n",
    "\n",
    "*Glossary:*\n",
    "1. **odometer kilometrage:** the total distance the motorcycle has traveled.\n",
    "2. **insurance premiums:** the amount of money one pays for an insurance policy.\n",
    "\n",
    "---\n",
    "\n",
    "## The data\n",
    "\n",
    "The company provided you with a compressed `.tsv` file containing one row per policy. \n",
    "The `.tsv` has the following fields:\n",
    "\n",
    "- `condition`: either `Sign Top` or `Sign Bottom`, depending on which form was sent.\n",
    "- `id`: unique identifier for each insurance policy.\n",
    "- `motorcycle_count`: number of motorcycles covered by the insurance policy.\n",
    "- `baseline_motorcycle[1-4]`: odometer kilometrage *reported by the customer* in the *previous (baseline)* contract. \n",
    "- `update_motorcycle[1-4]`: odometer kilometrage *reported by the customer* in the *current (updated)* contract.\n",
    "\n",
    "Some comments:\n",
    "\n",
    "- Recall that a single policy can ensure up to 4 motorcycles, and thus, the suffixes [1-4] indicate that there are 4 \n",
    "versions of these columns in the data (e.g., `baseline_motorcycle1`, `baseline_motorcycle2`, `baseline_motorcycle3`, \n",
    "`baseline_motorcycle4`). \n",
    "- When a policy has fewer than 4 motorcycles, only the columns with the smaller numerals are filled (e.g., if a policy \n",
    "insures one motorcycle,  only `baseline_motorcycle1` and `update_motorcycle1` will be filled).\n",
    "- Note that we only have access to the odometer kilometrage reported by the customers, \n",
    "which may be different from the real kilometrage of the motorcycles."
   ]
  },
  {
   "cell_type": "code",
   "execution_count": 1,
   "metadata": {},
   "outputs": [],
   "source": [
    "# Imports you may need\n",
    "import seaborn as sns\n",
    "from IPython.display import display, HTML\n",
    "import matplotlib.pyplot as plt\n",
    "import itertools\n",
    "import scipy.stats as stats\n",
    "import pandas as pd\n",
    "import numpy as np"
   ]
  },
  {
   "cell_type": "markdown",
   "metadata": {},
   "source": [
    "### **Task 1** — 4pts\n",
    "\n",
    "Your first task is to load the dataset into memory using pandas. \n",
    "**You should load the data directly from the compressed files.**\n",
    "\n",
    "Here, the files at hand are rather small, and you could easily uncompress the files to disk and work with them as plain \n",
    "text. Why, then, are we asking you to load the files compressed? The reason is that, in your life as a data scientist, \n",
    "this will often not be the case. Then, working with compressed files is key so that you don't receive email from your \n",
    "(often more responsible) colleagues demanding to know how you have managed to fill the entire cluster with your \n",
    "datasets. Another big advantage of compressing files is to simply read files faster. You will often find that reading\n",
    "compressed data on the fly (uncompressing it as you go), is much faster than reading uncompressed data, since reading\n",
    "and writing to disk may be your [bottleneck](https://skipperkongen.dk/2012/02/28/uncompressed-versus-compressed-read/). \n",
    "\n",
    "---\n",
    "\n",
    "**Hint:** `pandas` can open compressed files.\n",
    "\n",
    "**Hint:** In the real world (and in ADA-homework), your file often comes with some weird lines! \n",
    "This time you can safely ignore them (but in the real world you must try to understand why they are there!). \n",
    "Check the `error_bad_lines` or the `on_bad_lines` (depending on your pandas version) parameter on `read_csv`."
   ]
  },
  {
   "cell_type": "markdown",
   "metadata": {},
   "source": [
    "#### 1.1 Loading the data and creating our dataframe"
   ]
  },
  {
   "cell_type": "code",
   "execution_count": 2,
   "metadata": {},
   "outputs": [],
   "source": [
    "PATH = 'data/'\n",
    "DATA_FILE = 'data.tsv.gz'\n",
    "df = pd.read_csv(PATH+DATA_FILE, compression='gzip', index_col = False, sep='\\t', on_bad_lines='skip')"
   ]
  },
  {
   "cell_type": "markdown",
   "metadata": {},
   "source": [
    "A first glance at the data:\n"
   ]
  },
  {
   "cell_type": "code",
   "execution_count": 3,
   "metadata": {},
   "outputs": [
    {
     "data": {
      "text/html": [
       "<div>\n",
       "<style scoped>\n",
       "    .dataframe tbody tr th:only-of-type {\n",
       "        vertical-align: middle;\n",
       "    }\n",
       "\n",
       "    .dataframe tbody tr th {\n",
       "        vertical-align: top;\n",
       "    }\n",
       "\n",
       "    .dataframe thead th {\n",
       "        text-align: right;\n",
       "    }\n",
       "</style>\n",
       "<table border=\"1\" class=\"dataframe\">\n",
       "  <thead>\n",
       "    <tr style=\"text-align: right;\">\n",
       "      <th></th>\n",
       "      <th>condition</th>\n",
       "      <th>id</th>\n",
       "      <th>baseline_motorcycle1</th>\n",
       "      <th>update_motorcycle1</th>\n",
       "      <th>baseline_motorcycle2</th>\n",
       "      <th>update_motorcycle2</th>\n",
       "      <th>baseline_motorcycle3</th>\n",
       "      <th>update_motorcycle3</th>\n",
       "      <th>baseline_motorcycle4</th>\n",
       "      <th>update_motorcycle4</th>\n",
       "      <th>motorcycle_count</th>\n",
       "    </tr>\n",
       "  </thead>\n",
       "  <tbody>\n",
       "    <tr>\n",
       "      <th>0</th>\n",
       "      <td>Sign Top</td>\n",
       "      <td>1</td>\n",
       "      <td>896</td>\n",
       "      <td>39198</td>\n",
       "      <td>NaN</td>\n",
       "      <td>NaN</td>\n",
       "      <td>NaN</td>\n",
       "      <td>NaN</td>\n",
       "      <td>NaN</td>\n",
       "      <td>NaN</td>\n",
       "      <td>1</td>\n",
       "    </tr>\n",
       "    <tr>\n",
       "      <th>1</th>\n",
       "      <td>Sign Bottom</td>\n",
       "      <td>2</td>\n",
       "      <td>21396</td>\n",
       "      <td>63511</td>\n",
       "      <td>32659.0</td>\n",
       "      <td>47605.0</td>\n",
       "      <td>NaN</td>\n",
       "      <td>NaN</td>\n",
       "      <td>NaN</td>\n",
       "      <td>NaN</td>\n",
       "      <td>2</td>\n",
       "    </tr>\n",
       "    <tr>\n",
       "      <th>2</th>\n",
       "      <td>Sign Bottom</td>\n",
       "      <td>3</td>\n",
       "      <td>21340</td>\n",
       "      <td>37460</td>\n",
       "      <td>44998.0</td>\n",
       "      <td>59002.0</td>\n",
       "      <td>NaN</td>\n",
       "      <td>NaN</td>\n",
       "      <td>NaN</td>\n",
       "      <td>NaN</td>\n",
       "      <td>2</td>\n",
       "    </tr>\n",
       "    <tr>\n",
       "      <th>3</th>\n",
       "      <td>Sign Bottom</td>\n",
       "      <td>4</td>\n",
       "      <td>23912</td>\n",
       "      <td>59136</td>\n",
       "      <td>NaN</td>\n",
       "      <td>NaN</td>\n",
       "      <td>NaN</td>\n",
       "      <td>NaN</td>\n",
       "      <td>NaN</td>\n",
       "      <td>NaN</td>\n",
       "      <td>1</td>\n",
       "    </tr>\n",
       "    <tr>\n",
       "      <th>4</th>\n",
       "      <td>Sign Bottom</td>\n",
       "      <td>5</td>\n",
       "      <td>16862</td>\n",
       "      <td>59292</td>\n",
       "      <td>NaN</td>\n",
       "      <td>NaN</td>\n",
       "      <td>NaN</td>\n",
       "      <td>NaN</td>\n",
       "      <td>NaN</td>\n",
       "      <td>NaN</td>\n",
       "      <td>1</td>\n",
       "    </tr>\n",
       "  </tbody>\n",
       "</table>\n",
       "</div>"
      ],
      "text/plain": [
       "     condition  id  baseline_motorcycle1  update_motorcycle1  \\\n",
       "0     Sign Top   1                   896               39198   \n",
       "1  Sign Bottom   2                 21396               63511   \n",
       "2  Sign Bottom   3                 21340               37460   \n",
       "3  Sign Bottom   4                 23912               59136   \n",
       "4  Sign Bottom   5                 16862               59292   \n",
       "\n",
       "   baseline_motorcycle2  update_motorcycle2  baseline_motorcycle3  \\\n",
       "0                   NaN                 NaN                   NaN   \n",
       "1               32659.0             47605.0                   NaN   \n",
       "2               44998.0             59002.0                   NaN   \n",
       "3                   NaN                 NaN                   NaN   \n",
       "4                   NaN                 NaN                   NaN   \n",
       "\n",
       "   update_motorcycle3  baseline_motorcycle4  update_motorcycle4  \\\n",
       "0                 NaN                   NaN                 NaN   \n",
       "1                 NaN                   NaN                 NaN   \n",
       "2                 NaN                   NaN                 NaN   \n",
       "3                 NaN                   NaN                 NaN   \n",
       "4                 NaN                   NaN                 NaN   \n",
       "\n",
       "   motorcycle_count  \n",
       "0                 1  \n",
       "1                 2  \n",
       "2                 2  \n",
       "3                 1  \n",
       "4                 1  "
      ]
     },
     "execution_count": 3,
     "metadata": {},
     "output_type": "execute_result"
    }
   ],
   "source": [
    "df.head()"
   ]
  },
  {
   "cell_type": "markdown",
   "metadata": {},
   "source": [
    "### Task 2 — 12pts\n",
    "\n",
    "As a good data scientist, the first thing you do is to clean up the data and perform some small sanity checks.\n",
    "\n",
    "1. The motorcycle insurance company mentioned that each policy has a unique identifier, but that there may be duplicate \n",
    "rows (i.e., multiple rows with the same policy identifier). Check if there are duplicate policies and, if so, filter \n",
    "these rows from the data (always keeping the first).\n",
    "\n",
    "2. According to the company, all policies should have kept the number of motorcycles from the previous contract (i.e., \n",
    "the number of motorcycles recorded in baseline contracts should equal the number of motorcycles in updated contracts). \n",
    "Also, the number of odometer readings for each contract should be the same as the number stated in the \n",
    "`motorcycle_count` variable. Check the data to see if these two things hold. If not, filter the anomalous rows.\n",
    "\n",
    "3. Calculate the mean and the median value of each column related to kilometrages. Are the values obtained plausible? \n",
    "Visualize the distribution of the data and remove any extreme outliers.\n",
    "\n",
    "4. **Discuss:** In cases where you cannot think of appropriate ways to remove outliers, would you prefer summarizing \n",
    "numerical data with outliers with the mean or the median? Why?\n",
    "\n",
    "---\n",
    "\n",
    "**Hint:** Here we are considering as outliers numbers that are not plausible in the context of motorcycle kilometrages."
   ]
  },
  {
   "cell_type": "markdown",
   "metadata": {},
   "source": [
    "#### 2.1 Filter duplicates"
   ]
  },
  {
   "cell_type": "markdown",
   "metadata": {},
   "source": [
    "Let's start by searching for redundant rows."
   ]
  },
  {
   "cell_type": "code",
   "execution_count": 4,
   "metadata": {},
   "outputs": [
    {
     "data": {
      "text/plain": [
       "False"
      ]
     },
     "execution_count": 4,
     "metadata": {},
     "output_type": "execute_result"
    }
   ],
   "source": [
    "# Check for any duplicate ids\n",
    "df['id'].is_unique"
   ]
  },
  {
   "cell_type": "markdown",
   "metadata": {},
   "source": [
    "We can see that there are indeed duplicate rows. We'll now create a new dataframe (`cleaned_df`) without this redundancy."
   ]
  },
  {
   "cell_type": "code",
   "execution_count": 5,
   "metadata": {},
   "outputs": [
    {
     "data": {
      "text/plain": [
       "True"
      ]
     },
     "execution_count": 5,
     "metadata": {},
     "output_type": "execute_result"
    }
   ],
   "source": [
    "# Creation of a clean version of the data (without modifying the original one)\n",
    "cleaned_df = df.copy(deep=True)\n",
    "\n",
    "# Removal of duplicates of each id (the first is kept)\n",
    "cleaned_df = cleaned_df[~cleaned_df['id'].duplicated(keep='first')]\n",
    "\n",
    "# Check for any duplicate ids\n",
    "cleaned_df['id'].is_unique"
   ]
  },
  {
   "cell_type": "markdown",
   "metadata": {},
   "source": [
    "Let's now check whether some rows were removed."
   ]
  },
  {
   "cell_type": "code",
   "execution_count": 6,
   "metadata": {},
   "outputs": [
    {
     "data": {
      "text/plain": [
       "(13497, 11)"
      ]
     },
     "execution_count": 6,
     "metadata": {},
     "output_type": "execute_result"
    }
   ],
   "source": [
    "# Visualisation of the initial shape\n",
    "df.shape"
   ]
  },
  {
   "cell_type": "code",
   "execution_count": 7,
   "metadata": {},
   "outputs": [
    {
     "data": {
      "text/plain": [
       "(13488, 11)"
      ]
     },
     "execution_count": 7,
     "metadata": {},
     "output_type": "execute_result"
    }
   ],
   "source": [
    "# Visualisation of the new shape\n",
    "cleaned_df.shape"
   ]
  },
  {
   "cell_type": "markdown",
   "metadata": {},
   "source": [
    "We can see that 9 (`id`) duplicate rows were removed."
   ]
  },
  {
   "cell_type": "markdown",
   "metadata": {},
   "source": [
    "#### 2.2 Filter with policy rules"
   ]
  },
  {
   "cell_type": "markdown",
   "metadata": {},
   "source": [
    "Let's create a function to remove the incorrect rows and apply it to our cleaned dataframe."
   ]
  },
  {
   "cell_type": "code",
   "execution_count": 8,
   "metadata": {},
   "outputs": [],
   "source": [
    "import math\n",
    "\n",
    "def drop_bad_rows(cleaned_df):\n",
    "    \"\"\" Removes all rows that do not respect one or both of the policy rules\"\"\"\n",
    "    for ind, row in cleaned_df.iterrows():\n",
    "        count = 0\n",
    "        for i in range(1,5):\n",
    "            if not math.isnan(row['baseline_motorcycle{}'.format(i)]):       \n",
    "                if not math.isnan(row['update_motorcycle{}'.format(i)]):\n",
    "                    count += 1\n",
    "                else: cleaned_df.drop(ind)\n",
    "            elif not math.isnan(row['update_motorcycle{}'.format(i)]):\n",
    "                cleaned_df.drop(ind)\n",
    "        if count != row['motorcycle_count']: \n",
    "            cleaned_df.drop(ind)\n",
    "    return cleaned_df\n",
    "\n",
    "clean_df = drop_bad_rows(cleaned_df)    "
   ]
  },
  {
   "cell_type": "markdown",
   "metadata": {},
   "source": [
    "We now check whether some rows were removed."
   ]
  },
  {
   "cell_type": "code",
   "execution_count": 9,
   "metadata": {},
   "outputs": [
    {
     "data": {
      "text/plain": [
       "(13488, 11)"
      ]
     },
     "execution_count": 9,
     "metadata": {},
     "output_type": "execute_result"
    }
   ],
   "source": [
    "# Visualisation of the new shape\n",
    "cleaned_df.shape"
   ]
  },
  {
   "cell_type": "markdown",
   "metadata": {},
   "source": [
    "As no rows were dropped, we suggest that those policy rules hold in the entire cleaned dataset."
   ]
  },
  {
   "cell_type": "markdown",
   "metadata": {
    "tags": []
   },
   "source": [
    "#### 2.3 Detect and remove outliers"
   ]
  },
  {
   "cell_type": "markdown",
   "metadata": {},
   "source": [
    "We compute the means and medians of all the reported kilometrages then visualise our stats data."
   ]
  },
  {
   "cell_type": "code",
   "execution_count": 10,
   "metadata": {},
   "outputs": [
    {
     "data": {
      "text/html": [
       "<div>\n",
       "<style scoped>\n",
       "    .dataframe tbody tr th:only-of-type {\n",
       "        vertical-align: middle;\n",
       "    }\n",
       "\n",
       "    .dataframe tbody tr th {\n",
       "        vertical-align: top;\n",
       "    }\n",
       "\n",
       "    .dataframe thead th {\n",
       "        text-align: right;\n",
       "    }\n",
       "</style>\n",
       "<table border=\"1\" class=\"dataframe\">\n",
       "  <thead>\n",
       "    <tr style=\"text-align: right;\">\n",
       "      <th></th>\n",
       "      <th>baseline_motorcycle1</th>\n",
       "      <th>update_motorcycle1</th>\n",
       "      <th>baseline_motorcycle2</th>\n",
       "      <th>update_motorcycle2</th>\n",
       "      <th>baseline_motorcycle3</th>\n",
       "      <th>update_motorcycle3</th>\n",
       "      <th>baseline_motorcycle4</th>\n",
       "      <th>update_motorcycle4</th>\n",
       "    </tr>\n",
       "    <tr>\n",
       "      <th>stat</th>\n",
       "      <th></th>\n",
       "      <th></th>\n",
       "      <th></th>\n",
       "      <th></th>\n",
       "      <th></th>\n",
       "      <th></th>\n",
       "      <th></th>\n",
       "      <th></th>\n",
       "    </tr>\n",
       "  </thead>\n",
       "  <tbody>\n",
       "    <tr>\n",
       "      <th>mean</th>\n",
       "      <td>7.413998e+14</td>\n",
       "      <td>7.413998e+14</td>\n",
       "      <td>67326.0</td>\n",
       "      <td>92277.6</td>\n",
       "      <td>67657.3</td>\n",
       "      <td>92849.4</td>\n",
       "      <td>67828.0</td>\n",
       "      <td>93374.3</td>\n",
       "    </tr>\n",
       "    <tr>\n",
       "      <th>median</th>\n",
       "      <td>5.634150e+04</td>\n",
       "      <td>8.239750e+04</td>\n",
       "      <td>56157.5</td>\n",
       "      <td>82061.0</td>\n",
       "      <td>58821.0</td>\n",
       "      <td>85645.0</td>\n",
       "      <td>68181.0</td>\n",
       "      <td>93387.5</td>\n",
       "    </tr>\n",
       "  </tbody>\n",
       "</table>\n",
       "</div>"
      ],
      "text/plain": [
       "        baseline_motorcycle1  update_motorcycle1  baseline_motorcycle2  \\\n",
       "stat                                                                     \n",
       "mean            7.413998e+14        7.413998e+14               67326.0   \n",
       "median          5.634150e+04        8.239750e+04               56157.5   \n",
       "\n",
       "        update_motorcycle2  baseline_motorcycle3  update_motorcycle3  \\\n",
       "stat                                                                   \n",
       "mean               92277.6               67657.3             92849.4   \n",
       "median             82061.0               58821.0             85645.0   \n",
       "\n",
       "        baseline_motorcycle4  update_motorcycle4  \n",
       "stat                                              \n",
       "mean                 67828.0             93374.3  \n",
       "median               68181.0             93387.5  "
      ]
     },
     "execution_count": 10,
     "metadata": {},
     "output_type": "execute_result"
    }
   ],
   "source": [
    "# Computation of the mean and the standard deviation then visualisation in a table\n",
    "df_stats = pd.DataFrame()\n",
    "df_stats['stat'] = ['mean', 'median']\n",
    "df_stats.set_index('stat', inplace = True)\n",
    "for i in range(1,5):\n",
    "    df_stats['baseline_motorcycle{}'.format(i)] = [cleaned_df['baseline_motorcycle{}'.format(i)].mean(),cleaned_df['baseline_motorcycle{}'.format(i)].median()]\n",
    "    df_stats['update_motorcycle{}'.format(i)] = [cleaned_df['update_motorcycle{}'.format(i)].mean(),cleaned_df['update_motorcycle{}'.format(i)].median()]\n",
    "\n",
    "df_stats.round(1)"
   ]
  },
  {
   "cell_type": "markdown",
   "metadata": {},
   "source": [
    "We can see that the means for `baseline_motorcycle1` and `update_motorcycle1` are extremely far from their corresponding medians. The mean of a dataset is sensitive (not robust) to possible outliers. As a result, this could suggest the presence of some outliers. Let's visualize this distribution."
   ]
  },
  {
   "cell_type": "code",
   "execution_count": 11,
   "metadata": {},
   "outputs": [],
   "source": [
    "# We define a color palette that will be used carefully throughout the project to be robust for color blind people\n",
    "color_palette = sns.color_palette(\"hls\",20)"
   ]
  },
  {
   "cell_type": "code",
   "execution_count": 12,
   "metadata": {},
   "outputs": [],
   "source": [
    "def plot_kil_dist(aux):\n",
    "    \"\"\"Plots kilometrage distribution in logarithm scale of baseline or update contracts\"\"\"\n",
    "    fig = plt.figure(figsize=(15,5))\n",
    "\n",
    "    if(aux == \"update_motorcycle\"):\n",
    "        color = color_palette[11]\n",
    "        fig.suptitle(\"Distribution of the kilometrage reported in the updated motorcycle contracts\")\n",
    "    else: \n",
    "        fig.suptitle(\"Distribution of the kilometrage reported in the baseline motorcycle contracts\")\n",
    "        color = color_palette[19]\n",
    "    \n",
    "    ax11 = fig.add_subplot(141)\n",
    "    sns.boxplot(data=cleaned_df['{}1'.format(aux)], color=color).set_yscale('log')\n",
    "\n",
    "    ax21 = fig.add_subplot(142, sharey = ax11)\n",
    "    sns.boxplot(data=cleaned_df['{}2'.format(aux)], color=color).set_yscale('log')\n",
    "    \n",
    "    ax31 = fig.add_subplot(143, sharey = ax11)\n",
    "    sns.boxplot(data=cleaned_df['{}3'.format(aux)], color=color).set_yscale('log')\n",
    "\n",
    "    ax41 = fig.add_subplot(144, sharey = ax11)\n",
    "    sns.boxplot(data=cleaned_df['{}3'.format(aux)], color=color).set_yscale('log')\n",
    "\n",
    "    ax11.set_ylabel('Kilometrage in log scale (km)')\n",
    "    ax11.set_xlabel('{}1'.format(aux))\n",
    "    ax21.set_xlabel('{}2'.format(aux))\n",
    "    ax31.set_xlabel('{}3'.format(aux))\n",
    "    ax41.set_xlabel('{}4'.format(aux))\n",
    "\n",
    "    fig.tight_layout()\n",
    "    plt.show()"
   ]
  },
  {
   "cell_type": "code",
   "execution_count": 13,
   "metadata": {},
   "outputs": [
    {
     "data": {
      "image/png": "[encoded data removed]",
      "text/plain": [
       "<Figure size 1080x360 with 4 Axes>"
      ]
     },
     "metadata": {
      "needs_background": "light"
     },
     "output_type": "display_data"
    },
    {
     "data": {
      "image/png": "[encoded data removed]",
      "text/plain": [
       "<Figure size 1080x360 with 4 Axes>"
      ]
     },
     "metadata": {
      "needs_background": "light"
     },
     "output_type": "display_data"
    }
   ],
   "source": [
    "plot_kil_dist(\"baseline_motorcycle\")\n",
    "plot_kil_dist(\"update_motorcycle\")"
   ]
  },
  {
   "cell_type": "markdown",
   "metadata": {},
   "source": [
    "We can identify some extreme outliers at approximatly 10<sup>19</sup>km in the `baseline_motorcycle1` and `upadate_motorcycle1` kilometrage values. We will now remove any outlier above 10<sup>7</sup>km. We expect to only remove the extreme outliers identified in the boxplots."
   ]
  },
  {
   "cell_type": "code",
   "execution_count": 14,
   "metadata": {},
   "outputs": [
    {
     "data": {
      "text/plain": [
       "(13486, 11)"
      ]
     },
     "execution_count": 14,
     "metadata": {},
     "output_type": "execute_result"
    }
   ],
   "source": [
    "# Removal of the outliers\n",
    "cleaned_df.drop(cleaned_df[cleaned_df['baseline_motorcycle1']>10**7].index, inplace=True)\n",
    "cleaned_df.drop(cleaned_df[cleaned_df['update_motorcycle1']>10**7].index, inplace=True)\n",
    "\n",
    "# Visualisation of the new shape\n",
    "cleaned_df.shape"
   ]
  },
  {
   "cell_type": "markdown",
   "metadata": {},
   "source": [
    "Two rows containing the extreme outliers were removed from the dataframe. Let's now visualise the kilometrage distribution for `baseline_motorcycle1` without the outliers."
   ]
  },
  {
   "cell_type": "code",
   "execution_count": 15,
   "metadata": {},
   "outputs": [
    {
     "data": {
      "image/png": "[encoded data removed]",
      "text/plain": [
       "<Figure size 1080x360 with 4 Axes>"
      ]
     },
     "metadata": {
      "needs_background": "light"
     },
     "output_type": "display_data"
    },
    {
     "data": {
      "image/png": "[encoded data removed]",
      "text/plain": [
       "<Figure size 1080x360 with 4 Axes>"
      ]
     },
     "metadata": {
      "needs_background": "light"
     },
     "output_type": "display_data"
    }
   ],
   "source": [
    "plot_kil_dist(\"baseline_motorcycle\")\n",
    "plot_kil_dist(\"update_motorcycle\")"
   ]
  },
  {
   "cell_type": "markdown",
   "metadata": {},
   "source": [
    "We can now see that the distribution for baseline motorcycle 1, 2 ,3 and 4 are similar and show no oddities."
   ]
  },
  {
   "cell_type": "markdown",
   "metadata": {},
   "source": [
    "#### 2.4 Discussion:\n",
    "In the case where outliers couldn't be removed, the mean could be distorted by very influencial outliers. On the other hand, with a big dataset such as ours, the median would be very slightly modified by the ouliers. Hence we would prefer to use the median."
   ]
  },
  {
   "cell_type": "markdown",
   "metadata": {},
   "source": [
    "### Task 3 — 12pts\n",
    "\n",
    "One of the challenges with the current data is that it is not clear how to handle policies with multiple motorcycles.\n",
    "\n",
    "1. Create three additional columns in the dataframe, `baseline_average`, `update_average`, and `diff_average`. These \n",
    "should contain, respectively, the average value for `baseline_motorcycle[1-4]` for all motorcycles insured; the average\n",
    " value for `update_motorcycle[1-4]`; and the difference between the average updated value and the average baseline \n",
    " value.\n",
    "2. **Discuss:** Propose another way of aggregating distinct motorcycles from a single policy. Point out a way in which \n",
    "this aggregation may be either better or worse than taking the average for the purpose of comparing the two scenarios in\n",
    " the study (sign at the top *versus* sign at the bottom).\n",
    "3. To get a sense of the impact that policies with multiple motorcycles may have in the study, let's perform some \n",
    "additional analyses. Plot the distribution of motorcycles per policy in the data. Your plot should allow for the \n",
    "meaningful comparison of the values shown.\n",
    "4. In 3.1, you calculated the average kilometrage for each policy for the updated contract. Calculate the mean and the \n",
    "standard deviation of these values (which should be in the column `update_average`).\n",
    "5. Another meaningful metric is the average kilometrage **per motorcycle**, not distinguishing motorcycles in different \n",
    "policies (i.e., pooled across policies). **Considering only policies with 4 motorcycles insured,** calculate the mean \n",
    "and the standard deviation of the kilometrage per motorcycle in the updated contract.\n",
    "6. **Discuss:** To analyze whether signing at the top decreases dishonesty, we could consider the data in different \n",
    "ways. We could first calculate the average value per motorcycle within each policy and have one data point per policy \n",
    "**or** we could analyze the data at the motorcycle level and have one data point per motorcycle in the dataset. \n",
    "According to questions 3.4 and 3.5, how may this decision influence the results of the study?\n",
    "---"
   ]
  },
  {
   "cell_type": "markdown",
   "metadata": {},
   "source": [
    "#### 3.1 Creation of three additional columns in the dataframe "
   ]
  },
  {
   "cell_type": "markdown",
   "metadata": {},
   "source": [
    "Let's complete our dataframe with those three additional columns."
   ]
  },
  {
   "cell_type": "code",
   "execution_count": 16,
   "metadata": {
    "tags": []
   },
   "outputs": [],
   "source": [
    "# New column for average of baseline motorcycle kilometrage\n",
    "cleaned_df = cleaned_df.assign(baseline_average = lambda x:  x[['baseline_motorcycle1','baseline_motorcycle2','baseline_motorcycle3',\n",
    "                                               'baseline_motorcycle4']].mean(skipna=True,axis=1)) \n",
    "\n",
    "# New column for average of update motorcycle kilometrage\n",
    "cleaned_df = cleaned_df.assign(update_average = lambda x:  x[['update_motorcycle1','update_motorcycle2','update_motorcycle3',\n",
    "                                               'update_motorcycle4']].mean(skipna=True,axis=1))\n",
    "\n",
    "# New column for difference of average between update motorcycle kilometrage and baseline motorcycle kilometrage\n",
    "cleaned_df = cleaned_df.assign(diff_average = lambda x: x['update_average']-x['baseline_average'])"
   ]
  },
  {
   "cell_type": "markdown",
   "metadata": {},
   "source": [
    "#### 3.2 Discussion\n",
    "Another way of aggragating distinct motorcycles from a single policy could be to take the maximum value of the baseline and of the updated kilometrage reported by each customer. Indeed, we suppose dishonest customers have decreased their kilometrage numbers, and especially the highest one. As a result, we expect the maximum value reported by dishonest customers to be lower than the honest customers. "
   ]
  },
  {
   "cell_type": "markdown",
   "metadata": {},
   "source": [
    "#### 3.3 Visualisation of the distribution of motorcycles per policy in the data\n"
   ]
  },
  {
   "cell_type": "markdown",
   "metadata": {},
   "source": [
    "Let's compare the number of policy between the different motorcycles numbers."
   ]
  },
  {
   "cell_type": "code",
   "execution_count": 17,
   "metadata": {},
   "outputs": [],
   "source": [
    "# Grouping of the data by the number of motorcycles per policy\n",
    "policy_by_number_motorcycles = cleaned_df.groupby('motorcycle_count').apply(lambda x: \n",
    "                                                                            pd.Series({'number of policy': x['id'].count()}))"
   ]
  },
  {
   "cell_type": "markdown",
   "metadata": {},
   "source": [
    "Let's visualise this distribution in a bar chart:"
   ]
  },
  {
   "cell_type": "code",
   "execution_count": 18,
   "metadata": {},
   "outputs": [
    {
     "data": {
      "image/png": "[encoded data removed]",
      "text/plain": [
       "<Figure size 432x288 with 1 Axes>"
      ]
     },
     "metadata": {
      "needs_background": "light"
     },
     "output_type": "display_data"
    }
   ],
   "source": [
    "ax = sns.barplot(x=policy_by_number_motorcycles.index.values, y=\"number of policy\", data=policy_by_number_motorcycles, palette = color_palette[0:4])\n",
    "plt.xticks(rotation = 'horizontal')\n",
    "plt.tight_layout()\n",
    "plt.xlabel('Number of motorcycles')\n",
    "plt.ylabel('Number of policies')\n",
    "plt.title('Distribution of motorcycles per policy in the data', pad=20);"
   ]
  },
  {
   "cell_type": "markdown",
   "metadata": {},
   "source": [
    "We can see that there are a lot of policies with one motorcycle and that the number of policies decreases with the augmentation of the number of motorcycles."
   ]
  },
  {
   "cell_type": "markdown",
   "metadata": {},
   "source": [
    "#### 3.4 Mean and standard deviation of the average kilometrage for each policy for the updated contract"
   ]
  },
  {
   "cell_type": "markdown",
   "metadata": {},
   "source": [
    "Let's compute the mean and std of the averages of the updated contract values."
   ]
  },
  {
   "cell_type": "code",
   "execution_count": 19,
   "metadata": {},
   "outputs": [
    {
     "data": {
      "text/html": [
       "<div>\n",
       "<style scoped>\n",
       "    .dataframe tbody tr th:only-of-type {\n",
       "        vertical-align: middle;\n",
       "    }\n",
       "\n",
       "    .dataframe tbody tr th {\n",
       "        vertical-align: top;\n",
       "    }\n",
       "\n",
       "    .dataframe thead th {\n",
       "        text-align: right;\n",
       "    }\n",
       "</style>\n",
       "<table border=\"1\" class=\"dataframe\">\n",
       "  <thead>\n",
       "    <tr style=\"text-align: right;\">\n",
       "      <th></th>\n",
       "      <th>update_motorcycle</th>\n",
       "    </tr>\n",
       "    <tr>\n",
       "      <th>stat</th>\n",
       "      <th></th>\n",
       "    </tr>\n",
       "  </thead>\n",
       "  <tbody>\n",
       "    <tr>\n",
       "      <th>mean</th>\n",
       "      <td>92167.0</td>\n",
       "    </tr>\n",
       "    <tr>\n",
       "      <th>std</th>\n",
       "      <td>52212.9</td>\n",
       "    </tr>\n",
       "  </tbody>\n",
       "</table>\n",
       "</div>"
      ],
      "text/plain": [
       "      update_motorcycle\n",
       "stat                   \n",
       "mean            92167.0\n",
       "std             52212.9"
      ]
     },
     "execution_count": 19,
     "metadata": {},
     "output_type": "execute_result"
    }
   ],
   "source": [
    "# Computation of the mean and the standard deviation\n",
    "mean_updated_contract = cleaned_df.update_average.mean()\n",
    "std_updated_contract = cleaned_df.update_average.std()\n",
    "\n",
    "# Visualisation in a table\n",
    "df_stats_average_motorcycle= pd.DataFrame()\n",
    "df_stats_average_motorcycle['stat'] = ['mean', 'std']\n",
    "df_stats_average_motorcycle['update_motorcycle'] = [mean_updated_contract, std_updated_contract]\n",
    "df_stats_average_motorcycle.set_index('stat', inplace = True)\n",
    "df_stats_average_motorcycle.round(1)"
   ]
  },
  {
   "cell_type": "markdown",
   "metadata": {},
   "source": [
    "#### 3.5 Average kilometrage per motorcycle"
   ]
  },
  {
   "cell_type": "markdown",
   "metadata": {},
   "source": [
    "Considering only policies with 4 motorcycles insured, we compute the mean and stds of their motorcycles kilometrages in the updated contract."
   ]
  },
  {
   "cell_type": "code",
   "execution_count": 20,
   "metadata": {},
   "outputs": [
    {
     "data": {
      "text/html": [
       "<div>\n",
       "<style scoped>\n",
       "    .dataframe tbody tr th:only-of-type {\n",
       "        vertical-align: middle;\n",
       "    }\n",
       "\n",
       "    .dataframe tbody tr th {\n",
       "        vertical-align: top;\n",
       "    }\n",
       "\n",
       "    .dataframe thead th {\n",
       "        text-align: right;\n",
       "    }\n",
       "</style>\n",
       "<table border=\"1\" class=\"dataframe\">\n",
       "  <thead>\n",
       "    <tr style=\"text-align: right;\">\n",
       "      <th></th>\n",
       "      <th>Per motorcycle</th>\n",
       "    </tr>\n",
       "    <tr>\n",
       "      <th>stat</th>\n",
       "      <th></th>\n",
       "    </tr>\n",
       "  </thead>\n",
       "  <tbody>\n",
       "    <tr>\n",
       "      <th>mean</th>\n",
       "      <td>113443.9</td>\n",
       "    </tr>\n",
       "    <tr>\n",
       "      <th>std</th>\n",
       "      <td>77098.4</td>\n",
       "    </tr>\n",
       "  </tbody>\n",
       "</table>\n",
       "</div>"
      ],
      "text/plain": [
       "      Per motorcycle\n",
       "stat                \n",
       "mean        113443.9\n",
       "std          77098.4"
      ]
     },
     "execution_count": 20,
     "metadata": {},
     "output_type": "execute_result"
    }
   ],
   "source": [
    "# Computation of the mean and the standard deviation\n",
    "mean_per_motorcycle = cleaned_df[cleaned_df.motorcycle_count==4][['update_motorcycle1','update_motorcycle2','update_motorcycle3',\n",
    "                                                  'update_motorcycle4']].mean()\n",
    "std_per_motorcycle = cleaned_df[cleaned_df.motorcycle_count==4][['update_motorcycle1','update_motorcycle2','update_motorcycle3',\n",
    "                                                  'update_motorcycle4']].std()\n",
    "overall_mean_per_motorcycle = mean_per_motorcycle.mean()\n",
    "overall_std_per_motorcycle = std_per_motorcycle.mean()\n",
    "\n",
    "# Visualisation in a table\n",
    "df_stats_per_motorcycle= pd.DataFrame()\n",
    "df_stats_per_motorcycle['stat'] = ['mean', 'std']\n",
    "df_stats_per_motorcycle['Per motorcycle'] = [overall_mean_per_motorcycle,overall_std_per_motorcycle]\n",
    "df_stats_per_motorcycle.set_index('stat', inplace = True)\n",
    "df_stats_per_motorcycle.round(1)"
   ]
  },
  {
   "cell_type": "markdown",
   "metadata": {},
   "source": [
    "#### 3.6 Discussion : \n",
    "If we analyze the data at the motorcycle level and have one data point per motorcycle in the dataset, we will have no information concerning the condition ('Sign Top' or 'Sign Bottom') and we will not be able to see any correlation between honesty and the signing location."
   ]
  },
  {
   "cell_type": "markdown",
   "metadata": {},
   "source": [
    "### Task 4 — 18pts\n",
    "\n",
    "Now that we have compressed the kilometrage reported in each contract into a single number, it is time to analyze the \n",
    "million-dollar question: *does signing at the top decrease dishonesty?*\n",
    "\n",
    "1. Considering the updated contracts, calculate the mean and the standard deviation of the average kilometrage in a) \n",
    "policies where the signing was done at the bottom; and b) policies where the signing was done at the top. Additionally,\n",
    "plot the two kilometrage distributions.\n",
    "2. Determine whether the difference between the two scenarios mentioned in 1. is statistically significant.\n",
    "3. **Discuss:** Recall that the assignment of the different contracts (*sign at the top* vs. *sign at the bottom*) was \n",
    "done at random. According to the results in 1. and 2., does signing at the top decrease dishonesty? \n",
    "4.  **Discuss:** Given that no intervention was performed in the baseline contract (i.e., everyone signed at the \n",
    "bottom). Would you expect any differences between the average values between *sign at the top* vs. *sign at the bottom*\n",
    " conditions for the baseline contract? Note that this is related to columns `baseline_motorcycle[1-4]`.\n",
    "5. Calculate the mean and the standard deviation for the baseline contracts of the two groups (sign at the top vs. sign \n",
    "at the bottom). Additionally, plot the two kilometrage distributions.\n",
    "6. Determine whether the difference between the two scenarios mentioned in 5. is statistically significant.\n",
    "\n",
    "---\n",
    "\n",
    "**Hint:** Recall that the column `condition` encodes the experimental condition in which the customer fell when \n",
    "reporting the values shown in columns `update_motorcycle[1-4]`!\n",
    "\n",
    "**Hint:** To determine if the means of two sets of data are significantly different from each other, you may want to use\n",
    " the `ttest_ind` function implemented in the \n",
    " [scipy library](https://docs.scipy.org/doc/scipy/reference/generated/scipy.stats.ttest_ind.html). To learn more about \n",
    " Student's t-test, check out this [Wikipedia page](https://en.wikipedia.org/wiki/Student%27s_t-test)."
   ]
  },
  {
   "cell_type": "markdown",
   "metadata": {},
   "source": [
    "#### 4.1 Computation and visualisation of the mean and the standard deviation of the average kilometrage - updated contracts"
   ]
  },
  {
   "cell_type": "markdown",
   "metadata": {},
   "source": [
    "First, let's have a look at our modified dataframe, containing the three new columns `baseline_average`, `update_average` and `diff_average`."
   ]
  },
  {
   "cell_type": "code",
   "execution_count": 21,
   "metadata": {},
   "outputs": [
    {
     "data": {
      "text/html": [
       "<div>\n",
       "<style scoped>\n",
       "    .dataframe tbody tr th:only-of-type {\n",
       "        vertical-align: middle;\n",
       "    }\n",
       "\n",
       "    .dataframe tbody tr th {\n",
       "        vertical-align: top;\n",
       "    }\n",
       "\n",
       "    .dataframe thead th {\n",
       "        text-align: right;\n",
       "    }\n",
       "</style>\n",
       "<table border=\"1\" class=\"dataframe\">\n",
       "  <thead>\n",
       "    <tr style=\"text-align: right;\">\n",
       "      <th></th>\n",
       "      <th>condition</th>\n",
       "      <th>id</th>\n",
       "      <th>baseline_motorcycle1</th>\n",
       "      <th>update_motorcycle1</th>\n",
       "      <th>baseline_motorcycle2</th>\n",
       "      <th>update_motorcycle2</th>\n",
       "      <th>baseline_motorcycle3</th>\n",
       "      <th>update_motorcycle3</th>\n",
       "      <th>baseline_motorcycle4</th>\n",
       "      <th>update_motorcycle4</th>\n",
       "      <th>motorcycle_count</th>\n",
       "      <th>baseline_average</th>\n",
       "      <th>update_average</th>\n",
       "      <th>diff_average</th>\n",
       "    </tr>\n",
       "  </thead>\n",
       "  <tbody>\n",
       "    <tr>\n",
       "      <th>0</th>\n",
       "      <td>Sign Top</td>\n",
       "      <td>1</td>\n",
       "      <td>896</td>\n",
       "      <td>39198</td>\n",
       "      <td>NaN</td>\n",
       "      <td>NaN</td>\n",
       "      <td>NaN</td>\n",
       "      <td>NaN</td>\n",
       "      <td>NaN</td>\n",
       "      <td>NaN</td>\n",
       "      <td>1</td>\n",
       "      <td>896.0</td>\n",
       "      <td>39198.0</td>\n",
       "      <td>38302.0</td>\n",
       "    </tr>\n",
       "    <tr>\n",
       "      <th>1</th>\n",
       "      <td>Sign Bottom</td>\n",
       "      <td>2</td>\n",
       "      <td>21396</td>\n",
       "      <td>63511</td>\n",
       "      <td>32659.0</td>\n",
       "      <td>47605.0</td>\n",
       "      <td>NaN</td>\n",
       "      <td>NaN</td>\n",
       "      <td>NaN</td>\n",
       "      <td>NaN</td>\n",
       "      <td>2</td>\n",
       "      <td>27027.5</td>\n",
       "      <td>55558.0</td>\n",
       "      <td>28530.5</td>\n",
       "    </tr>\n",
       "    <tr>\n",
       "      <th>2</th>\n",
       "      <td>Sign Bottom</td>\n",
       "      <td>3</td>\n",
       "      <td>21340</td>\n",
       "      <td>37460</td>\n",
       "      <td>44998.0</td>\n",
       "      <td>59002.0</td>\n",
       "      <td>NaN</td>\n",
       "      <td>NaN</td>\n",
       "      <td>NaN</td>\n",
       "      <td>NaN</td>\n",
       "      <td>2</td>\n",
       "      <td>33169.0</td>\n",
       "      <td>48231.0</td>\n",
       "      <td>15062.0</td>\n",
       "    </tr>\n",
       "    <tr>\n",
       "      <th>3</th>\n",
       "      <td>Sign Bottom</td>\n",
       "      <td>4</td>\n",
       "      <td>23912</td>\n",
       "      <td>59136</td>\n",
       "      <td>NaN</td>\n",
       "      <td>NaN</td>\n",
       "      <td>NaN</td>\n",
       "      <td>NaN</td>\n",
       "      <td>NaN</td>\n",
       "      <td>NaN</td>\n",
       "      <td>1</td>\n",
       "      <td>23912.0</td>\n",
       "      <td>59136.0</td>\n",
       "      <td>35224.0</td>\n",
       "    </tr>\n",
       "    <tr>\n",
       "      <th>4</th>\n",
       "      <td>Sign Bottom</td>\n",
       "      <td>5</td>\n",
       "      <td>16862</td>\n",
       "      <td>59292</td>\n",
       "      <td>NaN</td>\n",
       "      <td>NaN</td>\n",
       "      <td>NaN</td>\n",
       "      <td>NaN</td>\n",
       "      <td>NaN</td>\n",
       "      <td>NaN</td>\n",
       "      <td>1</td>\n",
       "      <td>16862.0</td>\n",
       "      <td>59292.0</td>\n",
       "      <td>42430.0</td>\n",
       "    </tr>\n",
       "  </tbody>\n",
       "</table>\n",
       "</div>"
      ],
      "text/plain": [
       "     condition  id  baseline_motorcycle1  update_motorcycle1  \\\n",
       "0     Sign Top   1                   896               39198   \n",
       "1  Sign Bottom   2                 21396               63511   \n",
       "2  Sign Bottom   3                 21340               37460   \n",
       "3  Sign Bottom   4                 23912               59136   \n",
       "4  Sign Bottom   5                 16862               59292   \n",
       "\n",
       "   baseline_motorcycle2  update_motorcycle2  baseline_motorcycle3  \\\n",
       "0                   NaN                 NaN                   NaN   \n",
       "1               32659.0             47605.0                   NaN   \n",
       "2               44998.0             59002.0                   NaN   \n",
       "3                   NaN                 NaN                   NaN   \n",
       "4                   NaN                 NaN                   NaN   \n",
       "\n",
       "   update_motorcycle3  baseline_motorcycle4  update_motorcycle4  \\\n",
       "0                 NaN                   NaN                 NaN   \n",
       "1                 NaN                   NaN                 NaN   \n",
       "2                 NaN                   NaN                 NaN   \n",
       "3                 NaN                   NaN                 NaN   \n",
       "4                 NaN                   NaN                 NaN   \n",
       "\n",
       "   motorcycle_count  baseline_average  update_average  diff_average  \n",
       "0                 1             896.0         39198.0       38302.0  \n",
       "1                 2           27027.5         55558.0       28530.5  \n",
       "2                 2           33169.0         48231.0       15062.0  \n",
       "3                 1           23912.0         59136.0       35224.0  \n",
       "4                 1           16862.0         59292.0       42430.0  "
      ]
     },
     "execution_count": 21,
     "metadata": {},
     "output_type": "execute_result"
    }
   ],
   "source": [
    "cleaned_df.head()"
   ]
  },
  {
   "cell_type": "markdown",
   "metadata": {},
   "source": [
    "We then compare the means and stds of the average kilometrage of the updated contracts in the two signing conditions."
   ]
  },
  {
   "cell_type": "code",
   "execution_count": 22,
   "metadata": {},
   "outputs": [
    {
     "data": {
      "text/html": [
       "<div>\n",
       "<style scoped>\n",
       "    .dataframe tbody tr th:only-of-type {\n",
       "        vertical-align: middle;\n",
       "    }\n",
       "\n",
       "    .dataframe tbody tr th {\n",
       "        vertical-align: top;\n",
       "    }\n",
       "\n",
       "    .dataframe thead th {\n",
       "        text-align: right;\n",
       "    }\n",
       "</style>\n",
       "<table border=\"1\" class=\"dataframe\">\n",
       "  <thead>\n",
       "    <tr style=\"text-align: right;\">\n",
       "      <th></th>\n",
       "      <th>mean of update_average</th>\n",
       "      <th>std of update_average</th>\n",
       "    </tr>\n",
       "    <tr>\n",
       "      <th>condition</th>\n",
       "      <th></th>\n",
       "      <th></th>\n",
       "    </tr>\n",
       "  </thead>\n",
       "  <tbody>\n",
       "    <tr>\n",
       "      <th>Sign Bottom</th>\n",
       "      <td>98692.4</td>\n",
       "      <td>51928.2</td>\n",
       "    </tr>\n",
       "    <tr>\n",
       "      <th>Sign Top</th>\n",
       "      <td>85794.6</td>\n",
       "      <td>51704.3</td>\n",
       "    </tr>\n",
       "  </tbody>\n",
       "</table>\n",
       "</div>"
      ],
      "text/plain": [
       "             mean of update_average  std of update_average\n",
       "condition                                                 \n",
       "Sign Bottom                 98692.4                51928.2\n",
       "Sign Top                    85794.6                51704.3"
      ]
     },
     "execution_count": 22,
     "metadata": {},
     "output_type": "execute_result"
    }
   ],
   "source": [
    "# Computation of the mean and the standard deviation\n",
    "mean = cleaned_df.groupby(\"condition\")['update_average'].mean()\n",
    "std = cleaned_df.groupby(\"condition\")['update_average'].std()\n",
    "\n",
    "# Visualisation in a table\n",
    "df_updated = pd.DataFrame()\n",
    "df_updated['condition'] = ['Sign Bottom', 'Sign Top']\n",
    "df_updated['mean of update_average'] = mean['Sign Bottom'], mean['Sign Top']\n",
    "df_updated['std of update_average'] = std['Sign Bottom'], std['Sign Top']\n",
    "df_updated.set_index('condition', inplace = True)\n",
    "df_updated.round(1)"
   ]
  },
  {
   "cell_type": "markdown",
   "metadata": {},
   "source": [
    "Let's note that the mean of `update_average` is higher for the 'Sign Bottom' condition, being the opposite of what we expected. Now that we have computed the means and stds for the two conditions, let's visualise the two distributions in a boxplot."
   ]
  },
  {
   "cell_type": "code",
   "execution_count": 23,
   "metadata": {},
   "outputs": [
    {
     "data": {
      "image/png": "[encoded data removed]",
      "text/plain": [
       "<Figure size 432x288 with 1 Axes>"
      ]
     },
     "metadata": {
      "needs_background": "light"
     },
     "output_type": "display_data"
    }
   ],
   "source": [
    "ax = sns.boxplot(x=\"condition\", y=\"update_average\", data=cleaned_df.loc[cleaned_df['condition'].isin(['Sign Bottom','Sign Top'])], palette = [color_palette[5],color_palette[8]])\n",
    "ax.set_ylabel('Update contract average kilometrage (km)')\n",
    "ax.set_xlabel('Condition')\n",
    "ax.set_title('Distribution of the average kilometrage of the updated \\n contracts according to the signing condition', pad=20)\n",
    "plt.show()"
   ]
  },
  {
   "cell_type": "markdown",
   "metadata": {},
   "source": [
    "#### 4.2 Analysis of statistical differences - updated contracts"
   ]
  },
  {
   "cell_type": "markdown",
   "metadata": {},
   "source": [
    "To analyse whether there is a statistical difference for the updated contracts between the two conditions ('Sign Top' and 'Sign Bottom'), we calculate the T-test for the means of two independent samples, supposing that the assignment to the two conditions was performed randomly.\n",
    "\n",
    "- The test statistic: s = `update_average`<sub>Sign Top</sub> – `update_average`<sub>Sign Bottom</sub> \n",
    "- The null hypothesis H<sub>0</sub>: `update_average`<sub>Sign Top</sub> = `update_average`<sub>Sign Bottom</sub> i.e.`update_average` values are the same in both conditions\n",
    "- We reject H<sub>0</sub> if Pr(S > s | H<sub>0</sub>) < α\n",
    "\n",
    "We set our significance level α at 0.05 (a suitable “small” probability), being high enough to have a low false-positive rate and therefore a high statistical power."
   ]
  },
  {
   "cell_type": "code",
   "execution_count": 24,
   "metadata": {},
   "outputs": [
    {
     "data": {
      "text/plain": [
       "Ttest_indResult(statistic=14.452368101354606, pvalue=5.435352130291242e-47)"
      ]
     },
     "execution_count": 24,
     "metadata": {},
     "output_type": "execute_result"
    }
   ],
   "source": [
    "# T-test:\n",
    "stats.ttest_ind(cleaned_df.loc[cleaned_df['condition'] == 'Sign Bottom']['update_average'], cleaned_df.loc[cleaned_df['condition'] == 'Sign Top']['update_average'])"
   ]
  },
  {
   "cell_type": "markdown",
   "metadata": {},
   "source": [
    "This test evaluates, if the people in the 2 conditions behaved the same way, how likely would we be to find such a distribution of `update_average` values. This test results in a p value of 5.44 * 10<sup>-47</sup>, being inferior to 0.05. As a result, we reject the null hypothesis that `update_average` values are the same in both signing conditions ('Sign Top' and 'Sign Bottom')."
   ]
  },
  {
   "cell_type": "markdown",
   "metadata": {},
   "source": [
    "#### 4.3 Discussion: does signing at the top decrease dishonesty?"
   ]
  },
  {
   "cell_type": "markdown",
   "metadata": {},
   "source": [
    "We find a significant difference between the two signing conditions. We have statistical evidence under α = 0.05 that the means of the odometer kilometrage reported by the customers for the updated contract in the two signing conditions (`update_average`) are different.\n",
    "\n",
    "In 4.1, we saw that the mean of `update_average` is higher for the 'Sign Bottom' condition. As a result, we could speculate that signing at the top does not decrease dishonesty, being the opposite of what was predicted."
   ]
  },
  {
   "cell_type": "markdown",
   "metadata": {},
   "source": [
    "#### 4.4 Discussion: Would you expect any differences between the average values between sign at the top vs. sign at the bottom conditions for the baseline contract?"
   ]
  },
  {
   "cell_type": "markdown",
   "metadata": {},
   "source": [
    "Each customer started by reporting kilometrage values for each of his/her motorcycle (`baseline_average`). After that, each of them was assigned to either the 'Sign Top' or the 'Sign Bottom' condition, and again had to report kilometrage values for each of his/her motorcycle values(`update_average`). As the insurance company randomized the forms (i.e., each customer received exactly one form, each with probability 50%), the participants were assigned randomly to a signing condition. As a result, we expect no difference of values of `baseline_average` in the participants that were lated assigned to the 'Sign Top' condition compared to those lately assigned to the 'Sign Bottom' condition."
   ]
  },
  {
   "cell_type": "markdown",
   "metadata": {},
   "source": [
    "#### 4.5 Computation  and visualisation of the mean and the standard deviation of the average kilometrage - baseline contracts"
   ]
  },
  {
   "cell_type": "markdown",
   "metadata": {},
   "source": [
    "To check this, we start by computing the mean and stds of the average kilometrage of the baseline contracts for the two conditions."
   ]
  },
  {
   "cell_type": "code",
   "execution_count": 25,
   "metadata": {},
   "outputs": [
    {
     "data": {
      "text/html": [
       "<div>\n",
       "<style scoped>\n",
       "    .dataframe tbody tr th:only-of-type {\n",
       "        vertical-align: middle;\n",
       "    }\n",
       "\n",
       "    .dataframe tbody tr th {\n",
       "        vertical-align: top;\n",
       "    }\n",
       "\n",
       "    .dataframe thead th {\n",
       "        text-align: right;\n",
       "    }\n",
       "</style>\n",
       "<table border=\"1\" class=\"dataframe\">\n",
       "  <thead>\n",
       "    <tr style=\"text-align: right;\">\n",
       "      <th></th>\n",
       "      <th>mean of baseline_average</th>\n",
       "      <th>std of baseline_average</th>\n",
       "    </tr>\n",
       "    <tr>\n",
       "      <th>condition</th>\n",
       "      <th></th>\n",
       "      <th></th>\n",
       "    </tr>\n",
       "  </thead>\n",
       "  <tbody>\n",
       "    <tr>\n",
       "      <th>Sign Bottom</th>\n",
       "      <td>75020.7</td>\n",
       "      <td>50256.6</td>\n",
       "    </tr>\n",
       "    <tr>\n",
       "      <th>Sign Top</th>\n",
       "      <td>59696.2</td>\n",
       "      <td>49956.3</td>\n",
       "    </tr>\n",
       "  </tbody>\n",
       "</table>\n",
       "</div>"
      ],
      "text/plain": [
       "             mean of baseline_average  std of baseline_average\n",
       "condition                                                     \n",
       "Sign Bottom                   75020.7                  50256.6\n",
       "Sign Top                      59696.2                  49956.3"
      ]
     },
     "execution_count": 25,
     "metadata": {},
     "output_type": "execute_result"
    }
   ],
   "source": [
    "# Computation of the mean and the standard deviation\n",
    "mean = cleaned_df.groupby(\"condition\")['baseline_average'].mean()\n",
    "std = cleaned_df.groupby(\"condition\")['baseline_average'].std()\n",
    "\n",
    "# Visualisation in a table\n",
    "df_baseline = pd.DataFrame()\n",
    "df_baseline['condition'] = ['Sign Bottom', 'Sign Top']\n",
    "df_baseline['mean of baseline_average'] = mean['Sign Bottom'], mean['Sign Top']\n",
    "df_baseline['std of baseline_average'] = std['Sign Bottom'], std['Sign Top']\n",
    "df_baseline.set_index('condition', inplace = True)\n",
    "df_baseline.round(1)"
   ]
  },
  {
   "cell_type": "markdown",
   "metadata": {},
   "source": [
    "Again, we see that the mean of `baseline_average` is higher for the 'Sign Bottom' condition, being the opposite of what we expected. Let's visualise the two distributions in a boxplot."
   ]
  },
  {
   "cell_type": "code",
   "execution_count": 26,
   "metadata": {},
   "outputs": [
    {
     "data": {
      "image/png": "[encoded data removed]",
      "text/plain": [
       "<Figure size 432x288 with 1 Axes>"
      ]
     },
     "metadata": {
      "needs_background": "light"
     },
     "output_type": "display_data"
    }
   ],
   "source": [
    "ax = sns.boxplot(x=\"condition\", y=\"baseline_average\", data=cleaned_df.loc[cleaned_df['condition'].isin(['Sign Bottom','Sign Top'])], palette = [color_palette[5],color_palette[8]])\n",
    "ax.set_ylabel('Baseline contract average kilometrage (km)')\n",
    "ax.set_xlabel('Condition')\n",
    "ax.set_title('Distribution of the average kilometrage of the baseline \\n contracts according to the signing condition', pad=20)\n",
    "plt.show()"
   ]
  },
  {
   "cell_type": "markdown",
   "metadata": {},
   "source": [
    "#### 4.6 Analysis of statistical differences - baseline contracts"
   ]
  },
  {
   "cell_type": "markdown",
   "metadata": {},
   "source": [
    "Again, to see if there is a statistical difference between the two signing conditions, we perform a T-test, supposing that the assignment to the two conditions was performed randomly.\n",
    "\n",
    "- The test statistic: s = `baseline_average`<sub>Sign Top</sub> – `baseline_average`<sub>Sign Bottom</sub> \n",
    "- The null hypothesis H<sub>0</sub>: `baseline_average`<sub>Sign Top</sub> = `baseline_average`<sub>Sign Bottom</sub> i.e.`baseline_average` values are the same in both conditions\n",
    "- We reject H<sub>0</sub> if Pr(S > s | H<sub>0</sub>) < α\n",
    "\n",
    "Similarly, we set our significance level α at 0.05."
   ]
  },
  {
   "cell_type": "code",
   "execution_count": 27,
   "metadata": {},
   "outputs": [
    {
     "data": {
      "text/plain": [
       "Ttest_indResult(statistic=17.75773299430071, pvalue=9.333114026345824e-70)"
      ]
     },
     "execution_count": 27,
     "metadata": {},
     "output_type": "execute_result"
    }
   ],
   "source": [
    "stats.ttest_ind(cleaned_df.loc[cleaned_df['condition'] == 'Sign Bottom']['baseline_average'], cleaned_df.loc[cleaned_df['condition'] == 'Sign Top']['baseline_average'])"
   ]
  },
  {
   "cell_type": "markdown",
   "metadata": {},
   "source": [
    "Finally, we see that our p value is equal to 9.33 * 10<sup>-70</sup>, being hugely small (far below 0.05). This test evaluated, if the customers in the 2 conditions behaved the same way, how likely would we be to find such a distribution of `baseline_average` values. As a result, we reject the null hypothesis that `baseline_average` values are the same in both conditions, concluding that there is a significant difference between the 'Sign Top' and 'Sign Bottom' conditions. This is very intriguing as this supposes that the two groups were not made randomly... \n",
    "\n",
    "As we saw that the mean of `baseline_average` is higher for the 'Sign Bottom' condition (4.5), this leads us to believe that perhaps the people who were assigned to 'Sign Bottom' where the one that had the more kilometer in the baseline contract, and could be the most honest."
   ]
  },
  {
   "cell_type": "markdown",
   "metadata": {},
   "source": [
    "## Interlude: Something is dodgy about this data...\n",
    "\n",
    "---\n",
    "\n",
    "Noticing the oddities in the data, you send an email to your contact at the insurance company asking about the integrity\n",
    " of the data. Their reply seems like something out of a detective movie:\n",
    "\n",
    "> Dear researcher, I believe that this data is not to be trusted. I can't talk right now but will send further hints \n",
    ">throughout the week.\n",
    "\n",
    "As a researcher, you know that [data integrity](https://en.wikipedia.org/wiki/Data_integrity) is a big deal, and decide\n",
    " to investigate."
   ]
  },
  {
   "cell_type": "markdown",
   "metadata": {},
   "source": [
    "### Task 5 — 9pts\n",
    "\n",
    "The first hint you receive is: *there is something off about the kilometrage values in the data.*\n",
    "\n",
    "1. For the baseline contract and for the updated contract, plot the distribution of odometer kilometrage reported for \n",
    "the first motorcycle insured in each policy. \n",
    "2. For the first motorcycle insured by the company in each policy, plot the difference between the number of kilometers\n",
    " reported in the baseline and in the updated contract.\n",
    "3. **Discuss:** why is this data unlikely to have originated from real odometer readings?\n",
    "\n",
    "---"
   ]
  },
  {
   "cell_type": "markdown",
   "metadata": {
    "tags": []
   },
   "source": [
    "#### 5.1 Distribution of odometer kilometrage reported for the 1st motorcycle insured in each policy"
   ]
  },
  {
   "cell_type": "markdown",
   "metadata": {},
   "source": [
    "We start by plotting the distribution of odometer kilometrage reported for the first motorcycle insured in each policy for the baseline and the updated contracts."
   ]
  },
  {
   "cell_type": "code",
   "execution_count": 28,
   "metadata": {},
   "outputs": [
    {
     "data": {
      "image/png": "[encoded data removed]",
      "text/plain": [
       "<Figure size 720x360 with 1 Axes>"
      ]
     },
     "metadata": {
      "needs_background": "light"
     },
     "output_type": "display_data"
    }
   ],
   "source": [
    "plt.figure(figsize=(10,5))\n",
    "sns.histplot(cleaned_df.baseline_motorcycle1, label = 'Baseline', color = color_palette[19])\n",
    "sns.histplot(cleaned_df.update_motorcycle1, label='Updated', color = color_palette[11])\n",
    "plt.legend()\n",
    "plt.xlabel('Odometer kilometrage reported for the 1st motorcycle (km)')\n",
    "plt.ylabel('Count')\n",
    "plt.title('Odometer kilometrage reported for the 1st motorcycle in each policy', pad=20)\n",
    "plt.tight_layout()\n",
    "plt.show()"
   ]
  },
  {
   "cell_type": "markdown",
   "metadata": {
    "tags": []
   },
   "source": [
    "#### 5.2 Distribution of the difference of the odometer kilometrage for the first motorcycle insured in each policy"
   ]
  },
  {
   "cell_type": "markdown",
   "metadata": {},
   "source": [
    "Then, we plot the distribution of the odometer kilometrage reported for the first motorcycle insured in the baseline contract, the updated contract and the difference between those two values."
   ]
  },
  {
   "cell_type": "code",
   "execution_count": 29,
   "metadata": {},
   "outputs": [
    {
     "data": {
      "image/png": "[encoded data removed]",
      "text/plain": [
       "<Figure size 1440x288 with 3 Axes>"
      ]
     },
     "metadata": {
      "needs_background": "light"
     },
     "output_type": "display_data"
    }
   ],
   "source": [
    "fig = plt.figure(figsize=(20,4))\n",
    "ax1 = plt.subplot(1, 3, 1)\n",
    "plt.hist(cleaned_df.baseline_motorcycle1, bins=1000, color = color_palette[19])\n",
    "plt.title('Number of km reported in the baseline - 1st motorcycle', pad=20)\n",
    "plt.xlabel('Odometer kilometrage (km)')\n",
    "plt.ylabel('Count')\n",
    "plt.ylim([0,900])\n",
    "ax2 = plt.subplot(1, 3, 2)\n",
    "plt.hist(cleaned_df.update_motorcycle1, bins=1000, color = color_palette[11])\n",
    "plt.title('Number of km reported in the updated contract - 1st motorcycle', pad=20)\n",
    "plt.xlabel('Odometer kilometrage (km)')\n",
    "plt.ylabel('Count')\n",
    "plt.ylim([0,900])\n",
    "plt.subplot(1, 3, 3)\n",
    "plt.hist(cleaned_df.update_motorcycle1 - cleaned_df.baseline_motorcycle1, color= color_palette[15], bins=1000)\n",
    "plt.title('The difference between the baseline and \\n the updated contracts - 1st motorcycle', pad=20)\n",
    "plt.xlabel('Odometer kilometrage (km)')\n",
    "plt.ylabel('Count')\n",
    "plt.show()"
   ]
  },
  {
   "cell_type": "markdown",
   "metadata": {
    "tags": []
   },
   "source": [
    "#### 5.3 Discuss."
   ]
  },
  {
   "cell_type": "markdown",
   "metadata": {},
   "source": [
    "We can observe a uniform distribution for the difference between updated and baseline odometer. As this difference corresponds to a natural random event we would expect a normal shape distribution with a majority at the center and low tails. This is definitely not what we obtain here where the extremes are at the same height as the center. As a result, it is unlikely that this data originated from real odometers."
   ]
  },
  {
   "cell_type": "markdown",
   "metadata": {},
   "source": [
    "### Task 6 — 15pts\n",
    "\n",
    "The second hint you receive is: *there is something off with the last digits of the reported kilometrages.*\n",
    "\n",
    "1. Considering the baseline kilometrage of the first motorcycle in each contract (`baseline_motorcycle1`), plot the \n",
    "distribution of occurrences of the last three digits. Repeat the same for the updated kilometrage of the first \n",
    "motorcycle in each contract (`update_motorcycle1`).\n",
    "\n",
    "3. **Discuss:** What are the differences between the two distributions?\n",
    "\n",
    "4. **Discuss:** Hypothesize a **plausible** cause for the patterns observed in the digit distribution of the baseline\n",
    " kilometrage of the first motorcycle.\n",
    "    \n",
    "---\n",
    "\n",
    "**Hint:** The last two digits of the number 12314 are 314. Note that you should consider the three last digits together,\n",
    " not separately!"
   ]
  },
  {
   "cell_type": "markdown",
   "metadata": {},
   "source": [
    "#### 6.1 Distribution of occurrences of the last three digits"
   ]
  },
  {
   "cell_type": "markdown",
   "metadata": {},
   "source": [
    "We plot the distribution of occurrences of the last three digits of the reported odometer kilometrages in the baseline and the updated contracts."
   ]
  },
  {
   "cell_type": "code",
   "execution_count": 30,
   "metadata": {},
   "outputs": [
    {
     "data": {
      "image/png": "[encoded data removed]",
      "text/plain": [
       "<Figure size 1080x288 with 2 Axes>"
      ]
     },
     "metadata": {
      "needs_background": "light"
     },
     "output_type": "display_data"
    }
   ],
   "source": [
    "plt.figure(figsize=(15,4))\n",
    "plt.subplot(1,2,1)\n",
    "sns.histplot(cleaned_df.baseline_motorcycle1 % 1000, kde=True,label = 'Baseline', bins=30, color = color_palette[19])\n",
    "plt.xlabel('Values taken by the last three digits')\n",
    "plt.title('Distribution of occurrences of the last three digits - 1st motorcycle', pad=20)\n",
    "plt.legend()\n",
    "plt.ylim([0,2500])\n",
    "plt.subplot(1,2,2)\n",
    "sns.histplot(cleaned_df.update_motorcycle1 % 1000, kde=True, label='Updated',bins=30, color= color_palette[11])\n",
    "plt.legend()\n",
    "plt.xlabel('Values taken by the last three digits')\n",
    "plt.title('Distribution of occurrences of the last three digits - 1st motorcycle', pad=20)\n",
    "plt.ylim([0,2500])\n",
    "plt.show()"
   ]
  },
  {
   "cell_type": "markdown",
   "metadata": {},
   "source": [
    "#### 6.2 Discussion"
   ]
  },
  {
   "cell_type": "markdown",
   "metadata": {},
   "source": [
    "The difference between the two distributions is noticeable on the left side side of our graph. The distribution of the last 3 digits of the baseline has a higher frequency in the small range of [000,050] while the distribution of the updated contract is a stagnant one."
   ]
  },
  {
   "cell_type": "markdown",
   "metadata": {},
   "source": [
    "#### 6.3 Discussion"
   ]
  },
  {
   "cell_type": "markdown",
   "metadata": {},
   "source": [
    "In the baseline form, a possible cause of this difference of distribution would be that people cheat \"a little bit\" by lowering their last 3 digit odometer count to values near [000,050]. There may also be new customers that therefore have no kilometrage in their baseline (first) contract."
   ]
  },
  {
   "cell_type": "markdown",
   "metadata": {},
   "source": [
    "### Task 7 — 15pts\n",
    "\n",
    "The third (and last) hint you receive is: *there is something wrong with the fonts.*\n",
    "\n",
    "Your anonymous source explains that the `.tsv` file sent to you was derived from an Excel sheet. There, some of the rows\n",
    " were written in the font *Helvetica* while others were written in the font *Arial*. Your anonymous source sends you a \n",
    " file with the relation between policy id and the font used in the respective row (`fonts.csv`), and tells you that the\n",
    "  rows with *Helvetica* font were fabricated.\n",
    "\n",
    "1. Load `fonts.csv` and merge the `font` column into your pandas dataframe.\n",
    "2. Considering only the kilometrage of the first motorcycle in each policy, calculate the number of rows with the Arial \n",
    "and the Helvetica font, respectively. Also, plot the distribution of baseline kilometers for rows with the Arial font \n",
    "and for rows with the Helvetica font.\n",
    "3. Similar to what was done in task 6. Plot the distribution of the last three digits for 1) the first motorcycle in \n",
    "each baseline contract (`baseline_motorcycle1`); and 2) the first motorcycle in each updated contract\n",
    " (`update_motorcycle1`).\n",
    "4. **Discuss:** Why do these analyses provide evidence that the rows with Helvetica font were fabricated?\n",
    "\n",
    "---"
   ]
  },
  {
   "cell_type": "markdown",
   "metadata": {},
   "source": [
    "#### 7.1 Loading the fonts data and adding it to our dataframe"
   ]
  },
  {
   "cell_type": "markdown",
   "metadata": {},
   "source": [
    "Let's start by loading and examining fonts data, then add it to our dataframe."
   ]
  },
  {
   "cell_type": "code",
   "execution_count": 31,
   "metadata": {},
   "outputs": [
    {
     "data": {
      "text/html": [
       "<div>\n",
       "<style scoped>\n",
       "    .dataframe tbody tr th:only-of-type {\n",
       "        vertical-align: middle;\n",
       "    }\n",
       "\n",
       "    .dataframe tbody tr th {\n",
       "        vertical-align: top;\n",
       "    }\n",
       "\n",
       "    .dataframe thead th {\n",
       "        text-align: right;\n",
       "    }\n",
       "</style>\n",
       "<table border=\"1\" class=\"dataframe\">\n",
       "  <thead>\n",
       "    <tr style=\"text-align: right;\">\n",
       "      <th></th>\n",
       "      <th>id</th>\n",
       "      <th>font</th>\n",
       "    </tr>\n",
       "  </thead>\n",
       "  <tbody>\n",
       "    <tr>\n",
       "      <th>0</th>\n",
       "      <td>1</td>\n",
       "      <td>Helvetica</td>\n",
       "    </tr>\n",
       "    <tr>\n",
       "      <th>1</th>\n",
       "      <td>2</td>\n",
       "      <td>Helvetica</td>\n",
       "    </tr>\n",
       "    <tr>\n",
       "      <th>2</th>\n",
       "      <td>3</td>\n",
       "      <td>Helvetica</td>\n",
       "    </tr>\n",
       "    <tr>\n",
       "      <th>3</th>\n",
       "      <td>4</td>\n",
       "      <td>Helvetica</td>\n",
       "    </tr>\n",
       "    <tr>\n",
       "      <th>4</th>\n",
       "      <td>5</td>\n",
       "      <td>Arial</td>\n",
       "    </tr>\n",
       "  </tbody>\n",
       "</table>\n",
       "</div>"
      ],
      "text/plain": [
       "   id       font\n",
       "0   1  Helvetica\n",
       "1   2  Helvetica\n",
       "2   3  Helvetica\n",
       "3   4  Helvetica\n",
       "4   5      Arial"
      ]
     },
     "execution_count": 31,
     "metadata": {},
     "output_type": "execute_result"
    }
   ],
   "source": [
    "FONTS_FILE = 'fonts.csv'\n",
    "fonts_df = pd.read_csv(PATH+FONTS_FILE)\n",
    "fonts_df.head()"
   ]
  },
  {
   "cell_type": "code",
   "execution_count": 32,
   "metadata": {},
   "outputs": [],
   "source": [
    "final_df = cleaned_df.merge(fonts_df, on=\"id\")"
   ]
  },
  {
   "cell_type": "markdown",
   "metadata": {},
   "source": [
    "We then have a look a our new dataframe containing the fonts in which the rows were written."
   ]
  },
  {
   "cell_type": "code",
   "execution_count": 33,
   "metadata": {},
   "outputs": [
    {
     "data": {
      "text/html": [
       "<div>\n",
       "<style scoped>\n",
       "    .dataframe tbody tr th:only-of-type {\n",
       "        vertical-align: middle;\n",
       "    }\n",
       "\n",
       "    .dataframe tbody tr th {\n",
       "        vertical-align: top;\n",
       "    }\n",
       "\n",
       "    .dataframe thead th {\n",
       "        text-align: right;\n",
       "    }\n",
       "</style>\n",
       "<table border=\"1\" class=\"dataframe\">\n",
       "  <thead>\n",
       "    <tr style=\"text-align: right;\">\n",
       "      <th></th>\n",
       "      <th>condition</th>\n",
       "      <th>id</th>\n",
       "      <th>baseline_motorcycle1</th>\n",
       "      <th>update_motorcycle1</th>\n",
       "      <th>baseline_motorcycle2</th>\n",
       "      <th>update_motorcycle2</th>\n",
       "      <th>baseline_motorcycle3</th>\n",
       "      <th>update_motorcycle3</th>\n",
       "      <th>baseline_motorcycle4</th>\n",
       "      <th>update_motorcycle4</th>\n",
       "      <th>motorcycle_count</th>\n",
       "      <th>baseline_average</th>\n",
       "      <th>update_average</th>\n",
       "      <th>diff_average</th>\n",
       "      <th>font</th>\n",
       "    </tr>\n",
       "  </thead>\n",
       "  <tbody>\n",
       "    <tr>\n",
       "      <th>0</th>\n",
       "      <td>Sign Top</td>\n",
       "      <td>1</td>\n",
       "      <td>896</td>\n",
       "      <td>39198</td>\n",
       "      <td>NaN</td>\n",
       "      <td>NaN</td>\n",
       "      <td>NaN</td>\n",
       "      <td>NaN</td>\n",
       "      <td>NaN</td>\n",
       "      <td>NaN</td>\n",
       "      <td>1</td>\n",
       "      <td>896.0</td>\n",
       "      <td>39198.0</td>\n",
       "      <td>38302.0</td>\n",
       "      <td>Helvetica</td>\n",
       "    </tr>\n",
       "    <tr>\n",
       "      <th>1</th>\n",
       "      <td>Sign Bottom</td>\n",
       "      <td>2</td>\n",
       "      <td>21396</td>\n",
       "      <td>63511</td>\n",
       "      <td>32659.0</td>\n",
       "      <td>47605.0</td>\n",
       "      <td>NaN</td>\n",
       "      <td>NaN</td>\n",
       "      <td>NaN</td>\n",
       "      <td>NaN</td>\n",
       "      <td>2</td>\n",
       "      <td>27027.5</td>\n",
       "      <td>55558.0</td>\n",
       "      <td>28530.5</td>\n",
       "      <td>Helvetica</td>\n",
       "    </tr>\n",
       "    <tr>\n",
       "      <th>2</th>\n",
       "      <td>Sign Bottom</td>\n",
       "      <td>3</td>\n",
       "      <td>21340</td>\n",
       "      <td>37460</td>\n",
       "      <td>44998.0</td>\n",
       "      <td>59002.0</td>\n",
       "      <td>NaN</td>\n",
       "      <td>NaN</td>\n",
       "      <td>NaN</td>\n",
       "      <td>NaN</td>\n",
       "      <td>2</td>\n",
       "      <td>33169.0</td>\n",
       "      <td>48231.0</td>\n",
       "      <td>15062.0</td>\n",
       "      <td>Helvetica</td>\n",
       "    </tr>\n",
       "    <tr>\n",
       "      <th>3</th>\n",
       "      <td>Sign Bottom</td>\n",
       "      <td>4</td>\n",
       "      <td>23912</td>\n",
       "      <td>59136</td>\n",
       "      <td>NaN</td>\n",
       "      <td>NaN</td>\n",
       "      <td>NaN</td>\n",
       "      <td>NaN</td>\n",
       "      <td>NaN</td>\n",
       "      <td>NaN</td>\n",
       "      <td>1</td>\n",
       "      <td>23912.0</td>\n",
       "      <td>59136.0</td>\n",
       "      <td>35224.0</td>\n",
       "      <td>Helvetica</td>\n",
       "    </tr>\n",
       "    <tr>\n",
       "      <th>4</th>\n",
       "      <td>Sign Bottom</td>\n",
       "      <td>5</td>\n",
       "      <td>16862</td>\n",
       "      <td>59292</td>\n",
       "      <td>NaN</td>\n",
       "      <td>NaN</td>\n",
       "      <td>NaN</td>\n",
       "      <td>NaN</td>\n",
       "      <td>NaN</td>\n",
       "      <td>NaN</td>\n",
       "      <td>1</td>\n",
       "      <td>16862.0</td>\n",
       "      <td>59292.0</td>\n",
       "      <td>42430.0</td>\n",
       "      <td>Arial</td>\n",
       "    </tr>\n",
       "  </tbody>\n",
       "</table>\n",
       "</div>"
      ],
      "text/plain": [
       "     condition  id  baseline_motorcycle1  update_motorcycle1  \\\n",
       "0     Sign Top   1                   896               39198   \n",
       "1  Sign Bottom   2                 21396               63511   \n",
       "2  Sign Bottom   3                 21340               37460   \n",
       "3  Sign Bottom   4                 23912               59136   \n",
       "4  Sign Bottom   5                 16862               59292   \n",
       "\n",
       "   baseline_motorcycle2  update_motorcycle2  baseline_motorcycle3  \\\n",
       "0                   NaN                 NaN                   NaN   \n",
       "1               32659.0             47605.0                   NaN   \n",
       "2               44998.0             59002.0                   NaN   \n",
       "3                   NaN                 NaN                   NaN   \n",
       "4                   NaN                 NaN                   NaN   \n",
       "\n",
       "   update_motorcycle3  baseline_motorcycle4  update_motorcycle4  \\\n",
       "0                 NaN                   NaN                 NaN   \n",
       "1                 NaN                   NaN                 NaN   \n",
       "2                 NaN                   NaN                 NaN   \n",
       "3                 NaN                   NaN                 NaN   \n",
       "4                 NaN                   NaN                 NaN   \n",
       "\n",
       "   motorcycle_count  baseline_average  update_average  diff_average       font  \n",
       "0                 1             896.0         39198.0       38302.0  Helvetica  \n",
       "1                 2           27027.5         55558.0       28530.5  Helvetica  \n",
       "2                 2           33169.0         48231.0       15062.0  Helvetica  \n",
       "3                 1           23912.0         59136.0       35224.0  Helvetica  \n",
       "4                 1           16862.0         59292.0       42430.0      Arial  "
      ]
     },
     "execution_count": 33,
     "metadata": {},
     "output_type": "execute_result"
    }
   ],
   "source": [
    "final_df.head()"
   ]
  },
  {
   "cell_type": "markdown",
   "metadata": {},
   "source": [
    "Our dataframe now contains our motorcycles' data as well as the fonts in which they were written."
   ]
  },
  {
   "cell_type": "markdown",
   "metadata": {},
   "source": [
    "#### 7.2 Computation of the number of rows with the Arial and the Helvetica font and visualisation of their baseline kilometers -  first motorcycle in each policy"
   ]
  },
  {
   "cell_type": "markdown",
   "metadata": {},
   "source": [
    "Let's visualise the distribution of the fonts in our dataframe."
   ]
  },
  {
   "cell_type": "code",
   "execution_count": 34,
   "metadata": {},
   "outputs": [],
   "source": [
    "fonts_baseline = final_df.groupby(\"font\")['baseline_motorcycle1'].agg(['count'])\n",
    "fonts_updated = final_df.groupby(\"font\")['update_motorcycle1'].agg(['count'])"
   ]
  },
  {
   "cell_type": "code",
   "execution_count": 35,
   "metadata": {},
   "outputs": [
    {
     "data": {
      "text/html": [
       "<div>\n",
       "<style scoped>\n",
       "    .dataframe tbody tr th:only-of-type {\n",
       "        vertical-align: middle;\n",
       "    }\n",
       "\n",
       "    .dataframe tbody tr th {\n",
       "        vertical-align: top;\n",
       "    }\n",
       "\n",
       "    .dataframe thead th {\n",
       "        text-align: right;\n",
       "    }\n",
       "</style>\n",
       "<table border=\"1\" class=\"dataframe\">\n",
       "  <thead>\n",
       "    <tr style=\"text-align: right;\">\n",
       "      <th></th>\n",
       "      <th>count</th>\n",
       "    </tr>\n",
       "    <tr>\n",
       "      <th>font</th>\n",
       "      <th></th>\n",
       "    </tr>\n",
       "  </thead>\n",
       "  <tbody>\n",
       "    <tr>\n",
       "      <th>Arial</th>\n",
       "      <td>6744</td>\n",
       "    </tr>\n",
       "    <tr>\n",
       "      <th>Helvetica</th>\n",
       "      <td>6742</td>\n",
       "    </tr>\n",
       "  </tbody>\n",
       "</table>\n",
       "</div>"
      ],
      "text/plain": [
       "           count\n",
       "font            \n",
       "Arial       6744\n",
       "Helvetica   6742"
      ]
     },
     "execution_count": 35,
     "metadata": {},
     "output_type": "execute_result"
    }
   ],
   "source": [
    "# Visualisation in a table\n",
    "fonts_baseline.sort_values(\"count\", ascending=False).head()"
   ]
  },
  {
   "cell_type": "code",
   "execution_count": 36,
   "metadata": {},
   "outputs": [
    {
     "data": {
      "text/html": [
       "<div>\n",
       "<style scoped>\n",
       "    .dataframe tbody tr th:only-of-type {\n",
       "        vertical-align: middle;\n",
       "    }\n",
       "\n",
       "    .dataframe tbody tr th {\n",
       "        vertical-align: top;\n",
       "    }\n",
       "\n",
       "    .dataframe thead th {\n",
       "        text-align: right;\n",
       "    }\n",
       "</style>\n",
       "<table border=\"1\" class=\"dataframe\">\n",
       "  <thead>\n",
       "    <tr style=\"text-align: right;\">\n",
       "      <th></th>\n",
       "      <th>count</th>\n",
       "    </tr>\n",
       "    <tr>\n",
       "      <th>font</th>\n",
       "      <th></th>\n",
       "    </tr>\n",
       "  </thead>\n",
       "  <tbody>\n",
       "    <tr>\n",
       "      <th>Arial</th>\n",
       "      <td>6744</td>\n",
       "    </tr>\n",
       "    <tr>\n",
       "      <th>Helvetica</th>\n",
       "      <td>6742</td>\n",
       "    </tr>\n",
       "  </tbody>\n",
       "</table>\n",
       "</div>"
      ],
      "text/plain": [
       "           count\n",
       "font            \n",
       "Arial       6744\n",
       "Helvetica   6742"
      ]
     },
     "execution_count": 36,
     "metadata": {},
     "output_type": "execute_result"
    }
   ],
   "source": [
    "# Visualisation in a table\n",
    "fonts_updated.sort_values(\"count\", ascending=False).head()"
   ]
  },
  {
   "cell_type": "markdown",
   "metadata": {},
   "source": [
    "Approximately the same numbers of rows were written in Arial (6744) and in Helvetica (6742), both in the baseline and in the updated contract. Let's visualise the Arial *versus* Helvetica rows of the baseline contract in a boxplot."
   ]
  },
  {
   "cell_type": "code",
   "execution_count": 37,
   "metadata": {},
   "outputs": [
    {
     "data": {
      "image/png": "[encoded data removed]",
      "text/plain": [
       "<Figure size 432x288 with 1 Axes>"
      ]
     },
     "metadata": {
      "needs_background": "light"
     },
     "output_type": "display_data"
    }
   ],
   "source": [
    "ax = sns.boxplot(x=\"font\", y=\"baseline_average\", data=final_df.loc[final_df['font'].isin(['Arial','Helvetica'])], palette = [color_palette[13],color_palette[16]])\n",
    "ax.set_ylabel('Baseline contract average kilometrage (km)')\n",
    "ax.set_xlabel('Font')\n",
    "ax.set_title('Distribution of the average kilometrage of the \\n baseline contracts according to the font', pad=20)\n",
    "plt.show()"
   ]
  },
  {
   "cell_type": "markdown",
   "metadata": {},
   "source": [
    "#### 7.3 Plot of the distribution of the last three digits for 1) the first motorcycle in each baseline contract (baseline_motorcycle1); and 2) the first motorcycle in each updated contract (update_motorcycle1)."
   ]
  },
  {
   "cell_type": "markdown",
   "metadata": {},
   "source": [
    "We compare the occurrence of the last three digits between Helvetica and Arial, for both updated and baseline."
   ]
  },
  {
   "cell_type": "code",
   "execution_count": 38,
   "metadata": {},
   "outputs": [
    {
     "data": {
      "image/png": "[encoded data removed]",
      "text/plain": [
       "<Figure size 2160x504 with 2 Axes>"
      ]
     },
     "metadata": {
      "needs_background": "light"
     },
     "output_type": "display_data"
    }
   ],
   "source": [
    "fig = plt.figure(figsize=(30,7))\n",
    "\n",
    "ax1 = fig.add_subplot(141)\n",
    "sns.histplot(final_df[final_df['font'] == 'Helvetica'].baseline_motorcycle1 % 1000, kde=True, label = 'Baseline', bins=20, color = color_palette[19])\n",
    "sns.histplot(final_df[final_df['font'] == 'Helvetica'].update_motorcycle1 % 1000, kde=True, label='Updated', bins=20, color= color_palette[11])\n",
    "plt.legend()\n",
    "plt.xlabel('Values taken by the last three digits')\n",
    "plt.title('Distribution of occurrences of the last three digits \\n for the 1st motorcycle - Helvetica font', pad=20)\n",
    "    \n",
    "ax2 = fig.add_subplot(142, sharey = ax1)\n",
    "sns.histplot(final_df[final_df['font'] == 'Arial'].baseline_motorcycle1 % 1000, kde=True, label = 'Baseline', bins=20, color = color_palette[19])\n",
    "sns.histplot(final_df[final_df['font'] == 'Arial'].update_motorcycle1 % 1000, kde=True, label='Updated', bins=20, color= color_palette[11])\n",
    "plt.legend()\n",
    "plt.xlabel('Values taken by the last three digits')\n",
    "plt.title('Distribution of occurrences of the last three digits \\n for the 1st motorcycle - Arial font', pad=20)\n",
    "\n",
    "plt.tight_layout()\n",
    "plt.show()"
   ]
  },
  {
   "cell_type": "markdown",
   "metadata": {},
   "source": [
    "We see that the occurance of values near [0,50] for the last three digits only occurs in the baseline contract of the 1st motorcycle (as seen in 6.1) and only in the Arial font. The last three digits of the Helvetica font seems equally distributed ([0,1000]). "
   ]
  },
  {
   "cell_type": "markdown",
   "metadata": {},
   "source": [
    "#### 7.4 Discussion"
   ]
  },
  {
   "cell_type": "markdown",
   "metadata": {},
   "source": [
    "Previously (Task 6), we analysed the values taken by the last three digits of the 1st motorcycle for each policy. We then compared a possible difference between the baseline and the updated contracts. There was a great number of customers that reported low digits ([000,050]) for the baseline, compared to the updated contract. As already stated in 6.3, this could be due to the presence of new customers, and to the fact that humans tend to decrease \"a little bit\" their numbers by decreasing the last three digits (round down to the nearest large number). \n",
    "\n",
    "We then focused on the values taken by the last three digits of the 1st motorcycle in the baseline contract and compared the two fonts. \n",
    "- When rows were written in Arial font, there was this \"natural\" great number of small digits. \n",
    "- Our anonymous source told us that the Helvetica fonts were fabricated. Looking at the Helvetica rows, we see no [000,050] peak. This is strange as we assume most of those customers would also have \"naturally\" round down their kilometrage to the nearest large number. It is also intriguing that so few of them are new customers.\n",
    "\n",
    "As a result, this leads us to believe that the Helvetica fonts were fabricated."
   ]
  },
  {
   "cell_type": "markdown",
   "metadata": {},
   "source": [
    "### Task 8 — 15pts\n",
    "\n",
    "You've had enough! You decide to write an email to your PI (principal investigator, also known as \"your boss\") reporting\n",
    " the oddities you have observed in the data. Write a (brief) text (in markdown) of up to 300 words. Your text should:\n",
    "\n",
    "- Use the analyses you did to make a convincing case that the data has been tampered with. \n",
    "- Grounded in your analyses, provide a plausible hypothesis about how the data has been tampered with.\n",
    "- Discuss whether the data leads to the conclusion that signing at the top decreases dishonesty.\n",
    "\n",
    "Structure your text into three bullets, analogous to the ones above.\n",
    "\n",
    "You can reference images present in the notebook by indicating a task (e.g., image plotted in Task 3.3) or a cell \n",
    "number.\n",
    "\n",
    "Note that you do not need to conduct any additional analysis to write this text. If you do, the code should be at the \n",
    "end of this notebook, i.e., after your answer.\n",
    "\n",
    "---\n",
    "\n",
    "**Hint:** The data has been tampered with in more than one way."
   ]
  },
  {
   "cell_type": "markdown",
   "metadata": {},
   "source": [
    "#### 8.1 Discussion"
   ]
  },
  {
   "cell_type": "markdown",
   "metadata": {},
   "source": [
    "Dear Sir,\n",
    "- An anonymous source contacted us with some hints which later turned out to be correct. Indeed, after analysing the data, three observations lead us to conclude that they had been tampered with. <br> First, in Task 4.6, we have statistical evidence that customers were not randomly distributed between the two conditions ‘Sign Top’ and ‘Sign Bottom’, which is the opposite of what we were told by the company. <br>Then, we observed (in Task 5.3) that the difference between the baseline and the updated contracts was uniformly distributed, contrasting with the expected normal shaped distribution with low tails. <br>Finally, in Task 7, we realised that the text written in Helvetica font was fabricated. Indeed, there was no “low digits’ peak” ([000,050]) in the distribution of the last three digits of the odometer kilometrage of the 1st motorcycle in the baseline contracts.\n",
    "\n",
    "\n",
    "- Therefore, we continued our research. The rows written in Arial seem unmodified, but those customers were not randomly distributed in the two signing conditions. In fact, in the plot below (cell 39), when we separate the Arial font rows depending on the signing condition they were lately assigned to, the [000,050] peak only occurred in the future 'Sign Top' clients. Therefore, it seems that most of the customers that down rounded their kilometrage were later assigned to the ‘Sign Top’ condition. On the other hand, we hypothesise that the Helvetica rows have been manually modified to uniformly distribute the occurrences of those last 3 digits (cell 40). Parallelly, the [000,050] peak is not present in the updated contract either, indicating that we cannot even trust the updated data.\n",
    "\n",
    "\n",
    "- As our data has been tampered with, it is impossible for us to conduct a meaningful study. Therefore, we cannot lead to any conclusion with this dataset.\n",
    "\n",
    "Best,\n",
    "\n",
    "SV4EVER"
   ]
  },
  {
   "cell_type": "code",
   "execution_count": 39,
   "metadata": {},
   "outputs": [
    {
     "data": {
      "image/png": "[encoded data removed]",
      "text/plain": [
       "<Figure size 1944x504 with 2 Axes>"
      ]
     },
     "metadata": {
      "needs_background": "light"
     },
     "output_type": "display_data"
    }
   ],
   "source": [
    "# Baseline contract - 1st motorcycle - Arial font - Distribution of 'Sign Bottom' VS 'Sign Top' condition\n",
    "fig = plt.figure(figsize=(27,7))\n",
    "\n",
    "ax1 = fig.add_subplot(141)\n",
    "sns.histplot(final_df[(final_df['font'] == 'Arial') & (final_df['condition'] == 'Sign Top')].baseline_motorcycle1 % 1000, kde=True, label = 'Baseline', bins=20, color = color_palette[19])\n",
    "plt.legend()\n",
    "plt.xlabel('Values taken by the last three digits')\n",
    "plt.title('Distribution of occurrences of the last three digits for the 1st motorcycle \\n in the baseline contract in Arial font - Sign Top', pad=20)\n",
    "    \n",
    "ax2 = fig.add_subplot(142, sharey = ax1)\n",
    "sns.histplot(final_df[(final_df['font'] == 'Arial') & (final_df['condition'] == 'Sign Bottom')].baseline_motorcycle1 % 1000, kde=True, label = 'Baseline', bins=20, color = color_palette[19])\n",
    "plt.legend()\n",
    "plt.xlabel('Values taken by the last three digits')\n",
    "plt.title('Distribution of occurrences of the last three digits for the 1st motorcycle \\n in the baseline contract in Arial font - Sign Bottom', pad=20)\n",
    "\n",
    "plt.tight_layout()\n",
    "plt.show()"
   ]
  },
  {
   "cell_type": "code",
   "execution_count": 40,
   "metadata": {},
   "outputs": [
    {
     "data": {
      "image/png": "[encoded data removed]",
      "text/plain": [
       "<Figure size 1944x504 with 2 Axes>"
      ]
     },
     "metadata": {
      "needs_background": "light"
     },
     "output_type": "display_data"
    }
   ],
   "source": [
    "# Baseline contract - 1st motorcycle - Helvetica font - Distribution of 'Sign Bottom' VS 'Sign Top' condition\n",
    "fig = plt.figure(figsize=(27,7))\n",
    "\n",
    "ax1 = fig.add_subplot(141)\n",
    "sns.histplot(final_df[(final_df['font'] == 'Helvetica') & (final_df['condition'] == 'Sign Top')].baseline_motorcycle1 % 1000, kde=True, label = 'Baseline', bins=20, color = color_palette[11])\n",
    "plt.legend()\n",
    "plt.xlabel('Values taken by the last three digits')\n",
    "plt.title('Distribution of occurrences of the last three digits for the 1st motorcycle \\n in the baseline contract in Helvetica font - Sign Top', pad=20)\n",
    "    \n",
    "ax2 = fig.add_subplot(142, sharey = ax1)\n",
    "sns.histplot(final_df[(final_df['font'] == 'Helvetica') & (final_df['condition'] == 'Sign Bottom')].baseline_motorcycle1 % 1000, kde=True, label = 'Baseline', bins=20, color = color_palette[11])\n",
    "plt.legend()\n",
    "plt.xlabel('Values taken by the last three digits')\n",
    "plt.title('Distribution of occurrences of the last three digits for the 1st motorcycle \\n in the baseline contract in Helvetica font - Sign Bottom', pad=20)\n",
    "\n",
    "plt.tight_layout()\n",
    "plt.show()"
   ]
  }
 ],
 "metadata": {
  "interpreter": {
   "hash": "e8cb1450d720785ae290871019bd3ddc95818006f215bd3de49aad4a90abd9de"
  },
  "kernelspec": {
   "display_name": "Python 3 (ipykernel)",
   "language": "python",
   "name": "python3"
  },
  "language_info": {
   "codemirror_mode": {
    "name": "ipython",
    "version": 3
   },
   "file_extension": ".py",
   "mimetype": "text/x-python",
   "name": "python",
   "nbconvert_exporter": "python",
   "pygments_lexer": "ipython3",
   "version": "3.8.11"
  },
  "pycharm": {
   "stem_cell": {
    "cell_type": "raw",
    "metadata": {
     "collapsed": false
    },
    "source": []
   }
  }
 },
 "nbformat": 4,
 "nbformat_minor": 4
}
